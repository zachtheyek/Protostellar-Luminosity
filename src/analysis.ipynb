{
  "nbformat": 4,
  "nbformat_minor": 0,
  "metadata": {
    "colab": {
      "name": "analysis.ipynb",
      "provenance": [],
      "collapsed_sections": [],
      "toc_visible": true,
      "background_execution": "on"
    },
    "kernelspec": {
      "name": "python3",
      "display_name": "Python 3"
    },
    "language_info": {
      "name": "python"
    }
  },
  "cells": [
    {
      "cell_type": "markdown",
      "source": [
        "# Import Dependencies\n",
        "\n",
        "Begin by importing the necessary libraries."
      ],
      "metadata": {
        "id": "gpKrICvLOb44"
      }
    },
    {
      "cell_type": "code",
      "source": [
        "# System & OS\n",
        "import os\n",
        "import glob\n",
        "import warnings\n",
        "warnings.filterwarnings('ignore')\n",
        "\n",
        "# Data Storage\n",
        "from google.colab import drive\n",
        "\n",
        "# Data Analysis\n",
        "import pandas as pd\n",
        "from tqdm.notebook import tqdm"
      ],
      "metadata": {
        "id": "TL7oqLvouw6u"
      },
      "execution_count": null,
      "outputs": []
    },
    {
      "cell_type": "markdown",
      "source": [
        "# Mount Storage\n",
        "\n",
        "For simplicity, we keep the data in a Google Drive folder, and simply mount the Google Drive to our Colab instance, as if it were a local file system."
      ],
      "metadata": {
        "id": "sfHlC1z5Oh9L"
      }
    },
    {
      "cell_type": "code",
      "source": [
        "# Mount Google Drive to Colab Instance\n",
        "drive.mount('/content/drive')\n",
        "# Change directory to where the data are stored (old: %cd '/content/drive/MyDrive/Research/Ongoing/Protostellar Luminosity/Data')\n",
        "%cd '/content/drive/MyDrive/Colab Notebooks/Data'"
      ],
      "metadata": {
        "colab": {
          "base_uri": "https://localhost:8080/"
        },
        "id": "o7hF05fPvDqQ",
        "outputId": "e6f4bc84-79e8-40a1-f2c7-869fc4c4724d"
      },
      "execution_count": null,
      "outputs": [
        {
          "output_type": "stream",
          "name": "stdout",
          "text": [
            "Mounted at /content/drive\n",
            "/content/drive/.shortcut-targets-by-id/1EKq5q8_K4j5NQpcWKFDhxA77zKtxtbug/Data\n"
          ]
        }
      ]
    },
    {
      "cell_type": "markdown",
      "source": [
        "# Data Analysis"
      ],
      "metadata": {
        "id": "Q-zP_hlKPTmQ"
      }
    },
    {
      "cell_type": "code",
      "source": [
        "with open('master_file.csv', 'w') as master_file:\n",
        "  master_file.write('Model number, Class, Mass ratio, Timestep, Inclination, Wavelength (cm), Flux (), L_int (Lsun)\\n')\n",
        "master_file.close()"
      ],
      "metadata": {
        "id": "FVLdXkMpvjU4"
      },
      "execution_count": null,
      "outputs": []
    },
    {
      "cell_type": "code",
      "source": [
        "model_num_list = ['01', '02', '10', '13', '14', '15', '16', '17', '18', '19', '20', '21', '22', '23', '24', '25', '26', '27', '28', '30', '31', '32', '33']\n",
        "timesteps = [str(_) for _ in range(2, 96)]\n",
        "inclinations = ['05', '15', '25', '35', '45', '55', '65', '75', '85']"
      ],
      "metadata": {
        "id": "h8dXo4gGvUco"
      },
      "execution_count": null,
      "outputs": []
    },
    {
      "cell_type": "code",
      "source": [
        "# Loop over every model\n",
        "for i, j in enumerate(tqdm(model_num_list)):\n",
        "  # Read in the internal luminosity from the model's luminosities file\n",
        "  df = pd.read_table(f'models/luminosities_model{j}.tbl', \n",
        "                      skiprows=1, \n",
        "                      delim_whitespace=True, \n",
        "                      names=['Time (Myr)',\n",
        "                            'Time-t0 (yr)',\n",
        "                            'L_EtoD (Lsun)',\n",
        "                            'L_DM (Lsun)',\n",
        "                            'L_DtoS (Lsun)',\n",
        "                            'L_EtoS (Lsun)',\n",
        "                            'L_DR (Lsun)',\n",
        "                            'L_PHOT (Lsun)',\n",
        "                            'L_INT (Lsun)'])\n",
        "  lint = df['L_INT (Lsun)']\n",
        "  # Read in the mass of the star, disk, and envelope from the model's parameters file\n",
        "  df = pd.read_table(f'models/model_parameters_model{j}.tbl', \n",
        "                      skiprows=1, \n",
        "                      delim_whitespace=True, \n",
        "                      names=['Time (Myr)',\n",
        "                            'Time-t0 (yr)',\n",
        "                            'Mstar (Msun)',\n",
        "                            'Lstar (Lsun)',\n",
        "                            'Rstar (Rsun)',\n",
        "                            'Tstar (K)',\n",
        "                            'Rdisk_in (AU)',\n",
        "                            'Rdisk_out (AU)',\n",
        "                            'Mdisk (Msun)',\n",
        "                            'Renv_in (AU)',\n",
        "                            'Renv_out (AU)',\n",
        "                            'Menv (Msun)',\n",
        "                            'Omega_0 (1/s)',\n",
        "                            'c_s (cm/s)'])\n",
        "  mStar, mDisk, mEnv = df['Mstar (Msun)'], df['Mdisk (Msun)'], df['Menv (Msun)']\n",
        "  # Open master file to record features\n",
        "  with open('master_file.csv', 'a') as master_file:\n",
        "    # Initialize inner progress bar\n",
        "    with tqdm(total=len(timesteps) * len(inclinations), leave=False) as pbar:\n",
        "      # Loop over every spectrum file\n",
        "      for a, b in enumerate(timesteps):  \n",
        "        for c, d in enumerate(inclinations):\n",
        "          # Check that the spectrum file exists \n",
        "          if os.path.isfile(f'models/run_evolpapiii_newdisk_model{j}/RESULTS/spectrum_{b}_inc{d}.dat'): \n",
        "            # Read in the frequency and flux from the spectrum file\n",
        "            df = pd.read_table(f'models/run_evolpapiii_newdisk_model{j}/RESULTS/spectrum_{b}_inc{d}.dat', \n",
        "                              skiprows=2, \n",
        "                              delim_whitespace=True, \n",
        "                              names=['Frequency',\n",
        "                                     'Flux'])\n",
        "            frequency, flux = df['Frequency'], df['Flux']\n",
        "            # Adjust flux data to be consistent with Dunham's previous work\n",
        "            flux = [val * frequency[idx] * (1.0 / 140.0)**2 for idx, val in enumerate(flux)]\n",
        "            # Compute the internal vs final mass ratio\n",
        "            mass_ratio = (mStar[a + 1] + mDisk[a + 1]) / (mStar[a + 1] + mDisk[a + 1] + mEnv[a + 1])\n",
        "            # We define class 1 to be when the mass_ratio >= 0.5\n",
        "            class_split = 1 if mass_ratio >= 0.5 else 0\n",
        "            # Loop over all frequencies\n",
        "            for e, f in enumerate(frequency):\n",
        "              # Write our results to the master file\n",
        "              master_file.write(f'{j}, {class_split}, {mass_ratio}, {b}, {d}, {2.99792458e10 / f}, {flux[e]}, {lint[a + 1]}\\n')\n",
        "          # Update inner progress bar\n",
        "          pbar.update(1)\n",
        "  master_file.close()"
      ],
      "metadata": {
        "colab": {
          "base_uri": "https://localhost:8080/",
          "height": 236
        },
        "id": "FSuyCsfhJ5wk",
        "outputId": "914243d0-986b-423d-bd38-3c386d8c9ace"
      },
      "execution_count": null,
      "outputs": [
        {
          "output_type": "error",
          "ename": "NameError",
          "evalue": "ignored",
          "traceback": [
            "\u001b[0;31m---------------------------------------------------------------------------\u001b[0m",
            "\u001b[0;31mNameError\u001b[0m                                 Traceback (most recent call last)",
            "\u001b[0;32m<ipython-input-5-f14c4089c440>\u001b[0m in \u001b[0;36m<module>\u001b[0;34m()\u001b[0m\n\u001b[1;32m      1\u001b[0m \u001b[0;31m# Loop over every model\u001b[0m\u001b[0;34m\u001b[0m\u001b[0;34m\u001b[0m\u001b[0;34m\u001b[0m\u001b[0m\n\u001b[0;32m----> 2\u001b[0;31m \u001b[0;32mfor\u001b[0m \u001b[0mi\u001b[0m\u001b[0;34m,\u001b[0m \u001b[0mj\u001b[0m \u001b[0;32min\u001b[0m \u001b[0menumerate\u001b[0m\u001b[0;34m(\u001b[0m\u001b[0mtqdm\u001b[0m\u001b[0;34m(\u001b[0m\u001b[0mmodel_num_list\u001b[0m\u001b[0;34m)\u001b[0m\u001b[0;34m)\u001b[0m\u001b[0;34m:\u001b[0m\u001b[0;34m\u001b[0m\u001b[0;34m\u001b[0m\u001b[0m\n\u001b[0m\u001b[1;32m      3\u001b[0m   \u001b[0;31m# Read in the internal luminosity from the model's luminosities file\u001b[0m\u001b[0;34m\u001b[0m\u001b[0;34m\u001b[0m\u001b[0;34m\u001b[0m\u001b[0m\n\u001b[1;32m      4\u001b[0m   df = pd.read_table(f'models/luminosities_model{j}.tbl', \n\u001b[1;32m      5\u001b[0m                       \u001b[0mskiprows\u001b[0m\u001b[0;34m=\u001b[0m\u001b[0;36m1\u001b[0m\u001b[0;34m,\u001b[0m\u001b[0;34m\u001b[0m\u001b[0;34m\u001b[0m\u001b[0m\n",
            "\u001b[0;31mNameError\u001b[0m: name 'tqdm' is not defined"
          ]
        }
      ]
    }
  ]
}