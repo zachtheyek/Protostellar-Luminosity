{
 "cells": [
  {
   "cell_type": "code",
   "execution_count": 1,
   "metadata": {},
   "outputs": [],
   "source": [
    "%matplotlib inline"
   ]
  },
  {
   "cell_type": "markdown",
   "metadata": {},
   "source": [
    "# Introduction\n",
    "\n",
    "In `3_compare_classes.ipynb`, we found that the original correlation presented in [Dunham _et. al._ (2008)](https://ui.adsabs.harvard.edu/abs/2008ApJS..179..249D/abstract) degrades slightly for older (class 1) protostars, while in `4_optimal_wavelength.ipynb`, we introduced a wavelength range for observing protostellar targets, where the derived correlation between flux and internal luminosity remains sufficiently strong. However, in the years proceeding 2008, we've observed astronomers misuse the original 70 micron correlation, widely applying it to non-class 0 protostars. Hence, in this notebook, we aim to quantify the error introduced should one use the original correlation instead of our own. \n",
    "\n",
    "For clarity, we'll refer to the original correlation as `dfit` (a.k.a. Dunham's fit), and the updated correlation as `yfit` (a.k.a. Yek's fit)."
   ]
  },
  {
   "cell_type": "markdown",
   "metadata": {},
   "source": [
    "# Import Dependencies"
   ]
  },
  {
   "cell_type": "code",
   "execution_count": 2,
   "metadata": {},
   "outputs": [],
   "source": [
    "# System & OS\n",
    "import warnings\n",
    "warnings.filterwarnings('ignore')\n",
    "\n",
    "# Data Analysis\n",
    "import numpy as np\n",
    "import pandas as pd\n",
    "\n",
    "# Data Visualization\n",
    "import matplotlib.pyplot as plt\n",
    "import seaborn as sns\n",
    "sns.set()\n",
    "sns.set_style('darkgrid')"
   ]
  },
  {
   "cell_type": "markdown",
   "metadata": {},
   "source": [
    "# Mount Storage\n",
    "\n",
    "`cd` to the `data/` directory."
   ]
  },
  {
   "cell_type": "code",
   "execution_count": 3,
   "metadata": {},
   "outputs": [
    {
     "name": "stdout",
     "output_type": "stream",
     "text": [
      "/Users/zach/Documents/Python/Protostellar-Luminosity/data\n"
     ]
    }
   ],
   "source": [
    "%cd '../data/'"
   ]
  },
  {
   "cell_type": "markdown",
   "metadata": {},
   "source": [
    "# Feature Engineering\n",
    "\n",
    "Read in our results from `2_linear_regression.ipynb`, only selecting the data closest to 70 microns."
   ]
  },
  {
   "cell_type": "code",
   "execution_count": 4,
   "metadata": {},
   "outputs": [
    {
     "data": {
      "text/html": [
       "<div>\n",
       "<style scoped>\n",
       "    .dataframe tbody tr th:only-of-type {\n",
       "        vertical-align: middle;\n",
       "    }\n",
       "\n",
       "    .dataframe tbody tr th {\n",
       "        vertical-align: top;\n",
       "    }\n",
       "\n",
       "    .dataframe thead th {\n",
       "        text-align: right;\n",
       "    }\n",
       "</style>\n",
       "<table border=\"1\" class=\"dataframe\">\n",
       "  <thead>\n",
       "    <tr style=\"text-align: right;\">\n",
       "      <th></th>\n",
       "      <th>Class</th>\n",
       "      <th>Wavelength (microns)</th>\n",
       "      <th>Slope</th>\n",
       "      <th>Unc_slope</th>\n",
       "      <th>Intercept</th>\n",
       "      <th>Unc_intercept</th>\n",
       "      <th>Reduced chi-squared (linear space)</th>\n",
       "      <th>Reduced chi-squared (log10 space)</th>\n",
       "      <th>Correlation coefficient (linear space)</th>\n",
       "      <th>Correlation coefficient (log10 space)</th>\n",
       "    </tr>\n",
       "  </thead>\n",
       "  <tbody>\n",
       "    <tr>\n",
       "      <th>104</th>\n",
       "      <td>0</td>\n",
       "      <td>73.570602</td>\n",
       "      <td>0.991177</td>\n",
       "      <td>0.001600</td>\n",
       "      <td>-9.123577</td>\n",
       "      <td>0.002088</td>\n",
       "      <td>nan</td>\n",
       "      <td>-28.963521</td>\n",
       "      <td>0.919712</td>\n",
       "      <td>0.982471</td>\n",
       "    </tr>\n",
       "    <tr>\n",
       "      <th>105</th>\n",
       "      <td>1a</td>\n",
       "      <td>73.570602</td>\n",
       "      <td>1.051372</td>\n",
       "      <td>0.002000</td>\n",
       "      <td>-9.460327</td>\n",
       "      <td>0.002296</td>\n",
       "      <td>nan</td>\n",
       "      <td>-165.302103</td>\n",
       "      <td>0.856317</td>\n",
       "      <td>0.945712</td>\n",
       "    </tr>\n",
       "    <tr>\n",
       "      <th>106</th>\n",
       "      <td>1b</td>\n",
       "      <td>73.570602</td>\n",
       "      <td>1.022947</td>\n",
       "      <td>0.001951</td>\n",
       "      <td>-9.593142</td>\n",
       "      <td>0.001472</td>\n",
       "      <td>nan</td>\n",
       "      <td>-127.579043</td>\n",
       "      <td>0.965017</td>\n",
       "      <td>0.945657</td>\n",
       "    </tr>\n",
       "    <tr>\n",
       "      <th>107</th>\n",
       "      <td>All</td>\n",
       "      <td>73.570602</td>\n",
       "      <td>1.107987</td>\n",
       "      <td>0.001333</td>\n",
       "      <td>-9.520574</td>\n",
       "      <td>0.001383</td>\n",
       "      <td>nan</td>\n",
       "      <td>-514.076791</td>\n",
       "      <td>0.797523</td>\n",
       "      <td>0.947305</td>\n",
       "    </tr>\n",
       "  </tbody>\n",
       "</table>\n",
       "</div>"
      ],
      "text/plain": [
       "    Class  Wavelength (microns)     Slope  Unc_slope  Intercept  \\\n",
       "104     0             73.570602  0.991177   0.001600  -9.123577   \n",
       "105    1a             73.570602  1.051372   0.002000  -9.460327   \n",
       "106    1b             73.570602  1.022947   0.001951  -9.593142   \n",
       "107   All             73.570602  1.107987   0.001333  -9.520574   \n",
       "\n",
       "     Unc_intercept Reduced chi-squared (linear space)  \\\n",
       "104       0.002088                                nan   \n",
       "105       0.002296                                nan   \n",
       "106       0.001472                                nan   \n",
       "107       0.001383                                nan   \n",
       "\n",
       "     Reduced chi-squared (log10 space)  \\\n",
       "104                         -28.963521   \n",
       "105                        -165.302103   \n",
       "106                        -127.579043   \n",
       "107                        -514.076791   \n",
       "\n",
       "     Correlation coefficient (linear space)  \\\n",
       "104                                0.919712   \n",
       "105                                0.856317   \n",
       "106                                0.965017   \n",
       "107                                0.797523   \n",
       "\n",
       "     Correlation coefficient (log10 space)  \n",
       "104                               0.982471  \n",
       "105                               0.945712  \n",
       "106                               0.945657  \n",
       "107                               0.947305  "
      ]
     },
     "execution_count": 4,
     "metadata": {},
     "output_type": "execute_result"
    }
   ],
   "source": [
    "# Read in linear coefficients\n",
    "coef = pd.read_csv('lin_coef.csv', skiprows=1, names=['Class', \n",
    "                                                      'Wavelength (microns)', \n",
    "                                                      'Slope', \n",
    "                                                      'Unc_slope', \n",
    "                                                      'Intercept', \n",
    "                                                      'Unc_intercept'])\n",
    "# Read in correlation metrics\n",
    "corr = pd.read_csv('corr_coef.csv', skiprows=1, names=['Class', \n",
    "                                                       'Wavelength (microns)', \n",
    "                                                       'Reduced chi-squared (linear space)', \n",
    "                                                       'Reduced chi-squared (log10 space)', \n",
    "                                                       'Correlation coefficient (linear space)', \n",
    "                                                       'Correlation coefficient (log10 space)'])\n",
    "\n",
    "# Merge the two dataframes along the class and wavelength columns\n",
    "df = pd.merge(coef, corr, on=['Class', 'Wavelength (microns)'])\n",
    "# Drop the rows with all wavelengths\n",
    "df.drop(index=[400, 401, 402, 403], inplace=True)\n",
    "# Typecast wavelength column to float\n",
    "df['Wavelength (microns)'] = df['Wavelength (microns)'].apply(lambda x: float(x))\n",
    "# Retrive rows with wavelength closest to 70 microns\n",
    "df = df[np.isclose(df['Wavelength (microns)'], 7.35706025e+01)]\n",
    "df"
   ]
  },
  {
   "cell_type": "markdown",
   "metadata": {},
   "source": [
    "Also load the results from `1_model_analysis.ipynb` closest to 70 microns."
   ]
  },
  {
   "cell_type": "code",
   "execution_count": 5,
   "metadata": {},
   "outputs": [
    {
     "data": {
      "text/html": [
       "<div>\n",
       "<style scoped>\n",
       "    .dataframe tbody tr th:only-of-type {\n",
       "        vertical-align: middle;\n",
       "    }\n",
       "\n",
       "    .dataframe tbody tr th {\n",
       "        vertical-align: top;\n",
       "    }\n",
       "\n",
       "    .dataframe thead th {\n",
       "        text-align: right;\n",
       "    }\n",
       "</style>\n",
       "<table border=\"1\" class=\"dataframe\">\n",
       "  <thead>\n",
       "    <tr style=\"text-align: right;\">\n",
       "      <th></th>\n",
       "      <th>Class</th>\n",
       "      <th>Wavelength (microns)</th>\n",
       "      <th>Flux</th>\n",
       "      <th>L_int</th>\n",
       "    </tr>\n",
       "  </thead>\n",
       "  <tbody>\n",
       "    <tr>\n",
       "      <th>0</th>\n",
       "      <td>0</td>\n",
       "      <td>73.570602</td>\n",
       "      <td>0.0</td>\n",
       "      <td>2.0869</td>\n",
       "    </tr>\n",
       "    <tr>\n",
       "      <th>1</th>\n",
       "      <td>0</td>\n",
       "      <td>73.570602</td>\n",
       "      <td>0.0</td>\n",
       "      <td>2.0869</td>\n",
       "    </tr>\n",
       "    <tr>\n",
       "      <th>2</th>\n",
       "      <td>0</td>\n",
       "      <td>73.570602</td>\n",
       "      <td>0.0</td>\n",
       "      <td>2.0869</td>\n",
       "    </tr>\n",
       "    <tr>\n",
       "      <th>3</th>\n",
       "      <td>0</td>\n",
       "      <td>73.570602</td>\n",
       "      <td>0.0</td>\n",
       "      <td>2.0869</td>\n",
       "    </tr>\n",
       "    <tr>\n",
       "      <th>4</th>\n",
       "      <td>0</td>\n",
       "      <td>73.570602</td>\n",
       "      <td>0.0</td>\n",
       "      <td>2.0869</td>\n",
       "    </tr>\n",
       "    <tr>\n",
       "      <th>...</th>\n",
       "      <td>...</td>\n",
       "      <td>...</td>\n",
       "      <td>...</td>\n",
       "      <td>...</td>\n",
       "    </tr>\n",
       "    <tr>\n",
       "      <th>78960</th>\n",
       "      <td>1b</td>\n",
       "      <td>73.570602</td>\n",
       "      <td>0.0</td>\n",
       "      <td>5.9644</td>\n",
       "    </tr>\n",
       "    <tr>\n",
       "      <th>78961</th>\n",
       "      <td>1b</td>\n",
       "      <td>73.570602</td>\n",
       "      <td>0.0</td>\n",
       "      <td>5.9644</td>\n",
       "    </tr>\n",
       "    <tr>\n",
       "      <th>78962</th>\n",
       "      <td>1b</td>\n",
       "      <td>73.570602</td>\n",
       "      <td>0.0</td>\n",
       "      <td>5.9644</td>\n",
       "    </tr>\n",
       "    <tr>\n",
       "      <th>78963</th>\n",
       "      <td>1b</td>\n",
       "      <td>73.570602</td>\n",
       "      <td>0.0</td>\n",
       "      <td>5.9644</td>\n",
       "    </tr>\n",
       "    <tr>\n",
       "      <th>78964</th>\n",
       "      <td>1b</td>\n",
       "      <td>73.570602</td>\n",
       "      <td>0.0</td>\n",
       "      <td>5.9644</td>\n",
       "    </tr>\n",
       "  </tbody>\n",
       "</table>\n",
       "<p>78965 rows × 4 columns</p>\n",
       "</div>"
      ],
      "text/plain": [
       "      Class Wavelength (microns) Flux   L_int\n",
       "0         0            73.570602  0.0  2.0869\n",
       "1         0            73.570602  0.0  2.0869\n",
       "2         0            73.570602  0.0  2.0869\n",
       "3         0            73.570602  0.0  2.0869\n",
       "4         0            73.570602  0.0  2.0869\n",
       "...     ...                  ...  ...     ...\n",
       "78960    1b            73.570602  0.0  5.9644\n",
       "78961    1b            73.570602  0.0  5.9644\n",
       "78962    1b            73.570602  0.0  5.9644\n",
       "78963    1b            73.570602  0.0  5.9644\n",
       "78964    1b            73.570602  0.0  5.9644\n",
       "\n",
       "[78965 rows x 4 columns]"
      ]
     },
     "execution_count": 5,
     "metadata": {},
     "output_type": "execute_result"
    }
   ],
   "source": [
    "ndarray = np.load('70_micron_data.npy', allow_pickle=True)\n",
    "data = pd.DataFrame(ndarray, columns=['Class', 'Wavelength (microns)', 'Flux', 'L_int'])\n",
    "data"
   ]
  },
  {
   "cell_type": "markdown",
   "metadata": {},
   "source": [
    "# Data Analysis"
   ]
  },
  {
   "cell_type": "code",
   "execution_count": 6,
   "metadata": {},
   "outputs": [
    {
     "data": {
      "image/png": "[encoded data removed]",
      "text/plain": [
       "<Figure size 1008x432 with 3 Axes>"
      ]
     },
     "metadata": {},
     "output_type": "display_data"
    }
   ],
   "source": [
    "# Create 3-figure plot\n",
    "fig, ax = plt.subplots(1, 3, figsize=(14, 6), sharey=True)\n",
    "# Set title\n",
    "fig.suptitle('Measured Flux vs Internal Luminosity: 7.36e+1 microns')\n",
    "# Customize shared y-axis\n",
    "ax[0].set_ylabel('Flux (erg cm$^{-2}$ s$^{-1}$)')\n",
    "ax[0].set_yscale('log')\n",
    "ax[0].set_ylim([1e-11, 1e-5])\n",
    "# Map class name to subplot position\n",
    "class_map = {'0': 0, '1a': 1, '1b': 2}\n",
    "for class_name in class_map:\n",
    "    # Extract internal luminosity data for this class\n",
    "    x = data[data['Class'] == class_name]['L_int']\n",
    "    # Compute measured flux from Dunham's fit\n",
    "    m, b = 1.06, -9.02\n",
    "    y = 10**b * x**m\n",
    "    # Plot data\n",
    "    index = class_map[class_name]\n",
    "    ax[index].scatter(x, y, s=9, marker='+')\n",
    "    # Customize subplot\n",
    "    ax[index].set_title(f'Class {class_name}')\n",
    "    ax[index].set_xlabel('Internal Luminosity (L$_\\odot$)')\n",
    "    ax[index].set_xscale('log')\n",
    "    ax[index].set_xlim([1e-2, 1e4])\n",
    "# Save figure\n",
    "plt.savefig(f'Figures/dfit.eps', format='eps', dpi=1200)\n",
    "plt.savefig(f'../src/images/dfit.jpg', format='jpg')\n",
    "plt.show()"
   ]
  },
  {
   "cell_type": "code",
   "execution_count": 7,
   "metadata": {},
   "outputs": [
    {
     "data": {
      "image/png": "[encoded data removed]",
      "text/plain": [
       "<Figure size 1008x432 with 3 Axes>"
      ]
     },
     "metadata": {},
     "output_type": "display_data"
    }
   ],
   "source": [
    "# Create 3-figure plot\n",
    "fig, ax = plt.subplots(1, 3, figsize=(14, 6), sharey=True)\n",
    "# Set title\n",
    "fig.suptitle('Expected Flux vs Internal Luminosity: 7.36e+1 microns')\n",
    "# Customize shared y-axis\n",
    "ax[0].set_ylabel('Flux (erg cm$^{-2}$ s$^{-1}$)')\n",
    "ax[0].set_yscale('log')\n",
    "ax[0].set_ylim([1e-11, 1e-5])\n",
    "# Map class name to subplot position\n",
    "class_map = {'0': 0, '1a': 1, '1b': 2}\n",
    "for class_name in class_map:\n",
    "    # Extract internal luminosity data for this class\n",
    "    x = data[data['Class'] == class_name]['L_int']\n",
    "    # Extract linear coefficients for this class\n",
    "    m, b = df[df['Class'] == class_name]['Slope'].values[0], df[df['Class'] == class_name]['Intercept'].values[0]\n",
    "    # Compute expected flux from linear fit\n",
    "    y = 10**b * x**m\n",
    "    # Plot data\n",
    "    index = class_map[class_name]\n",
    "    ax[index].scatter(x, y, s=9, marker='+')\n",
    "    # Customize subplot\n",
    "    ax[index].set_title(f'Class {class_name}')\n",
    "    ax[index].set_xlabel('Internal Luminosity (L$_\\odot$)')\n",
    "    ax[index].set_xscale('log')\n",
    "    ax[index].set_xlim([1e-2, 1e4])\n",
    "# Save figure\n",
    "plt.savefig(f'Figures/yfit.eps', format='eps', dpi=1200)\n",
    "plt.savefig(f'../src/images/yfit.jpg', format='jpg')\n",
    "plt.show()"
   ]
  },
  {
   "cell_type": "code",
   "execution_count": 8,
   "metadata": {},
   "outputs": [
    {
     "data": {
      "image/png": "[encoded data removed]",
      "text/plain": [
       "<Figure size 1008x432 with 3 Axes>"
      ]
     },
     "metadata": {},
     "output_type": "display_data"
    }
   ],
   "source": [
    "# Create 3-figure plot\n",
    "fig, ax = plt.subplots(1, 3, figsize=(14, 6), sharey=True)\n",
    "# Set title\n",
    "fig.suptitle('Error vs Expected Flux: 7.36e+1 microns')\n",
    "# Customize shared y-axis\n",
    "ax[0].set_ylabel('Error')\n",
    "# Map class name to subplot position\n",
    "class_map = {'0': 0, '1a': 1, '1b': 2}\n",
    "for class_name in class_map:\n",
    "    # Extract internal luminosity data for this class\n",
    "    x = data[data['Class'] == class_name]['L_int']\n",
    "    # Extract linear coefficients for this class\n",
    "    m, b = df[df['Class'] == class_name]['Slope'].values[0], df[df['Class'] == class_name]['Intercept'].values[0]\n",
    "    # Compute expected flux from linear fit\n",
    "    yfit = 10**b * x**m\n",
    "    # Compute measured flux from Dunham's fit\n",
    "    dfit = 10**-9.02 * x**1.06\n",
    "    # Calculate error\n",
    "    error = dfit / yfit\n",
    "    # Plot data\n",
    "    index = class_map[class_name]\n",
    "    ax[index].scatter(yfit, error, s=9, marker='+')\n",
    "    # Customize subplot\n",
    "    ax[index].set_title(f'Class {class_name}')\n",
    "    ax[index].set_xlabel('Flux (erg cm$^{-2}$ s$^{-1}$)')\n",
    "    ax[index].set_xscale('log')\n",
    "    ax[index].set_xlim([1e-11, 1e-5])\n",
    "# Save figure\n",
    "plt.savefig(f'Figures/error.eps', format='eps', dpi=1200)\n",
    "plt.savefig(f'../src/images/error.jpg', format='jpg')\n",
    "plt.show()"
   ]
  }
 ],
 "metadata": {
  "kernelspec": {
   "display_name": "Python 3.8.11 ('base')",
   "language": "python",
   "name": "python3"
  },
  "language_info": {
   "codemirror_mode": {
    "name": "ipython",
    "version": 3
   },
   "file_extension": ".py",
   "mimetype": "text/x-python",
   "name": "python",
   "nbconvert_exporter": "python",
   "pygments_lexer": "ipython3",
   "version": "3.8.11"
  },
  "orig_nbformat": 4,
  "vscode": {
   "interpreter": {
    "hash": "40d3a090f54c6569ab1632332b64b2c03c39dcf918b08424e98f38b5ae0af88f"
   }
  }
 },
 "nbformat": 4,
 "nbformat_minor": 2
}
