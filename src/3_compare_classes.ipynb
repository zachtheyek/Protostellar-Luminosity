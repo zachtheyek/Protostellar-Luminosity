{
 "cells": [
  {
   "cell_type": "code",
   "execution_count": 1,
   "metadata": {},
   "outputs": [],
   "source": [
    "%matplotlib inline"
   ]
  },
  {
   "cell_type": "markdown",
   "metadata": {},
   "source": [
    "# Introduction\n",
    "\n",
    "In this notebook, we aim to verify the derived correlation between flux and internal luminosity at 70 microns, first presented in section 3.2 of [Dunham _et. al._ (2008)](https://ui.adsabs.harvard.edu/abs/2008ApJS..179..249D/abstract). The motivation behind this work stems from the observation that the correlation was only derived for protostars whose envelopes' variable masses are between 1-10 solar masses, $$\\begin{align*}1~\\text{M}_\\odot\\leq M_\\text{env}\\leq10~\\text{M}_\\odot\\end{align*}$$ implying that the study failed to consider protostars whose cores contain less than 1 solar mass. In other words, it was only tested for younger protostars whose mass distribution was still heavily centered around their surrounding envelopes. Hence, we propose to extend our considerations accordingly, to determine if the correlation still holds."
   ]
  },
  {
   "cell_type": "markdown",
   "metadata": {},
   "source": [
    "# Import Dependencies"
   ]
  },
  {
   "cell_type": "code",
   "execution_count": 2,
   "metadata": {},
   "outputs": [],
   "source": [
    "# System & OS\n",
    "import warnings\n",
    "warnings.filterwarnings('ignore')\n",
    "\n",
    "# Data Analysis\n",
    "import pandas as pd\n",
    "\n",
    "# Data Visualization\n",
    "import matplotlib.pyplot as plt\n",
    "\n",
    "# Utility Functions\n",
    "from utils import *"
   ]
  },
  {
   "cell_type": "markdown",
   "metadata": {},
   "source": [
    "# Mount Storage\n",
    "\n",
    "First, `cd` to the `data/` directory."
   ]
  },
  {
   "cell_type": "code",
   "execution_count": 3,
   "metadata": {},
   "outputs": [
    {
     "name": "stdout",
     "output_type": "stream",
     "text": [
      "/Users/zach/Documents/Python/Protostellar-Luminosity/data\n"
     ]
    }
   ],
   "source": [
    "%cd '../data/'"
   ]
  },
  {
   "cell_type": "markdown",
   "metadata": {},
   "source": [
    "# Data Analysis"
   ]
  },
  {
   "cell_type": "markdown",
   "metadata": {},
   "source": [
    "Then, read in our previous results."
   ]
  },
  {
   "cell_type": "code",
   "execution_count": 27,
   "metadata": {},
   "outputs": [],
   "source": [
    "coef = pd.read_csv('lin_coef.csv', skiprows=1, names=['Class', \n",
    "                                                      'Wavelength (microns)', \n",
    "                                                      'Slope', \n",
    "                                                      'Unc_slope', \n",
    "                                                      'Intercept', \n",
    "                                                      'Unc_intercept'])\n",
    "coef"
   ]
  },
  {
   "cell_type": "code",
   "execution_count": null,
   "metadata": {},
   "outputs": [],
   "source": [
    "corr = pd.read_csv('corr_coef.csv', skiprows=1, names=['Class', \n",
    "                                                       'Wavelength (microns)', \n",
    "                                                       'Reduced chi-squared (linear space)', \n",
    "                                                       'Reduced chi-squared (log10 space)', \n",
    "                                                       'Correlation coefficient (linear space)', \n",
    "                                                       'Correlation coefficient (log10 space)'])\n",
    "corr"
   ]
  },
  {
   "cell_type": "code",
   "execution_count": 28,
   "metadata": {},
   "outputs": [
    {
     "data": {
      "text/html": [
       "<div>\n",
       "<style scoped>\n",
       "    .dataframe tbody tr th:only-of-type {\n",
       "        vertical-align: middle;\n",
       "    }\n",
       "\n",
       "    .dataframe tbody tr th {\n",
       "        vertical-align: top;\n",
       "    }\n",
       "\n",
       "    .dataframe thead th {\n",
       "        text-align: right;\n",
       "    }\n",
       "</style>\n",
       "<table border=\"1\" class=\"dataframe\">\n",
       "  <thead>\n",
       "    <tr style=\"text-align: right;\">\n",
       "      <th></th>\n",
       "      <th>Class</th>\n",
       "      <th>Wavelength (microns)</th>\n",
       "      <th>Slope</th>\n",
       "      <th>Unc_slope</th>\n",
       "      <th>Intercept</th>\n",
       "      <th>Unc_intercept</th>\n",
       "    </tr>\n",
       "  </thead>\n",
       "  <tbody>\n",
       "    <tr>\n",
       "      <th>0</th>\n",
       "      <td>0</td>\n",
       "      <td>36000.29516661664</td>\n",
       "      <td>1.377430e-21</td>\n",
       "      <td>5.070542e-19</td>\n",
       "      <td>2.153766e-23</td>\n",
       "      <td>2.336238e-21</td>\n",
       "    </tr>\n",
       "    <tr>\n",
       "      <th>1</th>\n",
       "      <td>1a</td>\n",
       "      <td>36000.29516661664</td>\n",
       "      <td>6.191534e-23</td>\n",
       "      <td>3.774842e-19</td>\n",
       "      <td>9.385146e-25</td>\n",
       "      <td>1.078657e-21</td>\n",
       "    </tr>\n",
       "    <tr>\n",
       "      <th>2</th>\n",
       "      <td>1b</td>\n",
       "      <td>36000.29516661664</td>\n",
       "      <td>1.753754e-21</td>\n",
       "      <td>1.907709e-19</td>\n",
       "      <td>2.015349e-23</td>\n",
       "      <td>6.433861e-22</td>\n",
       "    </tr>\n",
       "    <tr>\n",
       "      <th>3</th>\n",
       "      <td>0 &amp; 1</td>\n",
       "      <td>36000.29516661664</td>\n",
       "      <td>7.099818e-23</td>\n",
       "      <td>3.381002e-19</td>\n",
       "      <td>1.106404e-24</td>\n",
       "      <td>8.193271e-22</td>\n",
       "    </tr>\n",
       "    <tr>\n",
       "      <th>4</th>\n",
       "      <td>0</td>\n",
       "      <td>24000.196777744422</td>\n",
       "      <td>9.886612e-21</td>\n",
       "      <td>3.456221e-18</td>\n",
       "      <td>1.192601e-22</td>\n",
       "      <td>1.293641e-20</td>\n",
       "    </tr>\n",
       "    <tr>\n",
       "      <th>...</th>\n",
       "      <td>...</td>\n",
       "      <td>...</td>\n",
       "      <td>...</td>\n",
       "      <td>...</td>\n",
       "      <td>...</td>\n",
       "      <td>...</td>\n",
       "    </tr>\n",
       "    <tr>\n",
       "      <th>399</th>\n",
       "      <td>0 &amp; 1</td>\n",
       "      <td>0.050000409953634216</td>\n",
       "      <td>8.795326e-18</td>\n",
       "      <td>1.399557e-15</td>\n",
       "      <td>5.391393e-19</td>\n",
       "      <td>4.715251e-16</td>\n",
       "    </tr>\n",
       "    <tr>\n",
       "      <th>400</th>\n",
       "      <td>0</td>\n",
       "      <td>All</td>\n",
       "      <td>1.384786e-10</td>\n",
       "      <td>-2.420337e-10</td>\n",
       "      <td>2.063053e-13</td>\n",
       "      <td>2.275860e-11</td>\n",
       "    </tr>\n",
       "    <tr>\n",
       "      <th>401</th>\n",
       "      <td>1</td>\n",
       "      <td>All</td>\n",
       "      <td>1.005031e-10</td>\n",
       "      <td>1.139198e-09</td>\n",
       "      <td>8.040971e-14</td>\n",
       "      <td>9.289510e-11</td>\n",
       "    </tr>\n",
       "    <tr>\n",
       "      <th>402</th>\n",
       "      <td>1</td>\n",
       "      <td>All</td>\n",
       "      <td>1.415745e-10</td>\n",
       "      <td>-2.686510e-11</td>\n",
       "      <td>8.771902e-14</td>\n",
       "      <td>2.817158e-12</td>\n",
       "    </tr>\n",
       "    <tr>\n",
       "      <th>403</th>\n",
       "      <td>0 &amp; 1</td>\n",
       "      <td>All</td>\n",
       "      <td>1.006698e-10</td>\n",
       "      <td>8.259329e-10</td>\n",
       "      <td>5.196467e-14</td>\n",
       "      <td>3.878544e-11</td>\n",
       "    </tr>\n",
       "  </tbody>\n",
       "</table>\n",
       "<p>404 rows × 6 columns</p>\n",
       "</div>"
      ],
      "text/plain": [
       "     Class   Wavelength (microns)         Slope     Unc_slope     Intercept  \\\n",
       "0        0      36000.29516661664  1.377430e-21  5.070542e-19  2.153766e-23   \n",
       "1       1a      36000.29516661664  6.191534e-23  3.774842e-19  9.385146e-25   \n",
       "2       1b      36000.29516661664  1.753754e-21  1.907709e-19  2.015349e-23   \n",
       "3    0 & 1      36000.29516661664  7.099818e-23  3.381002e-19  1.106404e-24   \n",
       "4        0     24000.196777744422  9.886612e-21  3.456221e-18  1.192601e-22   \n",
       "..     ...                    ...           ...           ...           ...   \n",
       "399  0 & 1   0.050000409953634216  8.795326e-18  1.399557e-15  5.391393e-19   \n",
       "400      0                    All  1.384786e-10 -2.420337e-10  2.063053e-13   \n",
       "401      1                    All  1.005031e-10  1.139198e-09  8.040971e-14   \n",
       "402      1                    All  1.415745e-10 -2.686510e-11  8.771902e-14   \n",
       "403  0 & 1                    All  1.006698e-10  8.259329e-10  5.196467e-14   \n",
       "\n",
       "     Unc_intercept  \n",
       "0     2.336238e-21  \n",
       "1     1.078657e-21  \n",
       "2     6.433861e-22  \n",
       "3     8.193271e-22  \n",
       "4     1.293641e-20  \n",
       "..             ...  \n",
       "399   4.715251e-16  \n",
       "400   2.275860e-11  \n",
       "401   9.289510e-11  \n",
       "402   2.817158e-12  \n",
       "403   3.878544e-11  \n",
       "\n",
       "[404 rows x 6 columns]"
      ]
     },
     "execution_count": 28,
     "metadata": {},
     "output_type": "execute_result"
    }
   ],
   "source": [
    "coef"
   ]
  },
  {
   "cell_type": "code",
   "execution_count": 29,
   "metadata": {},
   "outputs": [
    {
     "data": {
      "text/html": [
       "<div>\n",
       "<style scoped>\n",
       "    .dataframe tbody tr th:only-of-type {\n",
       "        vertical-align: middle;\n",
       "    }\n",
       "\n",
       "    .dataframe tbody tr th {\n",
       "        vertical-align: top;\n",
       "    }\n",
       "\n",
       "    .dataframe thead th {\n",
       "        text-align: right;\n",
       "    }\n",
       "</style>\n",
       "<table border=\"1\" class=\"dataframe\">\n",
       "  <thead>\n",
       "    <tr style=\"text-align: right;\">\n",
       "      <th></th>\n",
       "      <th>Class</th>\n",
       "      <th>Wavelength (microns)</th>\n",
       "      <th>Slope</th>\n",
       "      <th>Unc_slope</th>\n",
       "      <th>Intercept</th>\n",
       "      <th>Unc_intercept</th>\n",
       "    </tr>\n",
       "  </thead>\n",
       "  <tbody>\n",
       "    <tr>\n",
       "      <th>400</th>\n",
       "      <td>0</td>\n",
       "      <td>All</td>\n",
       "      <td>1.384786e-10</td>\n",
       "      <td>-2.420337e-10</td>\n",
       "      <td>2.063053e-13</td>\n",
       "      <td>2.275860e-11</td>\n",
       "    </tr>\n",
       "    <tr>\n",
       "      <th>401</th>\n",
       "      <td>1</td>\n",
       "      <td>All</td>\n",
       "      <td>1.005031e-10</td>\n",
       "      <td>1.139198e-09</td>\n",
       "      <td>8.040971e-14</td>\n",
       "      <td>9.289510e-11</td>\n",
       "    </tr>\n",
       "    <tr>\n",
       "      <th>402</th>\n",
       "      <td>1</td>\n",
       "      <td>All</td>\n",
       "      <td>1.415745e-10</td>\n",
       "      <td>-2.686510e-11</td>\n",
       "      <td>8.771902e-14</td>\n",
       "      <td>2.817158e-12</td>\n",
       "    </tr>\n",
       "    <tr>\n",
       "      <th>403</th>\n",
       "      <td>0 &amp; 1</td>\n",
       "      <td>All</td>\n",
       "      <td>1.006698e-10</td>\n",
       "      <td>8.259329e-10</td>\n",
       "      <td>5.196467e-14</td>\n",
       "      <td>3.878544e-11</td>\n",
       "    </tr>\n",
       "  </tbody>\n",
       "</table>\n",
       "</div>"
      ],
      "text/plain": [
       "     Class Wavelength (microns)         Slope     Unc_slope     Intercept  \\\n",
       "400      0                  All  1.384786e-10 -2.420337e-10  2.063053e-13   \n",
       "401      1                  All  1.005031e-10  1.139198e-09  8.040971e-14   \n",
       "402      1                  All  1.415745e-10 -2.686510e-11  8.771902e-14   \n",
       "403  0 & 1                  All  1.006698e-10  8.259329e-10  5.196467e-14   \n",
       "\n",
       "     Unc_intercept  \n",
       "400   2.275860e-11  \n",
       "401   9.289510e-11  \n",
       "402   2.817158e-12  \n",
       "403   3.878544e-11  "
      ]
     },
     "execution_count": 29,
     "metadata": {},
     "output_type": "execute_result"
    }
   ],
   "source": [
    "# All wavelengths\n",
    "coef.iloc[-4:, :]"
   ]
  },
  {
   "cell_type": "code",
   "execution_count": 8,
   "metadata": {},
   "outputs": [
    {
     "data": {
      "text/html": [
       "<div>\n",
       "<style scoped>\n",
       "    .dataframe tbody tr th:only-of-type {\n",
       "        vertical-align: middle;\n",
       "    }\n",
       "\n",
       "    .dataframe tbody tr th {\n",
       "        vertical-align: top;\n",
       "    }\n",
       "\n",
       "    .dataframe thead th {\n",
       "        text-align: right;\n",
       "    }\n",
       "</style>\n",
       "<table border=\"1\" class=\"dataframe\">\n",
       "  <thead>\n",
       "    <tr style=\"text-align: right;\">\n",
       "      <th></th>\n",
       "      <th>Class</th>\n",
       "      <th>Wavelength (microns)</th>\n",
       "      <th>Reduced chi-squared (linear space)</th>\n",
       "      <th>Reduced chi-squared (log10 space)</th>\n",
       "      <th>Correlation coefficient (linear space)</th>\n",
       "      <th>Correlation coefficient (log10 space)</th>\n",
       "    </tr>\n",
       "  </thead>\n",
       "  <tbody>\n",
       "  </tbody>\n",
       "</table>\n",
       "</div>"
      ],
      "text/plain": [
       "Empty DataFrame\n",
       "Columns: [Class, Wavelength (microns), Reduced chi-squared (linear space), Reduced chi-squared (log10 space), Correlation coefficient (linear space), Correlation coefficient (log10 space)]\n",
       "Index: []"
      ]
     },
     "execution_count": 8,
     "metadata": {},
     "output_type": "execute_result"
    }
   ],
   "source": [
    "# All wavelengths\n",
    "corr.loc[corr['Wavelength (microns)'] == 'All', 'Class':]"
   ]
  },
  {
   "cell_type": "code",
   "execution_count": 11,
   "metadata": {},
   "outputs": [
    {
     "ename": "ValueError",
     "evalue": "could not convert string to float: ' All'",
     "output_type": "error",
     "traceback": [
      "\u001b[0;31m---------------------------------------------------------------------------\u001b[0m",
      "\u001b[0;31mValueError\u001b[0m                                Traceback (most recent call last)",
      "\u001b[1;32m/Users/zach/Documents/Python/Protostellar-Luminosity/src/3_compare_classes.ipynb Cell 11'\u001b[0m in \u001b[0;36m<cell line: 5>\u001b[0;34m()\u001b[0m\n\u001b[1;32m      <a href='vscode-notebook-cell:/Users/zach/Documents/Python/Protostellar-Luminosity/src/3_compare_classes.ipynb#ch0000009?line=2'>3</a>\u001b[0m corr \u001b[39m=\u001b[39m corr\u001b[39m.\u001b[39miloc[\u001b[39m4\u001b[39m:, :]\n\u001b[1;32m      <a href='vscode-notebook-cell:/Users/zach/Documents/Python/Protostellar-Luminosity/src/3_compare_classes.ipynb#ch0000009?line=3'>4</a>\u001b[0m \u001b[39m# Typecast wavelengths to float64\u001b[39;00m\n\u001b[0;32m----> <a href='vscode-notebook-cell:/Users/zach/Documents/Python/Protostellar-Luminosity/src/3_compare_classes.ipynb#ch0000009?line=4'>5</a>\u001b[0m coef[\u001b[39m'\u001b[39m\u001b[39mWavelength (microns)\u001b[39m\u001b[39m'\u001b[39m] \u001b[39m=\u001b[39m coef[\u001b[39m'\u001b[39;49m\u001b[39mWavelength (microns)\u001b[39;49m\u001b[39m'\u001b[39;49m]\u001b[39m.\u001b[39;49mapply(\u001b[39mlambda\u001b[39;49;00m x: \u001b[39mfloat\u001b[39;49m(x))\n\u001b[1;32m      <a href='vscode-notebook-cell:/Users/zach/Documents/Python/Protostellar-Luminosity/src/3_compare_classes.ipynb#ch0000009?line=5'>6</a>\u001b[0m corr[\u001b[39m'\u001b[39m\u001b[39mWavelength (microns)\u001b[39m\u001b[39m'\u001b[39m] \u001b[39m=\u001b[39m corr[\u001b[39m'\u001b[39m\u001b[39mWavelength (microns)\u001b[39m\u001b[39m'\u001b[39m]\u001b[39m.\u001b[39mapply(\u001b[39mlambda\u001b[39;00m x: \u001b[39mfloat\u001b[39m(x))\n",
      "File \u001b[0;32m/opt/anaconda3/lib/python3.8/site-packages/pandas/core/series.py:4433\u001b[0m, in \u001b[0;36mSeries.apply\u001b[0;34m(self, func, convert_dtype, args, **kwargs)\u001b[0m\n\u001b[1;32m   <a href='file:///opt/anaconda3/lib/python3.8/site-packages/pandas/core/series.py?line=4322'>4323</a>\u001b[0m \u001b[39mdef\u001b[39;00m \u001b[39mapply\u001b[39m(\n\u001b[1;32m   <a href='file:///opt/anaconda3/lib/python3.8/site-packages/pandas/core/series.py?line=4323'>4324</a>\u001b[0m     \u001b[39mself\u001b[39m,\n\u001b[1;32m   <a href='file:///opt/anaconda3/lib/python3.8/site-packages/pandas/core/series.py?line=4324'>4325</a>\u001b[0m     func: AggFuncType,\n\u001b[0;32m   (...)\u001b[0m\n\u001b[1;32m   <a href='file:///opt/anaconda3/lib/python3.8/site-packages/pandas/core/series.py?line=4327'>4328</a>\u001b[0m     \u001b[39m*\u001b[39m\u001b[39m*\u001b[39mkwargs,\n\u001b[1;32m   <a href='file:///opt/anaconda3/lib/python3.8/site-packages/pandas/core/series.py?line=4328'>4329</a>\u001b[0m ) \u001b[39m-\u001b[39m\u001b[39m>\u001b[39m DataFrame \u001b[39m|\u001b[39m Series:\n\u001b[1;32m   <a href='file:///opt/anaconda3/lib/python3.8/site-packages/pandas/core/series.py?line=4329'>4330</a>\u001b[0m     \u001b[39m\"\"\"\u001b[39;00m\n\u001b[1;32m   <a href='file:///opt/anaconda3/lib/python3.8/site-packages/pandas/core/series.py?line=4330'>4331</a>\u001b[0m \u001b[39m    Invoke function on values of Series.\u001b[39;00m\n\u001b[1;32m   <a href='file:///opt/anaconda3/lib/python3.8/site-packages/pandas/core/series.py?line=4331'>4332</a>\u001b[0m \n\u001b[0;32m   (...)\u001b[0m\n\u001b[1;32m   <a href='file:///opt/anaconda3/lib/python3.8/site-packages/pandas/core/series.py?line=4430'>4431</a>\u001b[0m \u001b[39m    dtype: float64\u001b[39;00m\n\u001b[1;32m   <a href='file:///opt/anaconda3/lib/python3.8/site-packages/pandas/core/series.py?line=4431'>4432</a>\u001b[0m \u001b[39m    \"\"\"\u001b[39;00m\n\u001b[0;32m-> <a href='file:///opt/anaconda3/lib/python3.8/site-packages/pandas/core/series.py?line=4432'>4433</a>\u001b[0m     \u001b[39mreturn\u001b[39;00m SeriesApply(\u001b[39mself\u001b[39;49m, func, convert_dtype, args, kwargs)\u001b[39m.\u001b[39;49mapply()\n",
      "File \u001b[0;32m/opt/anaconda3/lib/python3.8/site-packages/pandas/core/apply.py:1082\u001b[0m, in \u001b[0;36mSeriesApply.apply\u001b[0;34m(self)\u001b[0m\n\u001b[1;32m   <a href='file:///opt/anaconda3/lib/python3.8/site-packages/pandas/core/apply.py?line=1077'>1078</a>\u001b[0m \u001b[39mif\u001b[39;00m \u001b[39misinstance\u001b[39m(\u001b[39mself\u001b[39m\u001b[39m.\u001b[39mf, \u001b[39mstr\u001b[39m):\n\u001b[1;32m   <a href='file:///opt/anaconda3/lib/python3.8/site-packages/pandas/core/apply.py?line=1078'>1079</a>\u001b[0m     \u001b[39m# if we are a string, try to dispatch\u001b[39;00m\n\u001b[1;32m   <a href='file:///opt/anaconda3/lib/python3.8/site-packages/pandas/core/apply.py?line=1079'>1080</a>\u001b[0m     \u001b[39mreturn\u001b[39;00m \u001b[39mself\u001b[39m\u001b[39m.\u001b[39mapply_str()\n\u001b[0;32m-> <a href='file:///opt/anaconda3/lib/python3.8/site-packages/pandas/core/apply.py?line=1081'>1082</a>\u001b[0m \u001b[39mreturn\u001b[39;00m \u001b[39mself\u001b[39;49m\u001b[39m.\u001b[39;49mapply_standard()\n",
      "File \u001b[0;32m/opt/anaconda3/lib/python3.8/site-packages/pandas/core/apply.py:1137\u001b[0m, in \u001b[0;36mSeriesApply.apply_standard\u001b[0;34m(self)\u001b[0m\n\u001b[1;32m   <a href='file:///opt/anaconda3/lib/python3.8/site-packages/pandas/core/apply.py?line=1130'>1131</a>\u001b[0m         values \u001b[39m=\u001b[39m obj\u001b[39m.\u001b[39mastype(\u001b[39mobject\u001b[39m)\u001b[39m.\u001b[39m_values\n\u001b[1;32m   <a href='file:///opt/anaconda3/lib/python3.8/site-packages/pandas/core/apply.py?line=1131'>1132</a>\u001b[0m         \u001b[39m# error: Argument 2 to \"map_infer\" has incompatible type\u001b[39;00m\n\u001b[1;32m   <a href='file:///opt/anaconda3/lib/python3.8/site-packages/pandas/core/apply.py?line=1132'>1133</a>\u001b[0m         \u001b[39m# \"Union[Callable[..., Any], str, List[Union[Callable[..., Any], str]],\u001b[39;00m\n\u001b[1;32m   <a href='file:///opt/anaconda3/lib/python3.8/site-packages/pandas/core/apply.py?line=1133'>1134</a>\u001b[0m         \u001b[39m# Dict[Hashable, Union[Union[Callable[..., Any], str],\u001b[39;00m\n\u001b[1;32m   <a href='file:///opt/anaconda3/lib/python3.8/site-packages/pandas/core/apply.py?line=1134'>1135</a>\u001b[0m         \u001b[39m# List[Union[Callable[..., Any], str]]]]]\"; expected\u001b[39;00m\n\u001b[1;32m   <a href='file:///opt/anaconda3/lib/python3.8/site-packages/pandas/core/apply.py?line=1135'>1136</a>\u001b[0m         \u001b[39m# \"Callable[[Any], Any]\"\u001b[39;00m\n\u001b[0;32m-> <a href='file:///opt/anaconda3/lib/python3.8/site-packages/pandas/core/apply.py?line=1136'>1137</a>\u001b[0m         mapped \u001b[39m=\u001b[39m lib\u001b[39m.\u001b[39;49mmap_infer(\n\u001b[1;32m   <a href='file:///opt/anaconda3/lib/python3.8/site-packages/pandas/core/apply.py?line=1137'>1138</a>\u001b[0m             values,\n\u001b[1;32m   <a href='file:///opt/anaconda3/lib/python3.8/site-packages/pandas/core/apply.py?line=1138'>1139</a>\u001b[0m             f,  \u001b[39m# type: ignore[arg-type]\u001b[39;49;00m\n\u001b[1;32m   <a href='file:///opt/anaconda3/lib/python3.8/site-packages/pandas/core/apply.py?line=1139'>1140</a>\u001b[0m             convert\u001b[39m=\u001b[39;49m\u001b[39mself\u001b[39;49m\u001b[39m.\u001b[39;49mconvert_dtype,\n\u001b[1;32m   <a href='file:///opt/anaconda3/lib/python3.8/site-packages/pandas/core/apply.py?line=1140'>1141</a>\u001b[0m         )\n\u001b[1;32m   <a href='file:///opt/anaconda3/lib/python3.8/site-packages/pandas/core/apply.py?line=1142'>1143</a>\u001b[0m \u001b[39mif\u001b[39;00m \u001b[39mlen\u001b[39m(mapped) \u001b[39mand\u001b[39;00m \u001b[39misinstance\u001b[39m(mapped[\u001b[39m0\u001b[39m], ABCSeries):\n\u001b[1;32m   <a href='file:///opt/anaconda3/lib/python3.8/site-packages/pandas/core/apply.py?line=1143'>1144</a>\u001b[0m     \u001b[39m# GH#43986 Need to do list(mapped) in order to get treated as nested\u001b[39;00m\n\u001b[1;32m   <a href='file:///opt/anaconda3/lib/python3.8/site-packages/pandas/core/apply.py?line=1144'>1145</a>\u001b[0m     \u001b[39m#  See also GH#25959 regarding EA support\u001b[39;00m\n\u001b[1;32m   <a href='file:///opt/anaconda3/lib/python3.8/site-packages/pandas/core/apply.py?line=1145'>1146</a>\u001b[0m     \u001b[39mreturn\u001b[39;00m obj\u001b[39m.\u001b[39m_constructor_expanddim(\u001b[39mlist\u001b[39m(mapped), index\u001b[39m=\u001b[39mobj\u001b[39m.\u001b[39mindex)\n",
      "File \u001b[0;32m/opt/anaconda3/lib/python3.8/site-packages/pandas/_libs/lib.pyx:2870\u001b[0m, in \u001b[0;36mpandas._libs.lib.map_infer\u001b[0;34m()\u001b[0m\n",
      "\u001b[1;32m/Users/zach/Documents/Python/Protostellar-Luminosity/src/3_compare_classes.ipynb Cell 11'\u001b[0m in \u001b[0;36m<lambda>\u001b[0;34m(x)\u001b[0m\n\u001b[1;32m      <a href='vscode-notebook-cell:/Users/zach/Documents/Python/Protostellar-Luminosity/src/3_compare_classes.ipynb#ch0000009?line=2'>3</a>\u001b[0m corr \u001b[39m=\u001b[39m corr\u001b[39m.\u001b[39miloc[\u001b[39m4\u001b[39m:, :]\n\u001b[1;32m      <a href='vscode-notebook-cell:/Users/zach/Documents/Python/Protostellar-Luminosity/src/3_compare_classes.ipynb#ch0000009?line=3'>4</a>\u001b[0m \u001b[39m# Typecast wavelengths to float64\u001b[39;00m\n\u001b[0;32m----> <a href='vscode-notebook-cell:/Users/zach/Documents/Python/Protostellar-Luminosity/src/3_compare_classes.ipynb#ch0000009?line=4'>5</a>\u001b[0m coef[\u001b[39m'\u001b[39m\u001b[39mWavelength (microns)\u001b[39m\u001b[39m'\u001b[39m] \u001b[39m=\u001b[39m coef[\u001b[39m'\u001b[39m\u001b[39mWavelength (microns)\u001b[39m\u001b[39m'\u001b[39m]\u001b[39m.\u001b[39mapply(\u001b[39mlambda\u001b[39;00m x: \u001b[39mfloat\u001b[39;49m(x))\n\u001b[1;32m      <a href='vscode-notebook-cell:/Users/zach/Documents/Python/Protostellar-Luminosity/src/3_compare_classes.ipynb#ch0000009?line=5'>6</a>\u001b[0m corr[\u001b[39m'\u001b[39m\u001b[39mWavelength (microns)\u001b[39m\u001b[39m'\u001b[39m] \u001b[39m=\u001b[39m corr[\u001b[39m'\u001b[39m\u001b[39mWavelength (microns)\u001b[39m\u001b[39m'\u001b[39m]\u001b[39m.\u001b[39mapply(\u001b[39mlambda\u001b[39;00m x: \u001b[39mfloat\u001b[39m(x))\n",
      "\u001b[0;31mValueError\u001b[0m: could not convert string to float: ' All'"
     ]
    }
   ],
   "source": [
    "# Drop rows with Wavelength = All\n",
    "coef = coef.iloc[:-4 , :]\n",
    "corr = corr.iloc[:-4, :]\n",
    "# Typecast wavelengths to float64\n",
    "coef['Wavelength (microns)'] = coef['Wavelength (microns)'].apply(lambda x: float(x))\n",
    "corr['Wavelength (microns)'] = corr['Wavelength (microns)'].apply(lambda x: float(x))"
   ]
  },
  {
   "cell_type": "code",
   "execution_count": 12,
   "metadata": {},
   "outputs": [
    {
     "data": {
      "text/html": [
       "<div>\n",
       "<style scoped>\n",
       "    .dataframe tbody tr th:only-of-type {\n",
       "        vertical-align: middle;\n",
       "    }\n",
       "\n",
       "    .dataframe tbody tr th {\n",
       "        vertical-align: top;\n",
       "    }\n",
       "\n",
       "    .dataframe thead th {\n",
       "        text-align: right;\n",
       "    }\n",
       "</style>\n",
       "<table border=\"1\" class=\"dataframe\">\n",
       "  <thead>\n",
       "    <tr style=\"text-align: right;\">\n",
       "      <th></th>\n",
       "      <th>Class</th>\n",
       "      <th>Wavelength (microns)</th>\n",
       "      <th>Slope</th>\n",
       "      <th>Unc_slope</th>\n",
       "      <th>Intercept</th>\n",
       "      <th>Unc_intercept</th>\n",
       "    </tr>\n",
       "  </thead>\n",
       "  <tbody>\n",
       "  </tbody>\n",
       "</table>\n",
       "</div>"
      ],
      "text/plain": [
       "Empty DataFrame\n",
       "Columns: [Class, Wavelength (microns), Slope, Unc_slope, Intercept, Unc_intercept]\n",
       "Index: []"
      ]
     },
     "execution_count": 12,
     "metadata": {},
     "output_type": "execute_result"
    }
   ],
   "source": [
    "# ~70 microns\n",
    "coef.loc[coef['Wavelength (microns)'] == 73.570602450168, :]"
   ]
  },
  {
   "cell_type": "code",
   "execution_count": 13,
   "metadata": {},
   "outputs": [
    {
     "data": {
      "text/html": [
       "<div>\n",
       "<style scoped>\n",
       "    .dataframe tbody tr th:only-of-type {\n",
       "        vertical-align: middle;\n",
       "    }\n",
       "\n",
       "    .dataframe tbody tr th {\n",
       "        vertical-align: top;\n",
       "    }\n",
       "\n",
       "    .dataframe thead th {\n",
       "        text-align: right;\n",
       "    }\n",
       "</style>\n",
       "<table border=\"1\" class=\"dataframe\">\n",
       "  <thead>\n",
       "    <tr style=\"text-align: right;\">\n",
       "      <th></th>\n",
       "      <th>Class</th>\n",
       "      <th>Wavelength (microns)</th>\n",
       "      <th>Reduced chi-squared (linear space)</th>\n",
       "      <th>Reduced chi-squared (log10 space)</th>\n",
       "      <th>Correlation coefficient (linear space)</th>\n",
       "      <th>Correlation coefficient (log10 space)</th>\n",
       "    </tr>\n",
       "  </thead>\n",
       "  <tbody>\n",
       "  </tbody>\n",
       "</table>\n",
       "</div>"
      ],
      "text/plain": [
       "Empty DataFrame\n",
       "Columns: [Class, Wavelength (microns), Reduced chi-squared (linear space), Reduced chi-squared (log10 space), Correlation coefficient (linear space), Correlation coefficient (log10 space)]\n",
       "Index: []"
      ]
     },
     "execution_count": 13,
     "metadata": {},
     "output_type": "execute_result"
    }
   ],
   "source": [
    "# ~70 microns\n",
    "corr.loc[corr['Wavelength (microns)'] == 73.570602450168, :]"
   ]
  },
  {
   "cell_type": "code",
   "execution_count": 14,
   "metadata": {},
   "outputs": [
    {
     "name": "stdout",
     "output_type": "stream",
     "text": [
      "Percentage of missing values in each column:\n",
      "\n",
      "Class                                    NaN\n",
      "Wavelength (microns)                     NaN\n",
      "Reduced chi-squared (linear space)       NaN\n",
      "Reduced chi-squared (log10 space)        NaN\n",
      "Correlation coefficient (linear space)   NaN\n",
      "Correlation coefficient (log10 space)    NaN\n",
      "dtype: float64\n",
      "\n"
     ]
    }
   ],
   "source": [
    "# Extract rows with Class = 2\n",
    "coef_2 = coef[coef['Class'] == '2']\n",
    "corr_2 = corr[corr['Class'] == '2']\n",
    "check_nan(corr_2)"
   ]
  },
  {
   "cell_type": "code",
   "execution_count": 15,
   "metadata": {},
   "outputs": [
    {
     "data": {
      "image/png": "[encoded data removed]",
      "text/plain": [
       "<Figure size 432x288 with 1 Axes>"
      ]
     },
     "metadata": {
      "needs_background": "light"
     },
     "output_type": "display_data"
    }
   ],
   "source": [
    "# Reduced chi-squared vs wavelength (log10 space)\n",
    "plt.scatter(corr_2['Wavelength (microns)'], corr_2['Reduced chi-squared (log10 space)'], s=10)\n",
    "plt.title('Reduced chi-squared (log10 space) vs Wavelength')\n",
    "plt.xlabel('Wavelength (microns)')\n",
    "plt.ylabel('Reduced chi-squared')\n",
    "plt.xscale('log')\n",
    "plt.xlim(1e-2, 1e5)\n",
    "plt.savefig(f'Figures/log10_rcs_vs_wavelength_full.jpg')\n",
    "plt.show()"
   ]
  },
  {
   "cell_type": "code",
   "execution_count": null,
   "metadata": {},
   "outputs": [],
   "source": [
    "# Reduced chi-squared vs wavelength (log10 space) with restricted y-axis\n",
    "plt.scatter(corr_2['Wavelength (microns)'], corr_2['Reduced chi-squared (log10 space)'], s=10)\n",
    "plt.title('Reduced chi-squared (log10 space) vs Wavelength')\n",
    "plt.xlabel('Wavelength (microns)')\n",
    "plt.ylabel('Reduced chi-squared')\n",
    "plt.xscale('log')\n",
    "plt.xlim(1e-2, 1e5)\n",
    "plt.ylim(-20000, 1000)\n",
    "plt.legend(['Removed outliers'])\n",
    "plt.savefig(f'Figures/log10_rcs_vs_wavelength_modified.jpg')\n",
    "plt.show()"
   ]
  },
  {
   "cell_type": "code",
   "execution_count": null,
   "metadata": {},
   "outputs": [],
   "source": [
    "# Reduced chi-squared vs wavelength (log10 space) with restricted y-axis\n",
    "plt.scatter(corr_2['Wavelength (microns)'], corr_2['Reduced chi-squared (log10 space)'], s=10)\n",
    "plt.title('Reduced chi-squared (log10 space) vs Wavelength')\n",
    "plt.xlabel('Wavelength (microns)')\n",
    "plt.ylabel('Reduced chi-squared')\n",
    "plt.xscale('log')\n",
    "plt.xlim(1e-2, 1e5)\n",
    "plt.ylim(-1000, 500)\n",
    "plt.legend(['Removed outliers + Restricted y-axis'])\n",
    "plt.savefig(f'Figures/log10_rcs_vs_wavelength_restricted.jpg')\n",
    "plt.show()"
   ]
  },
  {
   "cell_type": "code",
   "execution_count": null,
   "metadata": {},
   "outputs": [],
   "source": [
    "# Correlation coefficient vs wavelength (linear space)\n",
    "plt.scatter(corr_2['Wavelength (microns)'], corr_2['Correlation coefficient (linear space)'], s=10)\n",
    "plt.title('Correlation coefficient (linear space) vs Wavelength')\n",
    "plt.xlabel('Wavelength (microns)')\n",
    "plt.ylabel('Correlation coefficient')\n",
    "plt.xscale('log')\n",
    "plt.xlim(1e-2, 1e5)\n",
    "plt.savefig(f'Figures/linear_cc_vs_wavelength.jpg')\n",
    "plt.show()"
   ]
  },
  {
   "cell_type": "code",
   "execution_count": null,
   "metadata": {},
   "outputs": [],
   "source": [
    "# Correlation coefficient vs wavelength (log10 space)\n",
    "plt.scatter(corr_2['Wavelength (microns)'], corr_2['Correlation coefficient (log10 space)'], s=10)\n",
    "plt.title('Correlation coefficient (log10 space) vs Wavelength')\n",
    "plt.xlabel('Wavelength (microns)')\n",
    "plt.ylabel('Correlation coefficient')\n",
    "plt.xscale('log')\n",
    "plt.xlim(1e-2, 1e5)\n",
    "plt.savefig(f'Figures/log10_cc_vs_wavelength.jpg')\n",
    "plt.show()"
   ]
  },
  {
   "cell_type": "code",
   "execution_count": null,
   "metadata": {},
   "outputs": [],
   "source": [
    "for nclass in df['Class'].unique():\n",
    "    # Extract model flux and internal luminosity data \n",
    "    flux = df.loc[(df['Class'] == nclass) & (df['Wavelength (microns)'] == 73.570602450168), 'Flux (erg cm^-2 s^-1)']\n",
    "    lint = df.loc[(df['Class'] == nclass) & (df['Wavelength (microns)'] == 73.570602450168), 'L_int (Lsun)']\n",
    "\n",
    "    # Zach's fit\n",
    "    m = coef.loc[(coef['Class'] == '1a') & (coef['Wavelength (microns)'] == 73.570602450168), 'Slope'].values[0]\n",
    "    b = coef.loc[(coef['Class'] == '1a') & (coef['Wavelength (microns)'] == 73.570602450168), 'Intercept'].values[0]\n",
    "    zfit = 10**b * flux**m\n",
    "\n",
    "    # Dunham's fit\n",
    "    m = 1.06\n",
    "    b = -9.02\n",
    "    dfit = 10**b * flux**m\n",
    "\n",
    "    # Make zfit vs lint plot\n",
    "    plt.scatter(lint, zfit, s=10)\n",
    "    plt.title('Expected Luminosity vs Observed Luminosity')\n",
    "    plt.xlabel('Observed Luminosity (Lsun)')\n",
    "    plt.ylabel('Expected Luminosity (Lsun)')\n",
    "    plt.xscale('log')\n",
    "    plt.yscale('log')\n",
    "    plt.legend([f'Class {nclass}, 70 microns - Yek (2022)'])\n",
    "    plt.savefig(f'Figures/zfit_vs_lint_70microns_{nclass}.jpg')\n",
    "    plt.clf()\n",
    "\n",
    "    # Make dfit vs lint plot\n",
    "    plt.scatter(lint, dfit, s=10)\n",
    "    plt.title('Expected Luminosity vs Observed Luminosity')\n",
    "    plt.xlabel('Observed Luminosity (Lsun)')\n",
    "    plt.ylabel('Expected Luminosity (Lsun)')\n",
    "    plt.xscale('log')\n",
    "    plt.yscale('log')\n",
    "    plt.legend([f'Class {nclass}, 70 microns - Dunham (2008)'])\n",
    "    plt.savefig(f'Figures/dfit_vs_lint_70microns_{nclass}.jpg')\n",
    "    plt.clf()\n",
    "\n",
    "    # Make dfit (normalized) vs zfit plot\n",
    "    dfit = dfit / zfit\n",
    "    plt.scatter(zfit, dfit, s=10)\n",
    "    plt.title('Dunham (2008) vs Yek (2022)')\n",
    "    plt.xlabel('Yek (2022)')\n",
    "    plt.ylabel('Dunham (2008)')\n",
    "    plt.xscale('log')\n",
    "    plt.legend([f'Class {nclass}, 70 microns'])\n",
    "    plt.savefig(f'Figures/dfit_normalized_vs_zfit_70microns_{nclass}.jpg')\n",
    "    plt.clf()"
   ]
  }
 ],
 "metadata": {
  "interpreter": {
   "hash": "40d3a090f54c6569ab1632332b64b2c03c39dcf918b08424e98f38b5ae0af88f"
  },
  "kernelspec": {
   "display_name": "Python 3.8.11 ('base')",
   "language": "python",
   "name": "python3"
  },
  "language_info": {
   "codemirror_mode": {
    "name": "ipython",
    "version": 3
   },
   "file_extension": ".py",
   "mimetype": "text/x-python",
   "name": "python",
   "nbconvert_exporter": "python",
   "pygments_lexer": "ipython3",
   "version": "3.8.11"
  },
  "orig_nbformat": 4
 },
 "nbformat": 4,
 "nbformat_minor": 2
}
