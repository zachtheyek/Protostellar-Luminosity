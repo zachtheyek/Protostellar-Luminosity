{
 "cells": [
  {
   "cell_type": "code",
   "execution_count": 1,
   "metadata": {},
   "outputs": [],
   "source": [
    "%matplotlib inline"
   ]
  },
  {
   "cell_type": "markdown",
   "metadata": {},
   "source": [
    "# Introduction\n",
    "\n",
    "Building on the work from `3_compare_classes.ipynb`, in this notebook, we aim to derive an optimal wavelength range where the correlation between flux and luminosity remains sufficiently strong. The goal being to provide a suite of observing windows for class 0 and 1 protostellar objects, rather than a singular entry point."
   ]
  },
  {
   "cell_type": "markdown",
   "metadata": {},
   "source": [
    "# Import Dependencies"
   ]
  },
  {
   "cell_type": "code",
   "execution_count": 2,
   "metadata": {},
   "outputs": [],
   "source": [
    "# System & OS\n",
    "import warnings\n",
    "warnings.filterwarnings('ignore')\n",
    "\n",
    "# Data Analysis\n",
    "import numpy as np\n",
    "import pandas as pd\n",
    "\n",
    "# Data Visualization\n",
    "import matplotlib.pyplot as plt\n",
    "import seaborn as sns\n",
    "sns.set()"
   ]
  },
  {
   "cell_type": "markdown",
   "metadata": {},
   "source": [
    "# Mount Storage\n",
    "\n",
    "`cd` to the `data/` directory."
   ]
  },
  {
   "cell_type": "code",
   "execution_count": 3,
   "metadata": {},
   "outputs": [
    {
     "name": "stdout",
     "output_type": "stream",
     "text": [
      "/Users/zach/Documents/Python/Protostellar-Luminosity/data\n"
     ]
    }
   ],
   "source": [
    "%cd '../data/'"
   ]
  },
  {
   "cell_type": "markdown",
   "metadata": {},
   "source": [
    "# Feature Engineering\n",
    "\n",
    "Read in our results from `2_linear_regression.ipynb`."
   ]
  },
  {
   "cell_type": "code",
   "execution_count": 4,
   "metadata": {},
   "outputs": [
    {
     "data": {
      "text/html": [
       "<div>\n",
       "<style scoped>\n",
       "    .dataframe tbody tr th:only-of-type {\n",
       "        vertical-align: middle;\n",
       "    }\n",
       "\n",
       "    .dataframe tbody tr th {\n",
       "        vertical-align: top;\n",
       "    }\n",
       "\n",
       "    .dataframe thead th {\n",
       "        text-align: right;\n",
       "    }\n",
       "</style>\n",
       "<table border=\"1\" class=\"dataframe\">\n",
       "  <thead>\n",
       "    <tr style=\"text-align: right;\">\n",
       "      <th></th>\n",
       "      <th>Class</th>\n",
       "      <th>Wavelength (microns)</th>\n",
       "      <th>Slope</th>\n",
       "      <th>Unc_slope</th>\n",
       "      <th>Intercept</th>\n",
       "      <th>Unc_intercept</th>\n",
       "      <th>Reduced chi-squared (linear space)</th>\n",
       "      <th>Reduced chi-squared (log10 space)</th>\n",
       "      <th>Correlation coefficient (linear space)</th>\n",
       "      <th>Correlation coefficient (log10 space)</th>\n",
       "    </tr>\n",
       "  </thead>\n",
       "  <tbody>\n",
       "    <tr>\n",
       "      <th>0</th>\n",
       "      <td>0</td>\n",
       "      <td>36000.29516661664</td>\n",
       "      <td>0.205222</td>\n",
       "      <td>0.001546</td>\n",
       "      <td>-18.520233</td>\n",
       "      <td>0.002017</td>\n",
       "      <td>nan</td>\n",
       "      <td>-1.193127e+01</td>\n",
       "      <td>0.477976</td>\n",
       "      <td>0.748775</td>\n",
       "    </tr>\n",
       "    <tr>\n",
       "      <th>1</th>\n",
       "      <td>1a</td>\n",
       "      <td>36000.29516661664</td>\n",
       "      <td>0.344443</td>\n",
       "      <td>0.000991</td>\n",
       "      <td>-18.817223</td>\n",
       "      <td>0.001138</td>\n",
       "      <td>nan</td>\n",
       "      <td>-1.848508e+01</td>\n",
       "      <td>0.343043</td>\n",
       "      <td>0.887259</td>\n",
       "    </tr>\n",
       "    <tr>\n",
       "      <th>2</th>\n",
       "      <td>1b</td>\n",
       "      <td>36000.29516661664</td>\n",
       "      <td>0.594088</td>\n",
       "      <td>0.001722</td>\n",
       "      <td>-19.119119</td>\n",
       "      <td>0.001299</td>\n",
       "      <td>nan</td>\n",
       "      <td>-4.768334e+01</td>\n",
       "      <td>0.434630</td>\n",
       "      <td>0.886253</td>\n",
       "    </tr>\n",
       "    <tr>\n",
       "      <th>3</th>\n",
       "      <td>All</td>\n",
       "      <td>36000.29516661664</td>\n",
       "      <td>0.457110</td>\n",
       "      <td>0.001066</td>\n",
       "      <td>-18.954541</td>\n",
       "      <td>0.001106</td>\n",
       "      <td>nan</td>\n",
       "      <td>-1.500133e+02</td>\n",
       "      <td>0.222630</td>\n",
       "      <td>0.836356</td>\n",
       "    </tr>\n",
       "    <tr>\n",
       "      <th>4</th>\n",
       "      <td>0</td>\n",
       "      <td>24000.196777744422</td>\n",
       "      <td>0.218374</td>\n",
       "      <td>0.001342</td>\n",
       "      <td>-17.695543</td>\n",
       "      <td>0.001752</td>\n",
       "      <td>nan</td>\n",
       "      <td>-9.434475e+00</td>\n",
       "      <td>0.576396</td>\n",
       "      <td>0.810642</td>\n",
       "    </tr>\n",
       "    <tr>\n",
       "      <th>...</th>\n",
       "      <td>...</td>\n",
       "      <td>...</td>\n",
       "      <td>...</td>\n",
       "      <td>...</td>\n",
       "      <td>...</td>\n",
       "      <td>...</td>\n",
       "      <td>...</td>\n",
       "      <td>...</td>\n",
       "      <td>...</td>\n",
       "      <td>...</td>\n",
       "    </tr>\n",
       "    <tr>\n",
       "      <th>399</th>\n",
       "      <td>All</td>\n",
       "      <td>0.050000409953634216</td>\n",
       "      <td>8.579801</td>\n",
       "      <td>0.078281</td>\n",
       "      <td>-47.486629</td>\n",
       "      <td>0.083609</td>\n",
       "      <td>nan</td>\n",
       "      <td>-1.986639e+05</td>\n",
       "      <td>0.068419</td>\n",
       "      <td>0.418470</td>\n",
       "    </tr>\n",
       "    <tr>\n",
       "      <th>400</th>\n",
       "      <td>0</td>\n",
       "      <td>All</td>\n",
       "      <td>0.931400</td>\n",
       "      <td>0.005067</td>\n",
       "      <td>-11.827745</td>\n",
       "      <td>0.006656</td>\n",
       "      <td>nan</td>\n",
       "      <td>-1.984456e+06</td>\n",
       "      <td>0.504110</td>\n",
       "      <td>0.157855</td>\n",
       "    </tr>\n",
       "    <tr>\n",
       "      <th>401</th>\n",
       "      <td>1a</td>\n",
       "      <td>All</td>\n",
       "      <td>0.982002</td>\n",
       "      <td>0.003401</td>\n",
       "      <td>-11.474304</td>\n",
       "      <td>0.003913</td>\n",
       "      <td>nan</td>\n",
       "      <td>-3.705078e+06</td>\n",
       "      <td>0.571380</td>\n",
       "      <td>0.158788</td>\n",
       "    </tr>\n",
       "    <tr>\n",
       "      <th>402</th>\n",
       "      <td>1b</td>\n",
       "      <td>All</td>\n",
       "      <td>1.012902</td>\n",
       "      <td>0.003656</td>\n",
       "      <td>-11.380369</td>\n",
       "      <td>0.002766</td>\n",
       "      <td>nan</td>\n",
       "      <td>-3.584868e+06</td>\n",
       "      <td>0.669250</td>\n",
       "      <td>0.152804</td>\n",
       "    </tr>\n",
       "    <tr>\n",
       "      <th>403</th>\n",
       "      <td>All</td>\n",
       "      <td>All</td>\n",
       "      <td>0.895578</td>\n",
       "      <td>0.002048</td>\n",
       "      <td>-11.426903</td>\n",
       "      <td>0.002129</td>\n",
       "      <td>nan</td>\n",
       "      <td>-9.319788e+06</td>\n",
       "      <td>0.571042</td>\n",
       "      <td>0.155152</td>\n",
       "    </tr>\n",
       "  </tbody>\n",
       "</table>\n",
       "<p>404 rows × 10 columns</p>\n",
       "</div>"
      ],
      "text/plain": [
       "    Class   Wavelength (microns)     Slope  Unc_slope  Intercept  \\\n",
       "0       0      36000.29516661664  0.205222   0.001546 -18.520233   \n",
       "1      1a      36000.29516661664  0.344443   0.000991 -18.817223   \n",
       "2      1b      36000.29516661664  0.594088   0.001722 -19.119119   \n",
       "3     All      36000.29516661664  0.457110   0.001066 -18.954541   \n",
       "4       0     24000.196777744422  0.218374   0.001342 -17.695543   \n",
       "..    ...                    ...       ...        ...        ...   \n",
       "399   All   0.050000409953634216  8.579801   0.078281 -47.486629   \n",
       "400     0                    All  0.931400   0.005067 -11.827745   \n",
       "401    1a                    All  0.982002   0.003401 -11.474304   \n",
       "402    1b                    All  1.012902   0.003656 -11.380369   \n",
       "403   All                    All  0.895578   0.002048 -11.426903   \n",
       "\n",
       "     Unc_intercept Reduced chi-squared (linear space)  \\\n",
       "0         0.002017                                nan   \n",
       "1         0.001138                                nan   \n",
       "2         0.001299                                nan   \n",
       "3         0.001106                                nan   \n",
       "4         0.001752                                nan   \n",
       "..             ...                                ...   \n",
       "399       0.083609                                nan   \n",
       "400       0.006656                                nan   \n",
       "401       0.003913                                nan   \n",
       "402       0.002766                                nan   \n",
       "403       0.002129                                nan   \n",
       "\n",
       "     Reduced chi-squared (log10 space)  \\\n",
       "0                        -1.193127e+01   \n",
       "1                        -1.848508e+01   \n",
       "2                        -4.768334e+01   \n",
       "3                        -1.500133e+02   \n",
       "4                        -9.434475e+00   \n",
       "..                                 ...   \n",
       "399                      -1.986639e+05   \n",
       "400                      -1.984456e+06   \n",
       "401                      -3.705078e+06   \n",
       "402                      -3.584868e+06   \n",
       "403                      -9.319788e+06   \n",
       "\n",
       "     Correlation coefficient (linear space)  \\\n",
       "0                                  0.477976   \n",
       "1                                  0.343043   \n",
       "2                                  0.434630   \n",
       "3                                  0.222630   \n",
       "4                                  0.576396   \n",
       "..                                      ...   \n",
       "399                                0.068419   \n",
       "400                                0.504110   \n",
       "401                                0.571380   \n",
       "402                                0.669250   \n",
       "403                                0.571042   \n",
       "\n",
       "     Correlation coefficient (log10 space)  \n",
       "0                                 0.748775  \n",
       "1                                 0.887259  \n",
       "2                                 0.886253  \n",
       "3                                 0.836356  \n",
       "4                                 0.810642  \n",
       "..                                     ...  \n",
       "399                               0.418470  \n",
       "400                               0.157855  \n",
       "401                               0.158788  \n",
       "402                               0.152804  \n",
       "403                               0.155152  \n",
       "\n",
       "[404 rows x 10 columns]"
      ]
     },
     "execution_count": 4,
     "metadata": {},
     "output_type": "execute_result"
    }
   ],
   "source": [
    "# Read in linear coefficients\n",
    "coef = pd.read_csv('lin_coef.csv', skiprows=1, names=['Class', \n",
    "                                                      'Wavelength (microns)', \n",
    "                                                      'Slope', \n",
    "                                                      'Unc_slope', \n",
    "                                                      'Intercept', \n",
    "                                                      'Unc_intercept'])\n",
    "# Read in correlation metrics\n",
    "corr = pd.read_csv('corr_coef.csv', skiprows=1, names=['Class', \n",
    "                                                       'Wavelength (microns)', \n",
    "                                                       'Reduced chi-squared (linear space)', \n",
    "                                                       'Reduced chi-squared (log10 space)', \n",
    "                                                       'Correlation coefficient (linear space)', \n",
    "                                                       'Correlation coefficient (log10 space)'])\n",
    "\n",
    "# Merge the two dataframes along the class and wavelength columns\n",
    "df = pd.merge(coef, corr, on=['Class', 'Wavelength (microns)'])\n",
    "df"
   ]
  },
  {
   "cell_type": "markdown",
   "metadata": {},
   "source": [
    "Since we concluded previously that the correlation doesn't change significantly across classes, it suffices to only consider the data at `Class == 'All'`. Accordingly, we can also drop the data at `Wavelength == 'All'`, as it doesn't hold any meaningful information."
   ]
  },
  {
   "cell_type": "code",
   "execution_count": 5,
   "metadata": {},
   "outputs": [],
   "source": [
    "# Drop the rows with all wavelengths\n",
    "df.drop(index=[400, 401, 402, 403], inplace=True)\n",
    "# Drop rows where Class != 'All'\n",
    "df = df[df['Class'] == 'All']\n",
    "# Reset index\n",
    "df.reset_index(drop=True, inplace=True)\n",
    "# Typecast wavelength column to float\n",
    "df['Wavelength (microns)'] = df['Wavelength (microns)'].apply(lambda x: float(x))"
   ]
  },
  {
   "cell_type": "markdown",
   "metadata": {},
   "source": [
    "# Handle Missing Values\n",
    "\n",
    "Furthermore, notice that the `Reduced chi-squared (linear space)` column contains only `NaN` values. Hence, we opt to drop the column from consideration. This is not terribly concerning, since our main focus will be on the data inside `log10` space."
   ]
  },
  {
   "cell_type": "code",
   "execution_count": 6,
   "metadata": {},
   "outputs": [],
   "source": [
    "# Drop columns with NaN values\n",
    "df.drop(columns='Reduced chi-squared (linear space)', inplace=True)"
   ]
  },
  {
   "cell_type": "markdown",
   "metadata": {},
   "source": [
    "# Outlier Detection\n",
    "\n",
    "Finally, before beginning our analyses, notice the outlier in the following boxplot of `Reduced chi-squared (log10 space)` values."
   ]
  },
  {
   "cell_type": "code",
   "execution_count": 7,
   "metadata": {},
   "outputs": [
    {
     "data": {
      "image/png": "[encoded data removed]",
      "text/plain": [
       "<Figure size 576x360 with 1 Axes>"
      ]
     },
     "metadata": {},
     "output_type": "display_data"
    }
   ],
   "source": [
    "# Make plot\n",
    "fig, ax = plt.subplots(figsize=(8, 5))\n",
    "sns.boxplot(x=df['Reduced chi-squared (log10 space)'], ax=ax)\n",
    "# Customize plot\n",
    "ax.set_xticks(range(-200000, 0, 50000))\n",
    "sns.set_style('darkgrid')\n",
    "# Display figure\n",
    "plt.show()"
   ]
  },
  {
   "cell_type": "markdown",
   "metadata": {},
   "source": [
    "This corresponds to the final row of our dataframe (`index=99`)."
   ]
  },
  {
   "cell_type": "code",
   "execution_count": 8,
   "metadata": {},
   "outputs": [
    {
     "data": {
      "text/html": [
       "<div>\n",
       "<style scoped>\n",
       "    .dataframe tbody tr th:only-of-type {\n",
       "        vertical-align: middle;\n",
       "    }\n",
       "\n",
       "    .dataframe tbody tr th {\n",
       "        vertical-align: top;\n",
       "    }\n",
       "\n",
       "    .dataframe thead th {\n",
       "        text-align: right;\n",
       "    }\n",
       "</style>\n",
       "<table border=\"1\" class=\"dataframe\">\n",
       "  <thead>\n",
       "    <tr style=\"text-align: right;\">\n",
       "      <th></th>\n",
       "      <th>Class</th>\n",
       "      <th>Wavelength (microns)</th>\n",
       "      <th>Slope</th>\n",
       "      <th>Unc_slope</th>\n",
       "      <th>Intercept</th>\n",
       "      <th>Unc_intercept</th>\n",
       "      <th>Reduced chi-squared (log10 space)</th>\n",
       "      <th>Correlation coefficient (linear space)</th>\n",
       "      <th>Correlation coefficient (log10 space)</th>\n",
       "    </tr>\n",
       "  </thead>\n",
       "  <tbody>\n",
       "    <tr>\n",
       "      <th>95</th>\n",
       "      <td>All</td>\n",
       "      <td>0.250002</td>\n",
       "      <td>1.630436</td>\n",
       "      <td>0.009861</td>\n",
       "      <td>-13.685973</td>\n",
       "      <td>0.010334</td>\n",
       "      <td>-16251.317989</td>\n",
       "      <td>0.090796</td>\n",
       "      <td>0.524678</td>\n",
       "    </tr>\n",
       "    <tr>\n",
       "      <th>96</th>\n",
       "      <td>All</td>\n",
       "      <td>1.000008</td>\n",
       "      <td>0.596907</td>\n",
       "      <td>0.006827</td>\n",
       "      <td>-9.904205</td>\n",
       "      <td>0.007099</td>\n",
       "      <td>-11638.138915</td>\n",
       "      <td>0.667610</td>\n",
       "      <td>0.298847</td>\n",
       "    </tr>\n",
       "    <tr>\n",
       "      <th>97</th>\n",
       "      <td>All</td>\n",
       "      <td>0.400003</td>\n",
       "      <td>1.161575</td>\n",
       "      <td>0.009316</td>\n",
       "      <td>-11.618105</td>\n",
       "      <td>0.009717</td>\n",
       "      <td>-17869.732545</td>\n",
       "      <td>0.109263</td>\n",
       "      <td>0.414432</td>\n",
       "    </tr>\n",
       "    <tr>\n",
       "      <th>98</th>\n",
       "      <td>All</td>\n",
       "      <td>0.700006</td>\n",
       "      <td>0.739158</td>\n",
       "      <td>0.007685</td>\n",
       "      <td>-10.250403</td>\n",
       "      <td>0.007997</td>\n",
       "      <td>-14088.912098</td>\n",
       "      <td>0.373893</td>\n",
       "      <td>0.326713</td>\n",
       "    </tr>\n",
       "    <tr>\n",
       "      <th>99</th>\n",
       "      <td>All</td>\n",
       "      <td>0.050000</td>\n",
       "      <td>8.579801</td>\n",
       "      <td>0.078281</td>\n",
       "      <td>-47.486629</td>\n",
       "      <td>0.083609</td>\n",
       "      <td>-198663.860003</td>\n",
       "      <td>0.068419</td>\n",
       "      <td>0.418470</td>\n",
       "    </tr>\n",
       "  </tbody>\n",
       "</table>\n",
       "</div>"
      ],
      "text/plain": [
       "   Class  Wavelength (microns)     Slope  Unc_slope  Intercept  Unc_intercept  \\\n",
       "95   All              0.250002  1.630436   0.009861 -13.685973       0.010334   \n",
       "96   All              1.000008  0.596907   0.006827  -9.904205       0.007099   \n",
       "97   All              0.400003  1.161575   0.009316 -11.618105       0.009717   \n",
       "98   All              0.700006  0.739158   0.007685 -10.250403       0.007997   \n",
       "99   All              0.050000  8.579801   0.078281 -47.486629       0.083609   \n",
       "\n",
       "    Reduced chi-squared (log10 space)  Correlation coefficient (linear space)  \\\n",
       "95                      -16251.317989                                0.090796   \n",
       "96                      -11638.138915                                0.667610   \n",
       "97                      -17869.732545                                0.109263   \n",
       "98                      -14088.912098                                0.373893   \n",
       "99                     -198663.860003                                0.068419   \n",
       "\n",
       "    Correlation coefficient (log10 space)  \n",
       "95                               0.524678  \n",
       "96                               0.298847  \n",
       "97                               0.414432  \n",
       "98                               0.326713  \n",
       "99                               0.418470  "
      ]
     },
     "execution_count": 8,
     "metadata": {},
     "output_type": "execute_result"
    }
   ],
   "source": [
    "df.tail()"
   ]
  },
  {
   "cell_type": "markdown",
   "metadata": {},
   "source": [
    "Due to the eccentric nature of this observation, we choose to drop the row from subsequent analyses."
   ]
  },
  {
   "cell_type": "code",
   "execution_count": 9,
   "metadata": {},
   "outputs": [],
   "source": [
    "# Drop rows with extreme outliers\n",
    "df.drop(index=99, inplace=True)"
   ]
  },
  {
   "cell_type": "markdown",
   "metadata": {},
   "source": [
    "# Data Analysis\n",
    "\n",
    "To begin our analyses, we first visualize reduced chi-squared (in `log10` space) as a function of wavelength."
   ]
  },
  {
   "cell_type": "code",
   "execution_count": 10,
   "metadata": {},
   "outputs": [
    {
     "data": {
      "image/png": "[encoded data removed]",
      "text/plain": [
       "<Figure size 1008x432 with 2 Axes>"
      ]
     },
     "metadata": {},
     "output_type": "display_data"
    }
   ],
   "source": [
    "# Set plot style\n",
    "sns.set_style('dark')\n",
    "# Create 2-figure plot\n",
    "fig, ax = plt.subplots(1, 2, figsize=(14, 6))\n",
    "# Plot reduced chi-squared against wavelength\n",
    "ax[0].scatter(df['Wavelength (microns)'], df['Reduced chi-squared (log10 space)'], s=10, marker='+')\n",
    "# Customize plot\n",
    "ax[0].set_title('Log10 space')\n",
    "ax[0].set_xlabel('Wavelength (microns)')\n",
    "ax[0].set_ylabel('Reduced chi-squared')\n",
    "ax[0].set_xscale('log')\n",
    "ax[0].set_xlim([1e-2, 1e5])\n",
    "ax[0].set_ylim([-20000, 500])\n",
    "# Zoom in on the region of interest\n",
    "ax[1].scatter(df['Wavelength (microns)'], df['Reduced chi-squared (log10 space)'], s=10, marker='+')\n",
    "# Repeat customizations\n",
    "ax[1].set_title('Log10 space (zoomed)')\n",
    "ax[1].set_xlabel('Wavelength (microns)')\n",
    "ax[1].set_xscale('log')\n",
    "ax[1].set_xlim([1e-2, 1e5])\n",
    "ax[1].set_ylim([-1000, 0])\n",
    "# Save figure\n",
    "plt.savefig(f'Figures/chi_sq.eps', format='eps', dpi=1200)\n",
    "plt.savefig(f'../src/images/chi_sq.jpg', format='jpg')\n",
    "# Display figure\n",
    "plt.show()"
   ]
  },
  {
   "cell_type": "markdown",
   "metadata": {},
   "source": [
    "Next, we visualize correlation coefficient, in both linear and `log10` space, as a function of wavelength."
   ]
  },
  {
   "cell_type": "code",
   "execution_count": 11,
   "metadata": {},
   "outputs": [
    {
     "data": {
      "image/png": "[encoded data removed]",
      "text/plain": [
       "<Figure size 1008x432 with 2 Axes>"
      ]
     },
     "metadata": {},
     "output_type": "display_data"
    }
   ],
   "source": [
    "# Set plot style\n",
    "sns.set_style('dark')\n",
    "# Create 2-figure plot\n",
    "fig, ax = plt.subplots(1, 2, figsize=(14, 6))\n",
    "# Plot correlation coefficient in linear space against wavelength\n",
    "ax[0].scatter(df['Wavelength (microns)'], df['Correlation coefficient (linear space)'], s=10, marker='+')\n",
    "# Customize plot\n",
    "ax[0].set_title('Linear space')\n",
    "ax[0].set_xlabel('Wavelength (microns)')\n",
    "ax[0].set_ylabel('Correlation coefficient')\n",
    "ax[0].set_xscale('log')\n",
    "ax[0].set_xlim([1e-2, 1e5])\n",
    "ax[0].set_ylim([0, 1])\n",
    "# Plot correlation coefficient in log10 space against wavelength\n",
    "ax[1].scatter(df['Wavelength (microns)'], df['Correlation coefficient (log10 space)'], s=10, marker='+')\n",
    "# Repeat customizations\n",
    "ax[1].set_title('Log10 space')\n",
    "ax[1].set_xlabel('Wavelength (microns)')\n",
    "ax[1].set_xscale('log')\n",
    "ax[1].set_xlim([1e-2, 1e5])\n",
    "ax[1].set_ylim([0, 1])\n",
    "# Save figure\n",
    "plt.savefig(f'Figures/corr_coef.eps', format='eps', dpi=1200)\n",
    "plt.savefig(f'../src/images/corr_coef.jpg', format='jpg')\n",
    "# Display figure\n",
    "plt.show()"
   ]
  },
  {
   "cell_type": "markdown",
   "metadata": {},
   "source": [
    "Focusing on the correlation coefficient values in `log10` space, we set an initial threshold of 0.8 to determine our optimal wavelength window, incrementing by 0.02 until we reach an upper bound of 0.9."
   ]
  },
  {
   "cell_type": "code",
   "execution_count": 16,
   "metadata": {},
   "outputs": [
    {
     "data": {
      "image/png": "[encoded data removed]",
      "text/plain": [
       "<Figure size 1296x864 with 6 Axes>"
      ]
     },
     "metadata": {},
     "output_type": "display_data"
    }
   ],
   "source": [
    "# Set plot style\n",
    "sns.set_style('dark')\n",
    "# Create 6-figure plot\n",
    "fig, ax = plt.subplots(3, 2, figsize=(18, 12), sharex=True)\n",
    "# Customize plot\n",
    "plt.suptitle('Optimal Wavelength Range')\n",
    "ax[2, 0].set_xlabel('Wavelength (microns)')\n",
    "ax[2, 1].set_xlabel('Wavelength (microns)')\n",
    "ax[0, 0].set_ylabel('Correlation Coefficient')\n",
    "ax[1, 0].set_ylabel('Correlation Coefficient')\n",
    "ax[2, 0].set_ylabel('Correlation Coefficient')\n",
    "ax[2, 0].set_xscale('log')\n",
    "ax[2, 1].set_xscale('log')\n",
    "# Map threshold to subplot position\n",
    "threshold_map = {0.8: (0, 0),\n",
    "                 0.82: (1, 0),\n",
    "                 0.84: (2, 0),\n",
    "                 0.86: (0, 1),\n",
    "                 0.88: (1, 1),\n",
    "                 0.9: (2, 1),}\n",
    "for threshold in threshold_map:\n",
    "    # Retrieve data for this threshold\n",
    "    x = df[df['Correlation coefficient (log10 space)'] >= threshold]['Wavelength (microns)']\n",
    "    y = df[df['Correlation coefficient (log10 space)'] >= threshold]['Correlation coefficient (log10 space)']\n",
    "    row, col = threshold_map[threshold]\n",
    "    # Make subplot\n",
    "    ax[row, col].scatter(x, y, s=10, marker='+')\n",
    "    # Customize subplot\n",
    "    ax[row, col].set_title(f'Threshold: {threshold:.2f}')\n",
    "    ax[row, col].set_ylim([threshold, 1])\n",
    "# Save figure\n",
    "plt.savefig(f'Figures/optimal_wavelength_range.eps', format='eps', dpi=1200)\n",
    "plt.savefig(f'../src/images/optimal_wavelength_range.jpg', format='jpg')\n",
    "# Display figure\n",
    "plt.show()"
   ]
  },
  {
   "cell_type": "markdown",
   "metadata": {},
   "source": [
    "Therefore, we conclude that using a conservative threshold of 0.9 yields an optimal wavelength range of $10^1$ to $10^2$ microns."
   ]
  }
 ],
 "metadata": {
  "kernelspec": {
   "display_name": "Python 3.8.11 ('base')",
   "language": "python",
   "name": "python3"
  },
  "language_info": {
   "codemirror_mode": {
    "name": "ipython",
    "version": 3
   },
   "file_extension": ".py",
   "mimetype": "text/x-python",
   "name": "python",
   "nbconvert_exporter": "python",
   "pygments_lexer": "ipython3",
   "version": "3.8.11"
  },
  "orig_nbformat": 4,
  "vscode": {
   "interpreter": {
    "hash": "40d3a090f54c6569ab1632332b64b2c03c39dcf918b08424e98f38b5ae0af88f"
   }
  }
 },
 "nbformat": 4,
 "nbformat_minor": 2
}
