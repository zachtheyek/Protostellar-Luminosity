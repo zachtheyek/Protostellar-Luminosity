{
  "nbformat": 4,
  "nbformat_minor": 0,
  "metadata": {
    "colab": {
      "name": "proto_lumin.ipynb",
      "provenance": [],
      "collapsed_sections": []
    },
    "kernelspec": {
      "display_name": "Python 3",
      "name": "python3"
    },
    "language_info": {
      "name": "python"
    },
    "widgets": {
      "application/vnd.jupyter.widget-state+json": {
        "72a0eb2bd3d348dfa306f97d1837a4a2": {
          "model_module": "@jupyter-widgets/controls",
          "model_name": "HBoxModel",
          "model_module_version": "1.5.0",
          "state": {
            "_view_name": "HBoxView",
            "_dom_classes": [],
            "_model_name": "HBoxModel",
            "_view_module": "@jupyter-widgets/controls",
            "_model_module_version": "1.5.0",
            "_view_count": null,
            "_view_module_version": "1.5.0",
            "box_style": "",
            "layout": "IPY_MODEL_1c078221d47f45a3b141cc8f68ce7ad1",
            "_model_module": "@jupyter-widgets/controls",
            "children": [
              "IPY_MODEL_3a1869705f064d689c4b7198134ecf2e",
              "IPY_MODEL_4f1ab8756f984c8cac5f87563c289b6c",
              "IPY_MODEL_aa0a790823e74b0daec34769fb79abb2"
            ]
          }
        },
        "1c078221d47f45a3b141cc8f68ce7ad1": {
          "model_module": "@jupyter-widgets/base",
          "model_name": "LayoutModel",
          "model_module_version": "1.2.0",
          "state": {
            "_view_name": "LayoutView",
            "grid_template_rows": null,
            "right": null,
            "justify_content": null,
            "_view_module": "@jupyter-widgets/base",
            "overflow": null,
            "_model_module_version": "1.2.0",
            "_view_count": null,
            "flex_flow": null,
            "width": null,
            "min_width": null,
            "border": null,
            "align_items": null,
            "bottom": null,
            "_model_module": "@jupyter-widgets/base",
            "top": null,
            "grid_column": null,
            "overflow_y": null,
            "overflow_x": null,
            "grid_auto_flow": null,
            "grid_area": null,
            "grid_template_columns": null,
            "flex": null,
            "_model_name": "LayoutModel",
            "justify_items": null,
            "grid_row": null,
            "max_height": null,
            "align_content": null,
            "visibility": null,
            "align_self": null,
            "height": null,
            "min_height": null,
            "padding": null,
            "grid_auto_rows": null,
            "grid_gap": null,
            "max_width": null,
            "order": null,
            "_view_module_version": "1.2.0",
            "grid_template_areas": null,
            "object_position": null,
            "object_fit": null,
            "grid_auto_columns": null,
            "margin": null,
            "display": null,
            "left": null
          }
        },
        "3a1869705f064d689c4b7198134ecf2e": {
          "model_module": "@jupyter-widgets/controls",
          "model_name": "HTMLModel",
          "model_module_version": "1.5.0",
          "state": {
            "_view_name": "HTMLView",
            "style": "IPY_MODEL_758f9ef177f14d33881df4f61972970e",
            "_dom_classes": [],
            "description": "",
            "_model_name": "HTMLModel",
            "placeholder": "​",
            "_view_module": "@jupyter-widgets/controls",
            "_model_module_version": "1.5.0",
            "value": "100%",
            "_view_count": null,
            "_view_module_version": "1.5.0",
            "description_tooltip": null,
            "_model_module": "@jupyter-widgets/controls",
            "layout": "IPY_MODEL_c040970a00334527893c0b4405772278"
          }
        },
        "4f1ab8756f984c8cac5f87563c289b6c": {
          "model_module": "@jupyter-widgets/controls",
          "model_name": "FloatProgressModel",
          "model_module_version": "1.5.0",
          "state": {
            "_view_name": "ProgressView",
            "style": "IPY_MODEL_9ddc8fff4077417395ff24b765b1cf0c",
            "_dom_classes": [],
            "description": "",
            "_model_name": "FloatProgressModel",
            "bar_style": "success",
            "max": 23,
            "_view_module": "@jupyter-widgets/controls",
            "_model_module_version": "1.5.0",
            "value": 23,
            "_view_count": null,
            "_view_module_version": "1.5.0",
            "orientation": "horizontal",
            "min": 0,
            "description_tooltip": null,
            "_model_module": "@jupyter-widgets/controls",
            "layout": "IPY_MODEL_722571b26fb84a96bfa4cd384f80bbea"
          }
        },
        "aa0a790823e74b0daec34769fb79abb2": {
          "model_module": "@jupyter-widgets/controls",
          "model_name": "HTMLModel",
          "model_module_version": "1.5.0",
          "state": {
            "_view_name": "HTMLView",
            "style": "IPY_MODEL_4ebcd655083b4069969bff5cef30e752",
            "_dom_classes": [],
            "description": "",
            "_model_name": "HTMLModel",
            "placeholder": "​",
            "_view_module": "@jupyter-widgets/controls",
            "_model_module_version": "1.5.0",
            "value": " 23/23 [5:18:21&lt;00:00, 737.68s/it]",
            "_view_count": null,
            "_view_module_version": "1.5.0",
            "description_tooltip": null,
            "_model_module": "@jupyter-widgets/controls",
            "layout": "IPY_MODEL_dc5c47d847c948edadc513c0a803d323"
          }
        },
        "758f9ef177f14d33881df4f61972970e": {
          "model_module": "@jupyter-widgets/controls",
          "model_name": "DescriptionStyleModel",
          "model_module_version": "1.5.0",
          "state": {
            "_view_name": "StyleView",
            "_model_name": "DescriptionStyleModel",
            "description_width": "",
            "_view_module": "@jupyter-widgets/base",
            "_model_module_version": "1.5.0",
            "_view_count": null,
            "_view_module_version": "1.2.0",
            "_model_module": "@jupyter-widgets/controls"
          }
        },
        "c040970a00334527893c0b4405772278": {
          "model_module": "@jupyter-widgets/base",
          "model_name": "LayoutModel",
          "model_module_version": "1.2.0",
          "state": {
            "_view_name": "LayoutView",
            "grid_template_rows": null,
            "right": null,
            "justify_content": null,
            "_view_module": "@jupyter-widgets/base",
            "overflow": null,
            "_model_module_version": "1.2.0",
            "_view_count": null,
            "flex_flow": null,
            "width": null,
            "min_width": null,
            "border": null,
            "align_items": null,
            "bottom": null,
            "_model_module": "@jupyter-widgets/base",
            "top": null,
            "grid_column": null,
            "overflow_y": null,
            "overflow_x": null,
            "grid_auto_flow": null,
            "grid_area": null,
            "grid_template_columns": null,
            "flex": null,
            "_model_name": "LayoutModel",
            "justify_items": null,
            "grid_row": null,
            "max_height": null,
            "align_content": null,
            "visibility": null,
            "align_self": null,
            "height": null,
            "min_height": null,
            "padding": null,
            "grid_auto_rows": null,
            "grid_gap": null,
            "max_width": null,
            "order": null,
            "_view_module_version": "1.2.0",
            "grid_template_areas": null,
            "object_position": null,
            "object_fit": null,
            "grid_auto_columns": null,
            "margin": null,
            "display": null,
            "left": null
          }
        },
        "9ddc8fff4077417395ff24b765b1cf0c": {
          "model_module": "@jupyter-widgets/controls",
          "model_name": "ProgressStyleModel",
          "model_module_version": "1.5.0",
          "state": {
            "_view_name": "StyleView",
            "_model_name": "ProgressStyleModel",
            "description_width": "",
            "_view_module": "@jupyter-widgets/base",
            "_model_module_version": "1.5.0",
            "_view_count": null,
            "_view_module_version": "1.2.0",
            "bar_color": null,
            "_model_module": "@jupyter-widgets/controls"
          }
        },
        "722571b26fb84a96bfa4cd384f80bbea": {
          "model_module": "@jupyter-widgets/base",
          "model_name": "LayoutModel",
          "model_module_version": "1.2.0",
          "state": {
            "_view_name": "LayoutView",
            "grid_template_rows": null,
            "right": null,
            "justify_content": null,
            "_view_module": "@jupyter-widgets/base",
            "overflow": null,
            "_model_module_version": "1.2.0",
            "_view_count": null,
            "flex_flow": null,
            "width": null,
            "min_width": null,
            "border": null,
            "align_items": null,
            "bottom": null,
            "_model_module": "@jupyter-widgets/base",
            "top": null,
            "grid_column": null,
            "overflow_y": null,
            "overflow_x": null,
            "grid_auto_flow": null,
            "grid_area": null,
            "grid_template_columns": null,
            "flex": null,
            "_model_name": "LayoutModel",
            "justify_items": null,
            "grid_row": null,
            "max_height": null,
            "align_content": null,
            "visibility": null,
            "align_self": null,
            "height": null,
            "min_height": null,
            "padding": null,
            "grid_auto_rows": null,
            "grid_gap": null,
            "max_width": null,
            "order": null,
            "_view_module_version": "1.2.0",
            "grid_template_areas": null,
            "object_position": null,
            "object_fit": null,
            "grid_auto_columns": null,
            "margin": null,
            "display": null,
            "left": null
          }
        },
        "4ebcd655083b4069969bff5cef30e752": {
          "model_module": "@jupyter-widgets/controls",
          "model_name": "DescriptionStyleModel",
          "model_module_version": "1.5.0",
          "state": {
            "_view_name": "StyleView",
            "_model_name": "DescriptionStyleModel",
            "description_width": "",
            "_view_module": "@jupyter-widgets/base",
            "_model_module_version": "1.5.0",
            "_view_count": null,
            "_view_module_version": "1.2.0",
            "_model_module": "@jupyter-widgets/controls"
          }
        },
        "dc5c47d847c948edadc513c0a803d323": {
          "model_module": "@jupyter-widgets/base",
          "model_name": "LayoutModel",
          "model_module_version": "1.2.0",
          "state": {
            "_view_name": "LayoutView",
            "grid_template_rows": null,
            "right": null,
            "justify_content": null,
            "_view_module": "@jupyter-widgets/base",
            "overflow": null,
            "_model_module_version": "1.2.0",
            "_view_count": null,
            "flex_flow": null,
            "width": null,
            "min_width": null,
            "border": null,
            "align_items": null,
            "bottom": null,
            "_model_module": "@jupyter-widgets/base",
            "top": null,
            "grid_column": null,
            "overflow_y": null,
            "overflow_x": null,
            "grid_auto_flow": null,
            "grid_area": null,
            "grid_template_columns": null,
            "flex": null,
            "_model_name": "LayoutModel",
            "justify_items": null,
            "grid_row": null,
            "max_height": null,
            "align_content": null,
            "visibility": null,
            "align_self": null,
            "height": null,
            "min_height": null,
            "padding": null,
            "grid_auto_rows": null,
            "grid_gap": null,
            "max_width": null,
            "order": null,
            "_view_module_version": "1.2.0",
            "grid_template_areas": null,
            "object_position": null,
            "object_fit": null,
            "grid_auto_columns": null,
            "margin": null,
            "display": null,
            "left": null
          }
        },
        "17496b91cf804ca190b2fc6c59ec6873": {
          "model_module": "@jupyter-widgets/controls",
          "model_name": "HBoxModel",
          "model_module_version": "1.5.0",
          "state": {
            "_view_name": "HBoxView",
            "_dom_classes": [],
            "_model_name": "HBoxModel",
            "_view_module": "@jupyter-widgets/controls",
            "_model_module_version": "1.5.0",
            "_view_count": null,
            "_view_module_version": "1.5.0",
            "box_style": "",
            "layout": "IPY_MODEL_ced3e1786d434415a7b6ab442050c4b3",
            "_model_module": "@jupyter-widgets/controls",
            "children": [
              "IPY_MODEL_4428f5ee2f9c4e7a8c46301f6ed0e96e",
              "IPY_MODEL_23af2bab284d4b9b9e806a240a635855",
              "IPY_MODEL_49ef693c81c44b0fbf3ef4dd4c811abb"
            ]
          }
        },
        "ced3e1786d434415a7b6ab442050c4b3": {
          "model_module": "@jupyter-widgets/base",
          "model_name": "LayoutModel",
          "model_module_version": "1.2.0",
          "state": {
            "_view_name": "LayoutView",
            "grid_template_rows": null,
            "right": null,
            "justify_content": null,
            "_view_module": "@jupyter-widgets/base",
            "overflow": null,
            "_model_module_version": "1.2.0",
            "_view_count": null,
            "flex_flow": null,
            "width": null,
            "min_width": null,
            "border": null,
            "align_items": null,
            "bottom": null,
            "_model_module": "@jupyter-widgets/base",
            "top": null,
            "grid_column": null,
            "overflow_y": null,
            "overflow_x": null,
            "grid_auto_flow": null,
            "grid_area": null,
            "grid_template_columns": null,
            "flex": null,
            "_model_name": "LayoutModel",
            "justify_items": null,
            "grid_row": null,
            "max_height": null,
            "align_content": null,
            "visibility": null,
            "align_self": null,
            "height": null,
            "min_height": null,
            "padding": null,
            "grid_auto_rows": null,
            "grid_gap": null,
            "max_width": null,
            "order": null,
            "_view_module_version": "1.2.0",
            "grid_template_areas": null,
            "object_position": null,
            "object_fit": null,
            "grid_auto_columns": null,
            "margin": null,
            "display": null,
            "left": null
          }
        },
        "4428f5ee2f9c4e7a8c46301f6ed0e96e": {
          "model_module": "@jupyter-widgets/controls",
          "model_name": "HTMLModel",
          "model_module_version": "1.5.0",
          "state": {
            "_view_name": "HTMLView",
            "style": "IPY_MODEL_11a7c1b4518143deabda1fe1c86ff2a5",
            "_dom_classes": [],
            "description": "",
            "_model_name": "HTMLModel",
            "placeholder": "​",
            "_view_module": "@jupyter-widgets/controls",
            "_model_module_version": "1.5.0",
            "value": "100%",
            "_view_count": null,
            "_view_module_version": "1.5.0",
            "description_tooltip": null,
            "_model_module": "@jupyter-widgets/controls",
            "layout": "IPY_MODEL_af0bd9c82fb54fd692d960c577851d55"
          }
        },
        "23af2bab284d4b9b9e806a240a635855": {
          "model_module": "@jupyter-widgets/controls",
          "model_name": "FloatProgressModel",
          "model_module_version": "1.5.0",
          "state": {
            "_view_name": "ProgressView",
            "style": "IPY_MODEL_181fd38ac8d04e3db7a9a5e34ededb10",
            "_dom_classes": [],
            "description": "",
            "_model_name": "FloatProgressModel",
            "bar_style": "success",
            "max": 23,
            "_view_module": "@jupyter-widgets/controls",
            "_model_module_version": "1.5.0",
            "value": 23,
            "_view_count": null,
            "_view_module_version": "1.5.0",
            "orientation": "horizontal",
            "min": 0,
            "description_tooltip": null,
            "_model_module": "@jupyter-widgets/controls",
            "layout": "IPY_MODEL_3664c969547945f98ba9f800bff4c3de"
          }
        },
        "49ef693c81c44b0fbf3ef4dd4c811abb": {
          "model_module": "@jupyter-widgets/controls",
          "model_name": "HTMLModel",
          "model_module_version": "1.5.0",
          "state": {
            "_view_name": "HTMLView",
            "style": "IPY_MODEL_ee05d4936fd34c1a8aacab046d3186d6",
            "_dom_classes": [],
            "description": "",
            "_model_name": "HTMLModel",
            "placeholder": "​",
            "_view_module": "@jupyter-widgets/controls",
            "_model_module_version": "1.5.0",
            "value": " 23/23 [00:23&lt;00:00,  1.00s/it]",
            "_view_count": null,
            "_view_module_version": "1.5.0",
            "description_tooltip": null,
            "_model_module": "@jupyter-widgets/controls",
            "layout": "IPY_MODEL_59b56701d6f84efabfb90f05651a0ebc"
          }
        },
        "11a7c1b4518143deabda1fe1c86ff2a5": {
          "model_module": "@jupyter-widgets/controls",
          "model_name": "DescriptionStyleModel",
          "model_module_version": "1.5.0",
          "state": {
            "_view_name": "StyleView",
            "_model_name": "DescriptionStyleModel",
            "description_width": "",
            "_view_module": "@jupyter-widgets/base",
            "_model_module_version": "1.5.0",
            "_view_count": null,
            "_view_module_version": "1.2.0",
            "_model_module": "@jupyter-widgets/controls"
          }
        },
        "af0bd9c82fb54fd692d960c577851d55": {
          "model_module": "@jupyter-widgets/base",
          "model_name": "LayoutModel",
          "model_module_version": "1.2.0",
          "state": {
            "_view_name": "LayoutView",
            "grid_template_rows": null,
            "right": null,
            "justify_content": null,
            "_view_module": "@jupyter-widgets/base",
            "overflow": null,
            "_model_module_version": "1.2.0",
            "_view_count": null,
            "flex_flow": null,
            "width": null,
            "min_width": null,
            "border": null,
            "align_items": null,
            "bottom": null,
            "_model_module": "@jupyter-widgets/base",
            "top": null,
            "grid_column": null,
            "overflow_y": null,
            "overflow_x": null,
            "grid_auto_flow": null,
            "grid_area": null,
            "grid_template_columns": null,
            "flex": null,
            "_model_name": "LayoutModel",
            "justify_items": null,
            "grid_row": null,
            "max_height": null,
            "align_content": null,
            "visibility": null,
            "align_self": null,
            "height": null,
            "min_height": null,
            "padding": null,
            "grid_auto_rows": null,
            "grid_gap": null,
            "max_width": null,
            "order": null,
            "_view_module_version": "1.2.0",
            "grid_template_areas": null,
            "object_position": null,
            "object_fit": null,
            "grid_auto_columns": null,
            "margin": null,
            "display": null,
            "left": null
          }
        },
        "181fd38ac8d04e3db7a9a5e34ededb10": {
          "model_module": "@jupyter-widgets/controls",
          "model_name": "ProgressStyleModel",
          "model_module_version": "1.5.0",
          "state": {
            "_view_name": "StyleView",
            "_model_name": "ProgressStyleModel",
            "description_width": "",
            "_view_module": "@jupyter-widgets/base",
            "_model_module_version": "1.5.0",
            "_view_count": null,
            "_view_module_version": "1.2.0",
            "bar_color": null,
            "_model_module": "@jupyter-widgets/controls"
          }
        },
        "3664c969547945f98ba9f800bff4c3de": {
          "model_module": "@jupyter-widgets/base",
          "model_name": "LayoutModel",
          "model_module_version": "1.2.0",
          "state": {
            "_view_name": "LayoutView",
            "grid_template_rows": null,
            "right": null,
            "justify_content": null,
            "_view_module": "@jupyter-widgets/base",
            "overflow": null,
            "_model_module_version": "1.2.0",
            "_view_count": null,
            "flex_flow": null,
            "width": null,
            "min_width": null,
            "border": null,
            "align_items": null,
            "bottom": null,
            "_model_module": "@jupyter-widgets/base",
            "top": null,
            "grid_column": null,
            "overflow_y": null,
            "overflow_x": null,
            "grid_auto_flow": null,
            "grid_area": null,
            "grid_template_columns": null,
            "flex": null,
            "_model_name": "LayoutModel",
            "justify_items": null,
            "grid_row": null,
            "max_height": null,
            "align_content": null,
            "visibility": null,
            "align_self": null,
            "height": null,
            "min_height": null,
            "padding": null,
            "grid_auto_rows": null,
            "grid_gap": null,
            "max_width": null,
            "order": null,
            "_view_module_version": "1.2.0",
            "grid_template_areas": null,
            "object_position": null,
            "object_fit": null,
            "grid_auto_columns": null,
            "margin": null,
            "display": null,
            "left": null
          }
        },
        "ee05d4936fd34c1a8aacab046d3186d6": {
          "model_module": "@jupyter-widgets/controls",
          "model_name": "DescriptionStyleModel",
          "model_module_version": "1.5.0",
          "state": {
            "_view_name": "StyleView",
            "_model_name": "DescriptionStyleModel",
            "description_width": "",
            "_view_module": "@jupyter-widgets/base",
            "_model_module_version": "1.5.0",
            "_view_count": null,
            "_view_module_version": "1.2.0",
            "_model_module": "@jupyter-widgets/controls"
          }
        },
        "59b56701d6f84efabfb90f05651a0ebc": {
          "model_module": "@jupyter-widgets/base",
          "model_name": "LayoutModel",
          "model_module_version": "1.2.0",
          "state": {
            "_view_name": "LayoutView",
            "grid_template_rows": null,
            "right": null,
            "justify_content": null,
            "_view_module": "@jupyter-widgets/base",
            "overflow": null,
            "_model_module_version": "1.2.0",
            "_view_count": null,
            "flex_flow": null,
            "width": null,
            "min_width": null,
            "border": null,
            "align_items": null,
            "bottom": null,
            "_model_module": "@jupyter-widgets/base",
            "top": null,
            "grid_column": null,
            "overflow_y": null,
            "overflow_x": null,
            "grid_auto_flow": null,
            "grid_area": null,
            "grid_template_columns": null,
            "flex": null,
            "_model_name": "LayoutModel",
            "justify_items": null,
            "grid_row": null,
            "max_height": null,
            "align_content": null,
            "visibility": null,
            "align_self": null,
            "height": null,
            "min_height": null,
            "padding": null,
            "grid_auto_rows": null,
            "grid_gap": null,
            "max_width": null,
            "order": null,
            "_view_module_version": "1.2.0",
            "grid_template_areas": null,
            "object_position": null,
            "object_fit": null,
            "grid_auto_columns": null,
            "margin": null,
            "display": null,
            "left": null
          }
        }
      }
    }
  },
  "cells": [
    {
      "cell_type": "code",
      "metadata": {
        "id": "jfS6mUAyptrV"
      },
      "source": [
        "%matplotlib inline"
      ],
      "execution_count": null,
      "outputs": []
    },
    {
      "cell_type": "markdown",
      "metadata": {
        "id": "xCFrSfR5p_tO"
      },
      "source": [
        "# Import Dependencies\n",
        "\n",
        "We begin by importing the necessary libraries."
      ]
    },
    {
      "cell_type": "code",
      "metadata": {
        "id": "t2QdAAKcqBrs"
      },
      "source": [
        "# System & OS\n",
        "import os\n",
        "import glob\n",
        "# Data Storage\n",
        "from google.colab import drive\n",
        "from zipfile import ZipFile, is_zipfile\n",
        "# Data Analysis\n",
        "import numpy as np\n",
        "import pandas as pd\n",
        "# Data Visualization\n",
        "from tqdm.notebook import tqdm\n",
        "import matplotlib.pyplot as plt"
      ],
      "execution_count": null,
      "outputs": []
    },
    {
      "cell_type": "markdown",
      "metadata": {
        "id": "pEn3ycl1qPz9"
      },
      "source": [
        "# Mount Storage\n",
        "\n",
        "For simplicity, we keep the data in a Google Drive folder, and simply mount the Google Drive to our Colab instance, as if it were a local file system."
      ]
    },
    {
      "cell_type": "code",
      "metadata": {
        "colab": {
          "base_uri": "https://localhost:8080/"
        },
        "id": "mtNBFwbNqnAG",
        "outputId": "47564382-8bc6-4780-e818-6c393469d461"
      },
      "source": [
        "# Mount Google Drive to Colab Instance\n",
        "drive.mount('/content/drive')\n",
        "# Change directory to where the data are stored\n",
        "%cd '/content/drive/MyDrive/Research/Ongoing/Protostellar Luminosity/Data'"
      ],
      "execution_count": null,
      "outputs": [
        {
          "output_type": "stream",
          "name": "stdout",
          "text": [
            "Mounted at /content/drive\n",
            "/content/drive/MyDrive/Research/Ongoing/Protostellar Luminosity/Data\n"
          ]
        }
      ]
    },
    {
      "cell_type": "markdown",
      "metadata": {
        "id": "ZQiT_cdLCTS2"
      },
      "source": [
        "Unzip the files, if we haven't done so already."
      ]
    },
    {
      "cell_type": "code",
      "metadata": {
        "colab": {
          "base_uri": "https://localhost:8080/"
        },
        "id": "ULAGxYruDY-o",
        "outputId": "4bbc4351-cb57-48f5-ec22-841b7cc19f47"
      },
      "source": [
        "if not os.path.exists('models'):\n",
        "  file_to_extract = 'models.zip'\n",
        "  if os.path.exists(file_to_extract):\n",
        "      if is_zipfile(file_to_extract):\n",
        "          print(f'Valid zip file.\\nExtracting: {file_to_extract}')\n",
        "          # Read in zip file\n",
        "          with ZipFile(file_to_extract,'r') as zip_ref:\n",
        "              # Add progress bar\n",
        "              for file in tqdm(iterable=zip_ref.namelist(), total=len(zip_ref.namelist())):\n",
        "                  # Extract and store in current directory\n",
        "                  zip_ref.extract(member=file)\n",
        "      else:\n",
        "          print('Not valid zip file.')\n",
        "  else:\n",
        "      print(f'Cannot find: {file_to_extract}.')\n",
        "else:\n",
        "  print('Data ready.')"
      ],
      "execution_count": null,
      "outputs": [
        {
          "output_type": "stream",
          "name": "stdout",
          "text": [
            "Data ready.\n"
          ]
        }
      ]
    },
    {
      "cell_type": "markdown",
      "metadata": {
        "id": "JPx1957Mq1N0"
      },
      "source": [
        "# Data Analysis\n",
        "\n",
        "Define lists to store every model number, and every inclination value, as well as an empty list to store (model number, class) tuples, for later use."
      ]
    },
    {
      "cell_type": "code",
      "metadata": {
        "id": "_Clml2o2NcBv"
      },
      "source": [
        "model_num_list = ['01', '02', '10', '13', '14', '15', '16', '17', '18', '19', '20', '21', '22', '23', '24', '25', '26', '27', '28', '30', '31', '32', '33']\n",
        "inclinations = ['05', '15', '25', '35', '45', '55', '65', '75', '85']\n",
        "\n",
        "# Declare a 2D list to store tuples of (model, class) split indeces\n",
        "split_tuples = [[0 for x in range(2)] for y in range(len(model_num_list))]"
      ],
      "execution_count": null,
      "outputs": []
    },
    {
      "cell_type": "markdown",
      "metadata": {
        "id": "DuHwHtxGNm6P"
      },
      "source": [
        "We create a master file to store pertinent model data, and start by writing the header row with relevant column labels. "
      ]
    },
    {
      "cell_type": "code",
      "metadata": {
        "id": "kKVp5abdNpJK"
      },
      "source": [
        "with open('master_file.tbl', 'w') as master_file:\n",
        "  master_file.write('{:<15} {:<20} {:<15} {:<20} {:<25} {:<15}'.format('L_int', \n",
        "                                                                       'Flux', \n",
        "                                                                       'Inclination', \n",
        "                                                                       'Wavelength of flux', \n",
        "                                                                       'Internal vs Final mass', \n",
        "                                                                       'Model Number'))\n",
        "  master_file.write('\\n')\n",
        "master_file.close()"
      ],
      "execution_count": null,
      "outputs": []
    },
    {
      "cell_type": "markdown",
      "metadata": {
        "id": "Fu9u8HYScPTp"
      },
      "source": [
        "Next, loop over every model, reading in the appropriate data, and doing the necessary computations. \n",
        "\n",
        "The end result is a fully populated master file, along with some useful values stored to memory. "
      ]
    },
    {
      "cell_type": "code",
      "metadata": {
        "colab": {
          "base_uri": "https://localhost:8080/",
          "height": 49,
          "referenced_widgets": [
            "72a0eb2bd3d348dfa306f97d1837a4a2",
            "1c078221d47f45a3b141cc8f68ce7ad1",
            "3a1869705f064d689c4b7198134ecf2e",
            "4f1ab8756f984c8cac5f87563c289b6c",
            "aa0a790823e74b0daec34769fb79abb2",
            "758f9ef177f14d33881df4f61972970e",
            "c040970a00334527893c0b4405772278",
            "9ddc8fff4077417395ff24b765b1cf0c",
            "722571b26fb84a96bfa4cd384f80bbea",
            "4ebcd655083b4069969bff5cef30e752",
            "dc5c47d847c948edadc513c0a803d323",
            "b123f91cf3294f75ac87f0c8a59b685a",
            "c83e0c9f91b346c8a5820c965abf837a",
            "0e881b8e13e44d05a30c8ed91970bc77",
            "1ec2eeafb49b40a792f9910823db2010",
            "811b0c793dd94d0596b51b03383c1bd3",
            "191d3c0c99e2418b9a3155fb77601f53",
            "7e747267821740d5b58a9f821b25c0ac",
            "14afb151b08a4446bd7b91820070a441",
            "6c8c5cf4c4174192ad69c03947e21d32",
            "720b70e39af647d7801a511f154879b1",
            "876f4d95e2e54670ac3d12a5d19f16c2",
            "2d4b1a3b80eb441ea2e6644c6673fc82",
            "9639d41420674739b11f801a837b6bda",
            "f06b973aaf1a4feebdb9d44e70a76ece",
            "c151ecdbf7a84be1868fdeb9fc2bd5bb",
            "eab51602e32b4b4c9fd7335923ed6a0c",
            "f5356f114245436a81812aefdd7c3f52",
            "6ff37e11745046a3b2abd21df90e9724",
            "6b9d5b27fd274b74848dcdaab1d046a6",
            "1e0a7ecab3cb4921b0f60e75aa56d7e5",
            "85ee4aadaf0245e6946d6778255c7d42",
            "656d643ea7674e479d1910f7aa6b3ee6",
            "9b73047a2c7148e19d4f3b1abbf71932"
          ]
        },
        "id": "k-en_lWZq8NS",
        "outputId": "043ef8ef-9f18-4778-f576-c5b16c824b3c"
      },
      "source": [
        "# Loop over every model\n",
        "for i in tqdm(range(len(model_num_list))):\n",
        "  # The number of timesteps is different for each model; num_times is the result of taking the number of .dat files in each model's RESULTS directory, and dividing by the number of inclinations (to get the number of timesteps)\n",
        "  num_times = int(len(glob.glob1(f'models/run_evolpapiii_newdisk_model{model_num_list[i]}/RESULTS/','*.dat')) / len(inclinations))\n",
        "  # Then, loop from 2 (every model's initial timestep is 2) to num_times + 2 (so it stops at num_times + 1) to get a list with every timestep\n",
        "  timesteps = []\n",
        "  for a in range(2, num_times + 2):\n",
        "    timesteps.append(str(a)) \n",
        "\n",
        "  # Read in the internal luminosity data from the luminosities file\n",
        "  df = pd.read_table(f'models/luminosities_model{model_num_list[i]}.tbl', \n",
        "                     skiprows=1, \n",
        "                     delim_whitespace=True, \n",
        "                     names=['Time (Myr)',\n",
        "                            'Time-t0 (yr)',\n",
        "                            'L_EtoD (Lsun)',\n",
        "                            'L_DM (Lsun)',\n",
        "                            'L_DtoS (Lsun)',\n",
        "                            'L_EtoS (Lsun)',\n",
        "                            'L_DR (Lsun)',\n",
        "                            'L_PHOT (Lsun)',\n",
        "                            'L_INT (Lsun)'])\n",
        "  lint = df['L_INT (Lsun)']\n",
        "  # Read in the mass of the star, disk, and envelope data from the parameters file\n",
        "  df = pd.read_table(f'models/model_parameters_model{model_num_list[i]}.tbl', \n",
        "                     skiprows=1, \n",
        "                     delim_whitespace=True, \n",
        "                     names=['Time (Myr)',\n",
        "                            'Time-t0 (yr)',\n",
        "                            'Mstar (Msun)',\n",
        "                            'Lstar (Lsun)',\n",
        "                            'Rstar (Rsun)',\n",
        "                            'Tstar (K)',\n",
        "                            'Rdisk_in (AU)',\n",
        "                            'Rdisk_out (AU)',\n",
        "                            'Mdisk (Msun)',\n",
        "                            'Renv_in (AU)',\n",
        "                            'Renv_out (AU)',\n",
        "                            'Menv (Msun)',\n",
        "                            'Omega_0 (1/s)',\n",
        "                            'c_s (cm/s)'])\n",
        "  mStar, mDisk, mEnv = df['Mstar (Msun)'], df['Mdisk (Msun)'], df['Menv (Msun)']\n",
        "  # Initialize variables to store class split index, and to keep track of the number of \"missing\" timesteps across all models\n",
        "  split, missing_timesteps = 0, 0\n",
        "\n",
        "  # Open master file to write in pertinent data\n",
        "  with open(\"master_file.tbl\", 'a') as master_file:\n",
        "    # Initialize inner progress bar\n",
        "    with tqdm(total=len(timesteps)*len(inclinations), leave=False) as pbar:\n",
        "      # Loop over every spectrum file\n",
        "      for b in range(len(timesteps)):  \n",
        "        for c in range(len(inclinations)):\n",
        "          # Read in the frequency and flux data from the spectrum file\n",
        "          if os.path.isfile(f'models/run_evolpapiii_newdisk_model{model_num_list[i]}/RESULTS/spectrum_{timesteps[b]}_inc{inclinations[c]}.dat') == True: \n",
        "            df = pd.read_table(f'models/run_evolpapiii_newdisk_model{model_num_list[i]}/RESULTS/spectrum_{timesteps[b]}_inc{inclinations[c]}.dat', \n",
        "                              skiprows=2, \n",
        "                              delim_whitespace=True, \n",
        "                              names=['Frequency',\n",
        "                                      'Flux'])\n",
        "            frequency, flux = df['Frequency'], df['Flux']\n",
        "            # Adjust flux data to be consistent with Dunham's previous work\n",
        "            for d in range(len(flux)):\n",
        "              flux[d] = flux[d] * frequency[d] * (1.0 / 140.0)**2\n",
        "            # Loop over every frequency value, to find the wavelength closest to 70 microns\n",
        "            min = 0\n",
        "            for e in range(len(frequency)):\n",
        "              wavelength_test = 2.99792458e14 / frequency[e]\n",
        "              min_test = abs(70 - wavelength_test)\n",
        "              if(min == 0) or (min_test < min):\n",
        "                min = min_test\n",
        "                wavelength = wavelength_test\n",
        "                index = e\n",
        "            # Writing data\n",
        "            master_file.write('{:<15} {:<20} {:<15} {:<20} {:<25} {:<15}'.format(lint[int(timesteps[b]) - 1], flux[index], inclinations[c], wavelength, (mStar[b] + mDisk[b]) / (mStar[b] + mDisk[b] + mEnv[b]), model_num_list[i]))\n",
        "            master_file.write('\\n')\n",
        "            # Find the point (index) where the star goes from class 0 to 1\n",
        "            if split == 0:\n",
        "              if (mStar[b] + mDisk[b]) / (mStar[b] + mDisk[b] + mEnv[b]) >= 0.5:\n",
        "                split_tuples[i][1] = b * len(inclinations)\n",
        "          else:\n",
        "            missing_timesteps += 1\n",
        "          # Update inner progress bar\n",
        "          pbar.update(1)\n",
        "  master_file.close()\n",
        "\n",
        "  # Find the point (index) where the current model ends\n",
        "  if i == 0:\n",
        "      split_tuples[i][0] = len(timesteps) * len(inclinations) - missing_timesteps\n",
        "  else:\n",
        "      split_tuples[i][0] = split_tuples[i - 1][0] + len(timesteps) * len(inclinations) - missing_timesteps"
      ],
      "execution_count": null,
      "outputs": [
        {
          "output_type": "display_data",
          "data": {
            "application/vnd.jupyter.widget-view+json": {
              "model_id": "72a0eb2bd3d348dfa306f97d1837a4a2",
              "version_minor": 0,
              "version_major": 2
            },
            "text/plain": [
              "  0%|          | 0/23 [00:00<?, ?it/s]"
            ]
          },
          "metadata": {}
        },
        {
          "output_type": "display_data",
          "data": {
            "application/vnd.jupyter.widget-view+json": {
              "model_id": "b123f91cf3294f75ac87f0c8a59b685a",
              "version_minor": 0,
              "version_major": 2
            },
            "text/plain": [
              "  0%|          | 0/846 [00:00<?, ?it/s]"
            ]
          },
          "metadata": {}
        },
        {
          "output_type": "display_data",
          "data": {
            "application/vnd.jupyter.widget-view+json": {
              "model_id": "c83e0c9f91b346c8a5820c965abf837a",
              "version_minor": 0,
              "version_major": 2
            },
            "text/plain": [
              "  0%|          | 0/1872 [00:00<?, ?it/s]"
            ]
          },
          "metadata": {}
        },
        {
          "output_type": "display_data",
          "data": {
            "application/vnd.jupyter.widget-view+json": {
              "model_id": "0e881b8e13e44d05a30c8ed91970bc77",
              "version_minor": 0,
              "version_major": 2
            },
            "text/plain": [
              "  0%|          | 0/4806 [00:00<?, ?it/s]"
            ]
          },
          "metadata": {}
        },
        {
          "output_type": "display_data",
          "data": {
            "application/vnd.jupyter.widget-view+json": {
              "model_id": "1ec2eeafb49b40a792f9910823db2010",
              "version_minor": 0,
              "version_major": 2
            },
            "text/plain": [
              "  0%|          | 0/4356 [00:00<?, ?it/s]"
            ]
          },
          "metadata": {}
        },
        {
          "output_type": "display_data",
          "data": {
            "application/vnd.jupyter.widget-view+json": {
              "model_id": "811b0c793dd94d0596b51b03383c1bd3",
              "version_minor": 0,
              "version_major": 2
            },
            "text/plain": [
              "  0%|          | 0/4707 [00:00<?, ?it/s]"
            ]
          },
          "metadata": {}
        },
        {
          "output_type": "display_data",
          "data": {
            "application/vnd.jupyter.widget-view+json": {
              "model_id": "191d3c0c99e2418b9a3155fb77601f53",
              "version_minor": 0,
              "version_major": 2
            },
            "text/plain": [
              "  0%|          | 0/4410 [00:00<?, ?it/s]"
            ]
          },
          "metadata": {}
        },
        {
          "output_type": "display_data",
          "data": {
            "application/vnd.jupyter.widget-view+json": {
              "model_id": "7e747267821740d5b58a9f821b25c0ac",
              "version_minor": 0,
              "version_major": 2
            },
            "text/plain": [
              "  0%|          | 0/4239 [00:00<?, ?it/s]"
            ]
          },
          "metadata": {}
        },
        {
          "output_type": "display_data",
          "data": {
            "application/vnd.jupyter.widget-view+json": {
              "model_id": "14afb151b08a4446bd7b91820070a441",
              "version_minor": 0,
              "version_major": 2
            },
            "text/plain": [
              "  0%|          | 0/4824 [00:00<?, ?it/s]"
            ]
          },
          "metadata": {}
        },
        {
          "output_type": "display_data",
          "data": {
            "application/vnd.jupyter.widget-view+json": {
              "model_id": "6c8c5cf4c4174192ad69c03947e21d32",
              "version_minor": 0,
              "version_major": 2
            },
            "text/plain": [
              "  0%|          | 0/4239 [00:00<?, ?it/s]"
            ]
          },
          "metadata": {}
        },
        {
          "output_type": "display_data",
          "data": {
            "application/vnd.jupyter.widget-view+json": {
              "model_id": "720b70e39af647d7801a511f154879b1",
              "version_minor": 0,
              "version_major": 2
            },
            "text/plain": [
              "  0%|          | 0/4653 [00:00<?, ?it/s]"
            ]
          },
          "metadata": {}
        },
        {
          "output_type": "display_data",
          "data": {
            "application/vnd.jupyter.widget-view+json": {
              "model_id": "876f4d95e2e54670ac3d12a5d19f16c2",
              "version_minor": 0,
              "version_major": 2
            },
            "text/plain": [
              "  0%|          | 0/4419 [00:00<?, ?it/s]"
            ]
          },
          "metadata": {}
        },
        {
          "output_type": "display_data",
          "data": {
            "application/vnd.jupyter.widget-view+json": {
              "model_id": "2d4b1a3b80eb441ea2e6644c6673fc82",
              "version_minor": 0,
              "version_major": 2
            },
            "text/plain": [
              "  0%|          | 0/4752 [00:00<?, ?it/s]"
            ]
          },
          "metadata": {}
        },
        {
          "output_type": "display_data",
          "data": {
            "application/vnd.jupyter.widget-view+json": {
              "model_id": "9639d41420674739b11f801a837b6bda",
              "version_minor": 0,
              "version_major": 2
            },
            "text/plain": [
              "  0%|          | 0/3645 [00:00<?, ?it/s]"
            ]
          },
          "metadata": {}
        },
        {
          "output_type": "display_data",
          "data": {
            "application/vnd.jupyter.widget-view+json": {
              "model_id": "f06b973aaf1a4feebdb9d44e70a76ece",
              "version_minor": 0,
              "version_major": 2
            },
            "text/plain": [
              "  0%|          | 0/3546 [00:00<?, ?it/s]"
            ]
          },
          "metadata": {}
        },
        {
          "output_type": "display_data",
          "data": {
            "application/vnd.jupyter.widget-view+json": {
              "model_id": "c151ecdbf7a84be1868fdeb9fc2bd5bb",
              "version_minor": 0,
              "version_major": 2
            },
            "text/plain": [
              "  0%|          | 0/5688 [00:00<?, ?it/s]"
            ]
          },
          "metadata": {}
        },
        {
          "output_type": "display_data",
          "data": {
            "application/vnd.jupyter.widget-view+json": {
              "model_id": "eab51602e32b4b4c9fd7335923ed6a0c",
              "version_minor": 0,
              "version_major": 2
            },
            "text/plain": [
              "  0%|          | 0/2610 [00:00<?, ?it/s]"
            ]
          },
          "metadata": {}
        },
        {
          "output_type": "display_data",
          "data": {
            "application/vnd.jupyter.widget-view+json": {
              "model_id": "f5356f114245436a81812aefdd7c3f52",
              "version_minor": 0,
              "version_major": 2
            },
            "text/plain": [
              "  0%|          | 0/3870 [00:00<?, ?it/s]"
            ]
          },
          "metadata": {}
        },
        {
          "output_type": "display_data",
          "data": {
            "application/vnd.jupyter.widget-view+json": {
              "model_id": "6ff37e11745046a3b2abd21df90e9724",
              "version_minor": 0,
              "version_major": 2
            },
            "text/plain": [
              "  0%|          | 0/4185 [00:00<?, ?it/s]"
            ]
          },
          "metadata": {}
        },
        {
          "output_type": "display_data",
          "data": {
            "application/vnd.jupyter.widget-view+json": {
              "model_id": "6b9d5b27fd274b74848dcdaab1d046a6",
              "version_minor": 0,
              "version_major": 2
            },
            "text/plain": [
              "  0%|          | 0/2385 [00:00<?, ?it/s]"
            ]
          },
          "metadata": {}
        },
        {
          "output_type": "display_data",
          "data": {
            "application/vnd.jupyter.widget-view+json": {
              "model_id": "1e0a7ecab3cb4921b0f60e75aa56d7e5",
              "version_minor": 0,
              "version_major": 2
            },
            "text/plain": [
              "  0%|          | 0/5220 [00:00<?, ?it/s]"
            ]
          },
          "metadata": {}
        },
        {
          "output_type": "display_data",
          "data": {
            "application/vnd.jupyter.widget-view+json": {
              "model_id": "85ee4aadaf0245e6946d6778255c7d42",
              "version_minor": 0,
              "version_major": 2
            },
            "text/plain": [
              "  0%|          | 0/4581 [00:00<?, ?it/s]"
            ]
          },
          "metadata": {}
        },
        {
          "output_type": "display_data",
          "data": {
            "application/vnd.jupyter.widget-view+json": {
              "model_id": "656d643ea7674e479d1910f7aa6b3ee6",
              "version_minor": 0,
              "version_major": 2
            },
            "text/plain": [
              "  0%|          | 0/2664 [00:00<?, ?it/s]"
            ]
          },
          "metadata": {}
        },
        {
          "output_type": "display_data",
          "data": {
            "application/vnd.jupyter.widget-view+json": {
              "model_id": "9b73047a2c7148e19d4f3b1abbf71932",
              "version_minor": 0,
              "version_major": 2
            },
            "text/plain": [
              "  0%|          | 0/3402 [00:00<?, ?it/s]"
            ]
          },
          "metadata": {}
        }
      ]
    },
    {
      "cell_type": "code",
      "metadata": {
        "id": "aPdvGULKWNN0"
      },
      "source": [
        "with open('split_tuples.tbl', 'w') as f:\n",
        "  for i in range(len(split_tuples)):\n",
        "    f.write(f'{split_tuples[i][0]} {split_tuples[i][1]}\\n')\n",
        "f.close()"
      ],
      "execution_count": null,
      "outputs": []
    },
    {
      "cell_type": "markdown",
      "metadata": {
        "id": "fcd-6TdlN5o9"
      },
      "source": [
        "# Data Visualization\n",
        "\n",
        "To start the visualization process, we first read back in the data from our master files."
      ]
    },
    {
      "cell_type": "code",
      "metadata": {
        "id": "sf_2wTQZc9sP"
      },
      "source": [
        "df = pd.read_table('master_file.tbl', skiprows=1, delim_whitespace=True, names=['L_int', \n",
        "                                                                                'Flux', \n",
        "                                                                                'Inclination', \n",
        "                                                                                'Wavelength of flux', \n",
        "                                                                                'Internal vs Final mass', \n",
        "                                                                                'Model Number'])\n",
        "lint_master, flux_master = df['L_int'].values.tolist(), df['Flux'].values.tolist()\n",
        "df = pd.read_table('split_tuples.tbl', delim_whitespace=True, names=['Model', \n",
        "                                                                     'Class'])\n",
        "split_tuples = df.values.tolist()\n",
        "# Initialize master lists to store all class 0 and 1 data\n",
        "lint_master_0, flux_master_0, lint_master_1, flux_master_1, lint_master_log, flux_master_log, lint_master_0_log, flux_master_0_log, lint_master_1_log, flux_master_1_log = [], [], [], [], [], [], [], [], [], []"
      ],
      "execution_count": null,
      "outputs": []
    },
    {
      "cell_type": "markdown",
      "metadata": {
        "id": "JwQez_b6dC4q"
      },
      "source": [
        "Then, loop over each model's data, making 3 plots each (Class 0, Class 1, and Class 0 & 1), all fitted with a linear regression."
      ]
    },
    {
      "cell_type": "markdown",
      "metadata": {
        "id": "_MYzLjpREjHd"
      },
      "source": [
        "---\n",
        "\n",
        "# Omit linear regression for now and just make plots. Could error be in `np.logspace()` instead of `np.linspace()`? Could also be the ranges, i.e. not `[1e-8, 1e+2]`?"
      ]
    },
    {
      "cell_type": "code",
      "metadata": {
        "id": "n5bfedqAN5yO",
        "colab": {
          "base_uri": "https://localhost:8080/",
          "height": 66,
          "referenced_widgets": [
            "17496b91cf804ca190b2fc6c59ec6873",
            "ced3e1786d434415a7b6ab442050c4b3",
            "4428f5ee2f9c4e7a8c46301f6ed0e96e",
            "23af2bab284d4b9b9e806a240a635855",
            "49ef693c81c44b0fbf3ef4dd4c811abb",
            "11a7c1b4518143deabda1fe1c86ff2a5",
            "af0bd9c82fb54fd692d960c577851d55",
            "181fd38ac8d04e3db7a9a5e34ededb10",
            "3664c969547945f98ba9f800bff4c3de",
            "ee05d4936fd34c1a8aacab046d3186d6",
            "59b56701d6f84efabfb90f05651a0ebc"
          ]
        },
        "outputId": "5331e478-d450-43ef-f71e-7ade97317a81"
      },
      "source": [
        "# Loop over each tuple in the 2D list split_tuples, such that we consdier only one model at a time\n",
        "for j in tqdm(range(len(model_num_list))):\n",
        "  # Split out appropriate internal luminosity and flux data\n",
        "  if j == 0:\n",
        "    lint, flux = lint_master[:split_tuples[j][0]], flux_master[:split_tuples[j][0]]\n",
        "  else:\n",
        "    lint, flux = lint_master[split_tuples[j - 1][0]:split_tuples[j][0]], flux_master[split_tuples[j - 1][0]:split_tuples[j][0]]\n",
        "  # Split data into class 0 and 1\n",
        "  lint_0, flux_0, lint_1, flux_1 = lint[:split_tuples[j][1]], flux[:split_tuples[j][1]], lint[split_tuples[j][1]:], flux[split_tuples[j][1]:]\n",
        "  # Take the log (base 10) of each flux and internal luminosity list\n",
        "  lint_log, flux_log, lint_0_log, flux_0_log, lint_1_log, flux_1_log = np.log10(lint), np.log10(flux), np.log10(lint_0), np.log10(flux_0), np.log10(lint_1), np.log10(flux_1)\n",
        "  # Add data to master lists\n",
        "  lint_master_0.extend(lint_0)\n",
        "  flux_master_0.extend(flux_0)\n",
        "  lint_master_1.extend(lint_1)\n",
        "  flux_master_1.extend(flux_1)\n",
        "  lint_master_log.extend(lint_log)\n",
        "  flux_master_log.extend(flux_log)\n",
        "  lint_master_0_log.extend(lint_0_log)\n",
        "  flux_master_0_log.extend(flux_0_log)\n",
        "  lint_master_1_log.extend(lint_1_log)\n",
        "  flux_master_1_log.extend(flux_1_log)\n",
        "\n",
        "  # Make flux vs internal luminosity plots, starting first with Class 0 & 1\n",
        "  plt.scatter(lint, flux)\n",
        "  plt.title(f'Model {model_num_list[j]} Flux vs Internal Luminosity (Class 0 & 1)')\n",
        "  plt.xlabel('Internal Luminosity (L$_{sun}$)')\n",
        "  plt.ylabel('Flux (erg cm$^{-2}$ s$^{-1}$)')\n",
        "  plt.xscale('log')\n",
        "  plt.yscale('log')\n",
        "  plt.xlim(1e-19, 1e6)\n",
        "  plt.ylim(1e-15, 1e-5)\n",
        "  # # Plot linear regression, where we only consider internal luminosity values >= 0.1\n",
        "  # split_lin_reg = 0\n",
        "  # for f in range(len(lint)):\n",
        "  #   if split_lin_reg == 0:\n",
        "  #     if lint[f] >= 0.1:   \n",
        "  #       split_lin_reg = f\n",
        "  # # Split the logged data such that internal luminosity values < 0.1 are rejected\n",
        "  # lint_log_lin_reg, flux_log_lin_reg = lint_log[split_lin_reg:], flux_log[split_lin_reg:]\n",
        "  # # Fit the linear regression to the logged data, yielding a slope and intercept (keeping in mind to plot against linear data)\n",
        "  # m, b = np.polyfit(lint_log_lin_reg, flux_log_lin_reg, 1)\n",
        "  # L = np.logspace(10 ** -8, 10 ** 2, 846)\n",
        "  # F = (10 ** b) * (L ** m)\n",
        "  # plt.plot(L, F, color='k')\n",
        "  # plt.legend(['Linear regression'])\n",
        "  # # Save & clear plot\n",
        "  plt.savefig(f'Figures/model_{model_num_list[j]}_flux_vs_lint.eps')\n",
        "  plt.clf()\n",
        "  \n",
        "  # Next, for Class 0\n",
        "  plt.scatter(lint_0, flux_0)\n",
        "  plt.title(f'Model {model_num_list[j]} Flux vs Internal Luminosity (Class 0)')\n",
        "  plt.xlabel('Internal Luminosity (L$_{sun}$)')\n",
        "  plt.ylabel('Flux (erg cm$^{-2}$ s$^{-1}$)')\n",
        "  plt.xscale('log')\n",
        "  plt.yscale('log')\n",
        "  plt.xlim(1e-19, 1e6)\n",
        "  plt.ylim(1e-15, 1e-5)\n",
        "  # # Plot linear regression, where we only consider internal luminosity values >= 0.1\n",
        "  # split_lin_reg = 0\n",
        "  # for g in range(len(lint_0)):\n",
        "  #   if split_lin_reg == 0:\n",
        "  #     if lint_0[g] >= 0.1:\n",
        "  #       split_lin_reg = g\n",
        "  # # Split the logged data such that internal luminosity values < 0.1 are rejected\n",
        "  # lint_0_log_lin_reg, flux_0_log_lin_reg = lint_0_log[split_lin_reg:], flux_0_log[split_lin_reg:]\n",
        "  # # Fit the linear regression to the logged data, yielding a slope and intercept (keeping in mind to plot against linear data)\n",
        "  # m, b = np.polyfit(lint_0_log_lin_reg, flux_0_log_lin_reg, 1)\n",
        "  # L = np.logspace(10 ** -8, 10 ** 2, 846)\n",
        "  # F = (10 ** b) * (L ** m)\n",
        "  # plt.plot(L, F, color='k')\n",
        "  # plt.legend(['Linear regression'])\n",
        "  # # Save & clear plot\n",
        "  plt.savefig(f'Figures/model_{model_num_list[j]}_flux_vs_lint_class0.eps')\n",
        "  plt.clf()\n",
        "\n",
        "  # Finally, for class 1\n",
        "  plt.scatter(lint_1, flux_1)\n",
        "  plt.title(f'Model {model_num_list[j]} Flux vs Internal Luminosity (Class 1)')\n",
        "  plt.xlabel('Internal Luminosity (L$_{sun}$)')\n",
        "  plt.ylabel('Flux (erg cm$^{-2}$ s$^{-1}$)')\n",
        "  plt.xscale('log')\n",
        "  plt.yscale('log')\n",
        "  plt.xlim(1e-19, 1e6)\n",
        "  plt.ylim(1e-15, 1e-5)\n",
        "  # # Plot linear regression, where we note that all internal luminosity values are >= 0.1, meaning we can simply fit the linear regression to the logged data, yielding a slope and intercept (keeping in mind to plot against linear data)\n",
        "  # m, b = np.polyfit(lint_1_log, flux_1_log, 1)\n",
        "  # L = np.logspace(10 ** -8, 10 ** 2, 846)\n",
        "  # F = (10 ** b) * (L ** m)\n",
        "  # plt.plot(L, F, color='k')\n",
        "  # plt.legend(['Linear regression'])\n",
        "  # # Save & clear plot\n",
        "  plt.savefig(f'Figures/model_{model_num_list[j]}_flux_vs_lint_class1.eps')\n",
        "  plt.clf()"
      ],
      "execution_count": null,
      "outputs": [
        {
          "output_type": "display_data",
          "data": {
            "application/vnd.jupyter.widget-view+json": {
              "model_id": "17496b91cf804ca190b2fc6c59ec6873",
              "version_minor": 0,
              "version_major": 2
            },
            "text/plain": [
              "  0%|          | 0/23 [00:00<?, ?it/s]"
            ]
          },
          "metadata": {}
        },
        {
          "output_type": "display_data",
          "data": {
            "text/plain": [
              "<Figure size 432x288 with 0 Axes>"
            ]
          },
          "metadata": {}
        }
      ]
    },
    {
      "cell_type": "markdown",
      "metadata": {
        "id": "mgYJSLV1dXra"
      },
      "source": [
        "Finally, make 3 master plots containing all the data from every single model (Class 0, Class 1, and Class 0 & 1), again fitting a linear regression to each."
      ]
    },
    {
      "cell_type": "code",
      "metadata": {
        "id": "wJbpRw10gU_Y",
        "colab": {
          "base_uri": "https://localhost:8080/",
          "height": 34
        },
        "outputId": "d4faab30-6f79-487b-d2b8-1850cf689d40"
      },
      "source": [
        "# Class 0 & 1\n",
        "plt.scatter(lint_master, flux_master)\n",
        "plt.title('All Models Flux vs Internal Luminosity (Class 0 & 1)')\n",
        "plt.xlabel('Internal Luminosity (L$_{sun}$)')\n",
        "plt.ylabel('Flux (erg cm$^{-2}$ s$^{-1}$)')\n",
        "plt.xscale('log')\n",
        "plt.yscale('log')\n",
        "plt.xlim(1e-19, 1e6)\n",
        "plt.ylim(1e-15, 1e-5)\n",
        "# # Plot linear regression, where we only consider internal luminosity values >= 0.1\n",
        "# split_lin_reg = 0\n",
        "# for h in range(len(lint_master)):\n",
        "#   if split_lin_reg == 0:\n",
        "#     if lint_master[h] >= 0.1:   \n",
        "#       split_lin_reg = h\n",
        "# # Split the logged data such that internal luminosity values < 0.1 are rejected\n",
        "# lint_master_log_lin_reg, flux_master_log_lin_reg = lint_master_log[split_lin_reg:], flux_master_log[split_lin_reg:]\n",
        "# # Fit the linear regression to the logged data, yielding a slope and intercept (keeping in mind to plot against linear data)\n",
        "# m, b = np.polyfit(lint_master_log_lin_reg, flux_master_log_lin_reg, 1)\n",
        "# L = np.logspace(10 ** -8, 10 ** 2, 846)\n",
        "# F = (10 ** b) * (L ** m)\n",
        "# plt.plot(L, F, color='k')\n",
        "# plt.legend(['Linear regression'])\n",
        "# # Save & clear plot\n",
        "plt.savefig('Figures/master_flux_vs_lint.eps')\n",
        "plt.clf()\n",
        "\n",
        "# Class 0 \n",
        "plt.scatter(lint_master_0, flux_master_0)\n",
        "plt.title('All Models Flux vs Internal Luminosity (Class 0)')\n",
        "plt.xlabel('Internal Luminosity (L$_{sun}$)')\n",
        "plt.ylabel('Flux (erg cm$^{-2}$ s$^{-1}$)')\n",
        "plt.xscale('log')\n",
        "plt.yscale('log')\n",
        "plt.xlim(1e-19, 1e6)\n",
        "plt.ylim(1e-15, 1e-5)\n",
        "# # Plot linear regression, where we only consider internal luminosity values >= 0.1\n",
        "# split_lin_reg = 0\n",
        "# for i in range(len(lint_master_0)):\n",
        "#   if split_lin_reg == 0:\n",
        "#     if lint_master_0[i] >= 0.1:\n",
        "#       split_lin_reg = i\n",
        "# # Split the logged data such that internal luminosity values < 0.1 are rejected\n",
        "# lint_master_0_log_lin_reg, flux_master_0_log_lin_reg = lint_master_0_log[split_lin_reg:], flux_master_0_log[split_lin_reg:]\n",
        "# # Fit the linear regression to the logged data, yielding a slope and intercept (keeping in mind to plot against linear data)\n",
        "# m, b = np.polyfit(lint_master_0_log_lin_reg, flux_master_0_log_lin_reg, 1)\n",
        "# L = np.logspace(10 ** -8, 10 ** 2, 846)\n",
        "# F = (10 ** b) * (L ** m)\n",
        "# plt.plot(L, F, color='k')\n",
        "# plt.legend(['Linear regression'])\n",
        "# # Save & clear plot\n",
        "plt.savefig('Figures/master_flux_vs_lint_class0.eps')\n",
        "plt.clf()\n",
        "\n",
        "# Class 1\n",
        "plt.scatter(lint_master_1, flux_master_1)\n",
        "plt.title('All Models Flux vs Internal Luminosity (Class 1)')\n",
        "plt.xlabel('Internal Luminosity (L$_{sun}$)')\n",
        "plt.ylabel('Flux (erg cm$^{-2}$ s$^{-1}$)')\n",
        "plt.xscale('log')\n",
        "plt.yscale('log')\n",
        "plt.xlim(1e-19, 1e6)\n",
        "plt.ylim(1e-15, 1e-5)\n",
        "# # Plot linear regression, where we note that all internal luminosity values are >= 0.1, meaning we can simply fit the linear regression to the logged data, yielding a slope and intercept (keeping in mind to plot against linear data)\n",
        "# m, b = np.polyfit(lint_master_1_log, flux_master_1_log, 1)\n",
        "# L = np.logspace(10 ** -8, 10 ** 2, 846)\n",
        "# F = (10 ** b) * (L ** m)\n",
        "# plt.plot(L, F, color='k')\n",
        "# plt.legend(['Linear regression'])\n",
        "# # Save & clear plot\n",
        "plt.savefig('Figures/master_flux_vs_lint_class1.eps')\n",
        "plt.clf()"
      ],
      "execution_count": null,
      "outputs": [
        {
          "output_type": "display_data",
          "data": {
            "text/plain": [
              "<Figure size 432x288 with 0 Axes>"
            ]
          },
          "metadata": {}
        }
      ]
    }
  ]
}