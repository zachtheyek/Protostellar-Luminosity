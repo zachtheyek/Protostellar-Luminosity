{
  "nbformat": 4,
  "nbformat_minor": 0,
  "metadata": {
    "colab": {
      "name": "proto_lumin.ipynb",
      "provenance": [],
      "collapsed_sections": [],
      "machine_shape": "hm"
    },
    "kernelspec": {
      "name": "python3",
      "display_name": "Python 3"
    },
    "language_info": {
      "name": "python"
    },
    "widgets": {
      "application/vnd.jupyter.widget-state+json": {
        "0f06897597c642908e6834b022b9cdc5": {
          "model_module": "@jupyter-widgets/controls",
          "model_name": "HBoxModel",
          "model_module_version": "1.5.0",
          "state": {
            "_view_name": "HBoxView",
            "_dom_classes": [],
            "_model_name": "HBoxModel",
            "_view_module": "@jupyter-widgets/controls",
            "_model_module_version": "1.5.0",
            "_view_count": null,
            "_view_module_version": "1.5.0",
            "box_style": "",
            "layout": "IPY_MODEL_75335cf6b5044b68b758c623dbc0e697",
            "_model_module": "@jupyter-widgets/controls",
            "children": [
              "IPY_MODEL_3f93a6ee79294f57b83453bc68d700f3",
              "IPY_MODEL_c24ca56d4b0446f29afd1d3982fa329e",
              "IPY_MODEL_b9d60b3d8d0e4238b077c936afe3bdf5"
            ]
          }
        },
        "75335cf6b5044b68b758c623dbc0e697": {
          "model_module": "@jupyter-widgets/base",
          "model_name": "LayoutModel",
          "model_module_version": "1.2.0",
          "state": {
            "_view_name": "LayoutView",
            "grid_template_rows": null,
            "right": null,
            "justify_content": null,
            "_view_module": "@jupyter-widgets/base",
            "overflow": null,
            "_model_module_version": "1.2.0",
            "_view_count": null,
            "flex_flow": null,
            "width": null,
            "min_width": null,
            "border": null,
            "align_items": null,
            "bottom": null,
            "_model_module": "@jupyter-widgets/base",
            "top": null,
            "grid_column": null,
            "overflow_y": null,
            "overflow_x": null,
            "grid_auto_flow": null,
            "grid_area": null,
            "grid_template_columns": null,
            "flex": null,
            "_model_name": "LayoutModel",
            "justify_items": null,
            "grid_row": null,
            "max_height": null,
            "align_content": null,
            "visibility": null,
            "align_self": null,
            "height": null,
            "min_height": null,
            "padding": null,
            "grid_auto_rows": null,
            "grid_gap": null,
            "max_width": null,
            "order": null,
            "_view_module_version": "1.2.0",
            "grid_template_areas": null,
            "object_position": null,
            "object_fit": null,
            "grid_auto_columns": null,
            "margin": null,
            "display": null,
            "left": null
          }
        },
        "3f93a6ee79294f57b83453bc68d700f3": {
          "model_module": "@jupyter-widgets/controls",
          "model_name": "HTMLModel",
          "model_module_version": "1.5.0",
          "state": {
            "_view_name": "HTMLView",
            "style": "IPY_MODEL_841f559651254e00888d5adccadb9734",
            "_dom_classes": [],
            "description": "",
            "_model_name": "HTMLModel",
            "placeholder": "​",
            "_view_module": "@jupyter-widgets/controls",
            "_model_module_version": "1.5.0",
            "value": "  0%",
            "_view_count": null,
            "_view_module_version": "1.5.0",
            "description_tooltip": null,
            "_model_module": "@jupyter-widgets/controls",
            "layout": "IPY_MODEL_464e7911bfb74914ab9cca96daa5366d"
          }
        },
        "c24ca56d4b0446f29afd1d3982fa329e": {
          "model_module": "@jupyter-widgets/controls",
          "model_name": "FloatProgressModel",
          "model_module_version": "1.5.0",
          "state": {
            "_view_name": "ProgressView",
            "style": "IPY_MODEL_2da067fb82a5459aa79b076a4396cec3",
            "_dom_classes": [],
            "description": "",
            "_model_name": "FloatProgressModel",
            "bar_style": "danger",
            "max": 23,
            "_view_module": "@jupyter-widgets/controls",
            "_model_module_version": "1.5.0",
            "value": 0,
            "_view_count": null,
            "_view_module_version": "1.5.0",
            "orientation": "horizontal",
            "min": 0,
            "description_tooltip": null,
            "_model_module": "@jupyter-widgets/controls",
            "layout": "IPY_MODEL_57e9a519a843453b80d7061b45093a69"
          }
        },
        "b9d60b3d8d0e4238b077c936afe3bdf5": {
          "model_module": "@jupyter-widgets/controls",
          "model_name": "HTMLModel",
          "model_module_version": "1.5.0",
          "state": {
            "_view_name": "HTMLView",
            "style": "IPY_MODEL_6900eaa8faf44678b989c93b6c583e97",
            "_dom_classes": [],
            "description": "",
            "_model_name": "HTMLModel",
            "placeholder": "​",
            "_view_module": "@jupyter-widgets/controls",
            "_model_module_version": "1.5.0",
            "value": " 0/23 [00:23&lt;?, ?it/s]",
            "_view_count": null,
            "_view_module_version": "1.5.0",
            "description_tooltip": null,
            "_model_module": "@jupyter-widgets/controls",
            "layout": "IPY_MODEL_21830bf7383a47bebcf70fe58277f551"
          }
        },
        "841f559651254e00888d5adccadb9734": {
          "model_module": "@jupyter-widgets/controls",
          "model_name": "DescriptionStyleModel",
          "model_module_version": "1.5.0",
          "state": {
            "_view_name": "StyleView",
            "_model_name": "DescriptionStyleModel",
            "description_width": "",
            "_view_module": "@jupyter-widgets/base",
            "_model_module_version": "1.5.0",
            "_view_count": null,
            "_view_module_version": "1.2.0",
            "_model_module": "@jupyter-widgets/controls"
          }
        },
        "464e7911bfb74914ab9cca96daa5366d": {
          "model_module": "@jupyter-widgets/base",
          "model_name": "LayoutModel",
          "model_module_version": "1.2.0",
          "state": {
            "_view_name": "LayoutView",
            "grid_template_rows": null,
            "right": null,
            "justify_content": null,
            "_view_module": "@jupyter-widgets/base",
            "overflow": null,
            "_model_module_version": "1.2.0",
            "_view_count": null,
            "flex_flow": null,
            "width": null,
            "min_width": null,
            "border": null,
            "align_items": null,
            "bottom": null,
            "_model_module": "@jupyter-widgets/base",
            "top": null,
            "grid_column": null,
            "overflow_y": null,
            "overflow_x": null,
            "grid_auto_flow": null,
            "grid_area": null,
            "grid_template_columns": null,
            "flex": null,
            "_model_name": "LayoutModel",
            "justify_items": null,
            "grid_row": null,
            "max_height": null,
            "align_content": null,
            "visibility": null,
            "align_self": null,
            "height": null,
            "min_height": null,
            "padding": null,
            "grid_auto_rows": null,
            "grid_gap": null,
            "max_width": null,
            "order": null,
            "_view_module_version": "1.2.0",
            "grid_template_areas": null,
            "object_position": null,
            "object_fit": null,
            "grid_auto_columns": null,
            "margin": null,
            "display": null,
            "left": null
          }
        },
        "2da067fb82a5459aa79b076a4396cec3": {
          "model_module": "@jupyter-widgets/controls",
          "model_name": "ProgressStyleModel",
          "model_module_version": "1.5.0",
          "state": {
            "_view_name": "StyleView",
            "_model_name": "ProgressStyleModel",
            "description_width": "",
            "_view_module": "@jupyter-widgets/base",
            "_model_module_version": "1.5.0",
            "_view_count": null,
            "_view_module_version": "1.2.0",
            "bar_color": null,
            "_model_module": "@jupyter-widgets/controls"
          }
        },
        "57e9a519a843453b80d7061b45093a69": {
          "model_module": "@jupyter-widgets/base",
          "model_name": "LayoutModel",
          "model_module_version": "1.2.0",
          "state": {
            "_view_name": "LayoutView",
            "grid_template_rows": null,
            "right": null,
            "justify_content": null,
            "_view_module": "@jupyter-widgets/base",
            "overflow": null,
            "_model_module_version": "1.2.0",
            "_view_count": null,
            "flex_flow": null,
            "width": null,
            "min_width": null,
            "border": null,
            "align_items": null,
            "bottom": null,
            "_model_module": "@jupyter-widgets/base",
            "top": null,
            "grid_column": null,
            "overflow_y": null,
            "overflow_x": null,
            "grid_auto_flow": null,
            "grid_area": null,
            "grid_template_columns": null,
            "flex": null,
            "_model_name": "LayoutModel",
            "justify_items": null,
            "grid_row": null,
            "max_height": null,
            "align_content": null,
            "visibility": null,
            "align_self": null,
            "height": null,
            "min_height": null,
            "padding": null,
            "grid_auto_rows": null,
            "grid_gap": null,
            "max_width": null,
            "order": null,
            "_view_module_version": "1.2.0",
            "grid_template_areas": null,
            "object_position": null,
            "object_fit": null,
            "grid_auto_columns": null,
            "margin": null,
            "display": null,
            "left": null
          }
        },
        "6900eaa8faf44678b989c93b6c583e97": {
          "model_module": "@jupyter-widgets/controls",
          "model_name": "DescriptionStyleModel",
          "model_module_version": "1.5.0",
          "state": {
            "_view_name": "StyleView",
            "_model_name": "DescriptionStyleModel",
            "description_width": "",
            "_view_module": "@jupyter-widgets/base",
            "_model_module_version": "1.5.0",
            "_view_count": null,
            "_view_module_version": "1.2.0",
            "_model_module": "@jupyter-widgets/controls"
          }
        },
        "21830bf7383a47bebcf70fe58277f551": {
          "model_module": "@jupyter-widgets/base",
          "model_name": "LayoutModel",
          "model_module_version": "1.2.0",
          "state": {
            "_view_name": "LayoutView",
            "grid_template_rows": null,
            "right": null,
            "justify_content": null,
            "_view_module": "@jupyter-widgets/base",
            "overflow": null,
            "_model_module_version": "1.2.0",
            "_view_count": null,
            "flex_flow": null,
            "width": null,
            "min_width": null,
            "border": null,
            "align_items": null,
            "bottom": null,
            "_model_module": "@jupyter-widgets/base",
            "top": null,
            "grid_column": null,
            "overflow_y": null,
            "overflow_x": null,
            "grid_auto_flow": null,
            "grid_area": null,
            "grid_template_columns": null,
            "flex": null,
            "_model_name": "LayoutModel",
            "justify_items": null,
            "grid_row": null,
            "max_height": null,
            "align_content": null,
            "visibility": null,
            "align_self": null,
            "height": null,
            "min_height": null,
            "padding": null,
            "grid_auto_rows": null,
            "grid_gap": null,
            "max_width": null,
            "order": null,
            "_view_module_version": "1.2.0",
            "grid_template_areas": null,
            "object_position": null,
            "object_fit": null,
            "grid_auto_columns": null,
            "margin": null,
            "display": null,
            "left": null
          }
        },
        "512ac2adae654354b1fa5526783c1c8f": {
          "model_module": "@jupyter-widgets/controls",
          "model_name": "HBoxModel",
          "model_module_version": "1.5.0",
          "state": {
            "_view_name": "HBoxView",
            "_dom_classes": [],
            "_model_name": "HBoxModel",
            "_view_module": "@jupyter-widgets/controls",
            "_model_module_version": "1.5.0",
            "_view_count": null,
            "_view_module_version": "1.5.0",
            "box_style": "",
            "layout": "IPY_MODEL_3adef7d93823441f9b7f08d7690d79b5",
            "_model_module": "@jupyter-widgets/controls",
            "children": [
              "IPY_MODEL_0d36ef8bcd8d4c03b218ca2ef268d31a",
              "IPY_MODEL_c8cc7a381db047d185c1126c7a6af115",
              "IPY_MODEL_60d21af8e3dd4736906cab2a7f513054"
            ]
          }
        },
        "3adef7d93823441f9b7f08d7690d79b5": {
          "model_module": "@jupyter-widgets/base",
          "model_name": "LayoutModel",
          "model_module_version": "1.2.0",
          "state": {
            "_view_name": "LayoutView",
            "grid_template_rows": null,
            "right": null,
            "justify_content": null,
            "_view_module": "@jupyter-widgets/base",
            "overflow": null,
            "_model_module_version": "1.2.0",
            "_view_count": null,
            "flex_flow": null,
            "width": null,
            "min_width": null,
            "border": null,
            "align_items": null,
            "bottom": null,
            "_model_module": "@jupyter-widgets/base",
            "top": null,
            "grid_column": null,
            "overflow_y": null,
            "overflow_x": null,
            "grid_auto_flow": null,
            "grid_area": null,
            "grid_template_columns": null,
            "flex": null,
            "_model_name": "LayoutModel",
            "justify_items": null,
            "grid_row": null,
            "max_height": null,
            "align_content": null,
            "visibility": null,
            "align_self": null,
            "height": null,
            "min_height": null,
            "padding": null,
            "grid_auto_rows": null,
            "grid_gap": null,
            "max_width": null,
            "order": null,
            "_view_module_version": "1.2.0",
            "grid_template_areas": null,
            "object_position": null,
            "object_fit": null,
            "grid_auto_columns": null,
            "margin": null,
            "display": null,
            "left": null
          }
        },
        "0d36ef8bcd8d4c03b218ca2ef268d31a": {
          "model_module": "@jupyter-widgets/controls",
          "model_name": "HTMLModel",
          "model_module_version": "1.5.0",
          "state": {
            "_view_name": "HTMLView",
            "style": "IPY_MODEL_d1d6f4c9b45d404380d32f51626fdfa8",
            "_dom_classes": [],
            "description": "",
            "_model_name": "HTMLModel",
            "placeholder": "​",
            "_view_module": "@jupyter-widgets/controls",
            "_model_module_version": "1.5.0",
            "value": "  3%",
            "_view_count": null,
            "_view_module_version": "1.5.0",
            "description_tooltip": null,
            "_model_module": "@jupyter-widgets/controls",
            "layout": "IPY_MODEL_8a70f4133ac04f69b58083e08a85fe43"
          }
        },
        "c8cc7a381db047d185c1126c7a6af115": {
          "model_module": "@jupyter-widgets/controls",
          "model_name": "FloatProgressModel",
          "model_module_version": "1.5.0",
          "state": {
            "_view_name": "ProgressView",
            "style": "IPY_MODEL_a0bb2560a36046f4961e6553f057b5e9",
            "_dom_classes": [],
            "description": "",
            "_model_name": "FloatProgressModel",
            "bar_style": "danger",
            "max": 846,
            "_view_module": "@jupyter-widgets/controls",
            "_model_module_version": "1.5.0",
            "value": 25,
            "_view_count": null,
            "_view_module_version": "1.5.0",
            "orientation": "horizontal",
            "min": 0,
            "description_tooltip": null,
            "_model_module": "@jupyter-widgets/controls",
            "layout": "IPY_MODEL_f588fde3b249418e87dd2da86ced137f"
          }
        },
        "60d21af8e3dd4736906cab2a7f513054": {
          "model_module": "@jupyter-widgets/controls",
          "model_name": "HTMLModel",
          "model_module_version": "1.5.0",
          "state": {
            "_view_name": "HTMLView",
            "style": "IPY_MODEL_2cb35cab55e342eb809f1cdd05a45e16",
            "_dom_classes": [],
            "description": "",
            "_model_name": "HTMLModel",
            "placeholder": "​",
            "_view_module": "@jupyter-widgets/controls",
            "_model_module_version": "1.5.0",
            "value": " 25/846 [00:14&lt;07:15,  1.89it/s]",
            "_view_count": null,
            "_view_module_version": "1.5.0",
            "description_tooltip": null,
            "_model_module": "@jupyter-widgets/controls",
            "layout": "IPY_MODEL_f9966b44e2b642c0a35494b8cbf4a547"
          }
        },
        "d1d6f4c9b45d404380d32f51626fdfa8": {
          "model_module": "@jupyter-widgets/controls",
          "model_name": "DescriptionStyleModel",
          "model_module_version": "1.5.0",
          "state": {
            "_view_name": "StyleView",
            "_model_name": "DescriptionStyleModel",
            "description_width": "",
            "_view_module": "@jupyter-widgets/base",
            "_model_module_version": "1.5.0",
            "_view_count": null,
            "_view_module_version": "1.2.0",
            "_model_module": "@jupyter-widgets/controls"
          }
        },
        "8a70f4133ac04f69b58083e08a85fe43": {
          "model_module": "@jupyter-widgets/base",
          "model_name": "LayoutModel",
          "model_module_version": "1.2.0",
          "state": {
            "_view_name": "LayoutView",
            "grid_template_rows": null,
            "right": null,
            "justify_content": null,
            "_view_module": "@jupyter-widgets/base",
            "overflow": null,
            "_model_module_version": "1.2.0",
            "_view_count": null,
            "flex_flow": null,
            "width": null,
            "min_width": null,
            "border": null,
            "align_items": null,
            "bottom": null,
            "_model_module": "@jupyter-widgets/base",
            "top": null,
            "grid_column": null,
            "overflow_y": null,
            "overflow_x": null,
            "grid_auto_flow": null,
            "grid_area": null,
            "grid_template_columns": null,
            "flex": null,
            "_model_name": "LayoutModel",
            "justify_items": null,
            "grid_row": null,
            "max_height": null,
            "align_content": null,
            "visibility": null,
            "align_self": null,
            "height": null,
            "min_height": null,
            "padding": null,
            "grid_auto_rows": null,
            "grid_gap": null,
            "max_width": null,
            "order": null,
            "_view_module_version": "1.2.0",
            "grid_template_areas": null,
            "object_position": null,
            "object_fit": null,
            "grid_auto_columns": null,
            "margin": null,
            "display": null,
            "left": null
          }
        },
        "a0bb2560a36046f4961e6553f057b5e9": {
          "model_module": "@jupyter-widgets/controls",
          "model_name": "ProgressStyleModel",
          "model_module_version": "1.5.0",
          "state": {
            "_view_name": "StyleView",
            "_model_name": "ProgressStyleModel",
            "description_width": "",
            "_view_module": "@jupyter-widgets/base",
            "_model_module_version": "1.5.0",
            "_view_count": null,
            "_view_module_version": "1.2.0",
            "bar_color": null,
            "_model_module": "@jupyter-widgets/controls"
          }
        },
        "f588fde3b249418e87dd2da86ced137f": {
          "model_module": "@jupyter-widgets/base",
          "model_name": "LayoutModel",
          "model_module_version": "1.2.0",
          "state": {
            "_view_name": "LayoutView",
            "grid_template_rows": null,
            "right": null,
            "justify_content": null,
            "_view_module": "@jupyter-widgets/base",
            "overflow": null,
            "_model_module_version": "1.2.0",
            "_view_count": null,
            "flex_flow": null,
            "width": null,
            "min_width": null,
            "border": null,
            "align_items": null,
            "bottom": null,
            "_model_module": "@jupyter-widgets/base",
            "top": null,
            "grid_column": null,
            "overflow_y": null,
            "overflow_x": null,
            "grid_auto_flow": null,
            "grid_area": null,
            "grid_template_columns": null,
            "flex": null,
            "_model_name": "LayoutModel",
            "justify_items": null,
            "grid_row": null,
            "max_height": null,
            "align_content": null,
            "visibility": null,
            "align_self": null,
            "height": null,
            "min_height": null,
            "padding": null,
            "grid_auto_rows": null,
            "grid_gap": null,
            "max_width": null,
            "order": null,
            "_view_module_version": "1.2.0",
            "grid_template_areas": null,
            "object_position": null,
            "object_fit": null,
            "grid_auto_columns": null,
            "margin": null,
            "display": null,
            "left": null
          }
        },
        "2cb35cab55e342eb809f1cdd05a45e16": {
          "model_module": "@jupyter-widgets/controls",
          "model_name": "DescriptionStyleModel",
          "model_module_version": "1.5.0",
          "state": {
            "_view_name": "StyleView",
            "_model_name": "DescriptionStyleModel",
            "description_width": "",
            "_view_module": "@jupyter-widgets/base",
            "_model_module_version": "1.5.0",
            "_view_count": null,
            "_view_module_version": "1.2.0",
            "_model_module": "@jupyter-widgets/controls"
          }
        },
        "f9966b44e2b642c0a35494b8cbf4a547": {
          "model_module": "@jupyter-widgets/base",
          "model_name": "LayoutModel",
          "model_module_version": "1.2.0",
          "state": {
            "_view_name": "LayoutView",
            "grid_template_rows": null,
            "right": null,
            "justify_content": null,
            "_view_module": "@jupyter-widgets/base",
            "overflow": null,
            "_model_module_version": "1.2.0",
            "_view_count": null,
            "flex_flow": null,
            "width": null,
            "min_width": null,
            "border": null,
            "align_items": null,
            "bottom": null,
            "_model_module": "@jupyter-widgets/base",
            "top": null,
            "grid_column": null,
            "overflow_y": null,
            "overflow_x": null,
            "grid_auto_flow": null,
            "grid_area": null,
            "grid_template_columns": null,
            "flex": null,
            "_model_name": "LayoutModel",
            "justify_items": null,
            "grid_row": null,
            "max_height": null,
            "align_content": null,
            "visibility": null,
            "align_self": null,
            "height": null,
            "min_height": null,
            "padding": null,
            "grid_auto_rows": null,
            "grid_gap": null,
            "max_width": null,
            "order": null,
            "_view_module_version": "1.2.0",
            "grid_template_areas": null,
            "object_position": null,
            "object_fit": null,
            "grid_auto_columns": null,
            "margin": null,
            "display": null,
            "left": null
          }
        }
      }
    }
  },
  "cells": [
    {
      "cell_type": "code",
      "metadata": {
        "id": "jfS6mUAyptrV"
      },
      "source": [
        "%matplotlib inline"
      ],
      "execution_count": null,
      "outputs": []
    },
    {
      "cell_type": "markdown",
      "metadata": {
        "id": "xCFrSfR5p_tO"
      },
      "source": [
        "# Import Dependencies\n",
        "\n",
        "We begin by importing the necessary libraries."
      ]
    },
    {
      "cell_type": "code",
      "metadata": {
        "id": "t2QdAAKcqBrs"
      },
      "source": [
        "# System & OS\n",
        "import os\n",
        "import glob\n",
        "# Data Storage\n",
        "from google.colab import drive\n",
        "from zipfile import ZipFile, is_zipfile\n",
        "# Data Analysis\n",
        "import numpy as np\n",
        "import pandas as pd\n",
        "# Data Visualization\n",
        "from tqdm.notebook import tqdm\n",
        "import matplotlib.pyplot as plt"
      ],
      "execution_count": null,
      "outputs": []
    },
    {
      "cell_type": "markdown",
      "metadata": {
        "id": "pEn3ycl1qPz9"
      },
      "source": [
        "# Mount Storage\n",
        "\n",
        "For simplicity, we keep the data in a Google Drive folder, and simply mount the Google Drive to our Colab instance, as if it were a local file system."
      ]
    },
    {
      "cell_type": "code",
      "metadata": {
        "id": "mtNBFwbNqnAG",
        "colab": {
          "base_uri": "https://localhost:8080/"
        },
        "outputId": "206a39ed-41f5-4e64-da9c-23b5f8bd398a"
      },
      "source": [
        "# Mount Google Drive to Colab Instance\n",
        "drive.mount('/content/drive')\n",
        "# Change directory to where the data are stored\n",
        "%cd '/content/drive/MyDrive/Research/Ongoing/Protostellar Luminosity/Data'"
      ],
      "execution_count": null,
      "outputs": [
        {
          "output_type": "stream",
          "name": "stdout",
          "text": [
            "Mounted at /content/drive\n",
            "/content/drive/MyDrive/Research/Ongoing/Protostellar Luminosity/Data\n"
          ]
        }
      ]
    },
    {
      "cell_type": "markdown",
      "metadata": {
        "id": "ZQiT_cdLCTS2"
      },
      "source": [
        "Unzip the files, if we haven't done so already."
      ]
    },
    {
      "cell_type": "code",
      "metadata": {
        "id": "ULAGxYruDY-o",
        "colab": {
          "base_uri": "https://localhost:8080/"
        },
        "outputId": "d879ab82-6a6f-4a64-82d9-0807ea08731c"
      },
      "source": [
        "if not os.path.exists('models'):\n",
        "  file_to_extract = 'models.zip'\n",
        "\n",
        "  if os.path.exists(file_to_extract):\n",
        "      if is_zipfile(file_to_extract):\n",
        "          print(f'Valid zip file.\\nExtracting: {file_to_extract}')\n",
        "          # Read in zip file\n",
        "          with ZipFile(file_to_extract,'r') as zip_ref:\n",
        "              # Add progress bar\n",
        "              for file in tqdm(iterable=zip_ref.namelist(), total=len(zip_ref.namelist())):\n",
        "                  # Extract and store in current directory\n",
        "                  zip_ref.extract(member=file)\n",
        "      else:\n",
        "          print('Not valid zip file.')\n",
        "  else:\n",
        "      print(f'Cannot find: {file_to_extract}.')\n",
        "else:\n",
        "  print('Data ready.')"
      ],
      "execution_count": null,
      "outputs": [
        {
          "output_type": "stream",
          "name": "stdout",
          "text": [
            "Data ready.\n"
          ]
        }
      ]
    },
    {
      "cell_type": "markdown",
      "metadata": {
        "id": "JPx1957Mq1N0"
      },
      "source": [
        "# Data Analysis\n",
        "\n",
        "Define lists to store every model number, and every inclination value, as well as an empty list to store (model number, class) tuples, for later use."
      ]
    },
    {
      "cell_type": "code",
      "metadata": {
        "id": "_Clml2o2NcBv"
      },
      "source": [
        "model_num_list = ['01', '02', '10', '13', '14', '15', '16', '17', '18', '19', '20', '21', '22', '23', '24', '25', '26', '27', '28', '30', '31', '32', '33']\n",
        "inclinations = ['05', '15', '25', '35', '45', '55', '65', '75', '85']\n",
        "\n",
        "# Declare a 2D list to store tuples of (model, class) split indeces\n",
        "split_tuples = [[0 for x in range(2)] for y in range(len(model_num_list))]"
      ],
      "execution_count": null,
      "outputs": []
    },
    {
      "cell_type": "markdown",
      "metadata": {
        "id": "DuHwHtxGNm6P"
      },
      "source": [
        "We create a master file to store pertinent model data, and start by writing the header row with relevant column labels. "
      ]
    },
    {
      "cell_type": "code",
      "metadata": {
        "id": "kKVp5abdNpJK"
      },
      "source": [
        "with open('master_file.tbl', 'w') as master_file:\n",
        "  master_file.write('{:<15} {:<20} {:<15} {:<20} {:<25} {:<15}'.format('L_int', \n",
        "                                                                       'Flux', \n",
        "                                                                       'Inclination', \n",
        "                                                                       'Wavelength of flux', \n",
        "                                                                       'Internal vs Final mass', \n",
        "                                                                       'Model Number'))\n",
        "  master_file.write('\\n')\n",
        "master_file.close()"
      ],
      "execution_count": null,
      "outputs": []
    },
    {
      "cell_type": "markdown",
      "metadata": {
        "id": "Fu9u8HYScPTp"
      },
      "source": [
        "Next, loop over every model, reading in the appropriate data, and doing the necessary computations. \n",
        "\n",
        "The end result is a fully populated master file, along with some useful values stored to memory. "
      ]
    },
    {
      "cell_type": "code",
      "metadata": {
        "id": "k-en_lWZq8NS",
        "colab": {
          "base_uri": "https://localhost:8080/",
          "height": 439,
          "referenced_widgets": [
            "0f06897597c642908e6834b022b9cdc5",
            "75335cf6b5044b68b758c623dbc0e697",
            "3f93a6ee79294f57b83453bc68d700f3",
            "c24ca56d4b0446f29afd1d3982fa329e",
            "b9d60b3d8d0e4238b077c936afe3bdf5",
            "841f559651254e00888d5adccadb9734",
            "464e7911bfb74914ab9cca96daa5366d",
            "2da067fb82a5459aa79b076a4396cec3",
            "57e9a519a843453b80d7061b45093a69",
            "6900eaa8faf44678b989c93b6c583e97",
            "21830bf7383a47bebcf70fe58277f551",
            "512ac2adae654354b1fa5526783c1c8f",
            "3adef7d93823441f9b7f08d7690d79b5",
            "0d36ef8bcd8d4c03b218ca2ef268d31a",
            "c8cc7a381db047d185c1126c7a6af115",
            "60d21af8e3dd4736906cab2a7f513054",
            "d1d6f4c9b45d404380d32f51626fdfa8",
            "8a70f4133ac04f69b58083e08a85fe43",
            "a0bb2560a36046f4961e6553f057b5e9",
            "f588fde3b249418e87dd2da86ced137f",
            "2cb35cab55e342eb809f1cdd05a45e16",
            "f9966b44e2b642c0a35494b8cbf4a547"
          ]
        },
        "collapsed": true,
        "outputId": "18094ead-ef53-4d53-cdea-f7a99aa0f51c"
      },
      "source": [
        "# Loop over every model\n",
        "for i in tqdm(range(len(model_num_list))):\n",
        "  # The number of timesteps is different for each model; num_times is the result of taking the number of .dat files in each model's RESULTS directory, and dividing by the number of inclinations (to get the number of timesteps)\n",
        "  num_times = int(len(glob.glob1(f'models/run_evolpapiii_newdisk_model{model_num_list[i]}/RESULTS/','*.dat')) / len(inclinations))\n",
        "  # Then, loop from 2 (every model's initial timestep is 2) to num_times + 2 (so it stops at num_times + 1) to get a list with every timestep\n",
        "  timesteps = []\n",
        "  for a in range(2, num_times + 2):\n",
        "    timesteps.append(str(a)) \n",
        "\n",
        "  # Read in the internal luminosity data from the luminosities file\n",
        "  df = pd.read_table(f'models/luminosities_model{model_num_list[i]}.tbl', \n",
        "                     skiprows=1, \n",
        "                     delim_whitespace=True, \n",
        "                     names=['Time (Myr)',\n",
        "                            'Time-t0 (yr)',\n",
        "                            'L_EtoD (Lsun)',\n",
        "                            'L_DM (Lsun)',\n",
        "                            'L_DtoS (Lsun)',\n",
        "                            'L_EtoS (Lsun)',\n",
        "                            'L_DR (Lsun)',\n",
        "                            'L_PHOT (Lsun)',\n",
        "                            'L_INT (Lsun)'])\n",
        "  lint = df['L_INT (Lsun)']\n",
        "  # Read in the mass of the star, disk, and envelope data from the parameters file\n",
        "  df = pd.read_table(f'models/model_parameters_model{model_num_list[i]}.tbl', \n",
        "                     skiprows=1, \n",
        "                     delim_whitespace=True, \n",
        "                     names=['Time (Myr)',\n",
        "                            'Time-t0 (yr)',\n",
        "                            'Mstar (Msun)',\n",
        "                            'Lstar (Lsun)',\n",
        "                            'Rstar (Rsun)',\n",
        "                            'Tstar (K)',\n",
        "                            'Rdisk_in (AU)',\n",
        "                            'Rdisk_out (AU)',\n",
        "                            'Mdisk (Msun)',\n",
        "                            'Renv_in (AU)',\n",
        "                            'Renv_out (AU)',\n",
        "                            'Menv (Msun)',\n",
        "                            'Omega_0 (1/s)',\n",
        "                            'c_s (cm/s)'])\n",
        "  mStar, mDisk, mEnv = df['Mstar (Msun)'], df['Mdisk (Msun)'], df['Menv (Msun)']\n",
        "  # Initialize variables to store class split index, and to keep track of the number of \"missing\" timesteps across all models\n",
        "  split, missing_timesteps = 0, 0\n",
        "\n",
        "  # Open master file to write in pertinent data\n",
        "  with open(\"master_file.tbl\", 'a') as master_file:\n",
        "    # Initialize inner progress bar\n",
        "    with tqdm(total=len(timesteps)*len(inclinations), leave=False) as pbar:\n",
        "      # Loop over every spectrum file\n",
        "      for b in range(len(timesteps)):  \n",
        "        for c in range(len(inclinations)):\n",
        "          # Read in the frequency and flux data from the spectrum file\n",
        "          if os.path.isfile(f'models/run_evolpapiii_newdisk_model{model_num_list[i]}/RESULTS/spectrum_{timesteps[b]}_inc{inclinations[c]}.dat') == True: \n",
        "            df = pd.read_table(f'models/run_evolpapiii_newdisk_model{model_num_list[i]}/RESULTS/spectrum_{timesteps[b]}_inc{inclinations[c]}.dat', \n",
        "                              skiprows=2, \n",
        "                              delim_whitespace=True, \n",
        "                              names=['Frequency',\n",
        "                                      'Flux'])\n",
        "            frequency, flux = df['Frequency'], df['Flux']\n",
        "            # Adjust flux data to be consistent with Dunham's previous work\n",
        "            for d in range(len(flux)):\n",
        "              flux[d] = flux[d] * frequency[d] * (1.0 / 140.0)**2\n",
        "            # Loop over every frequency value, to find the wavelength closest to 70 microns\n",
        "            min = 0\n",
        "            for e in range(len(frequency)):\n",
        "              wavelength_test = 2.99792458e14 / frequency[e]\n",
        "              min_test = abs(70 - wavelength_test)\n",
        "              if(min == 0) or (min_test < min):\n",
        "                min = min_test\n",
        "                wavelength = wavelength_test\n",
        "                index = e\n",
        "            # Writing data\n",
        "            master_file.write('{:<15} {:<20} {:<15} {:<20} {:<25} {:<15}'.format(lint[int(timesteps[b]) - 1], flux[index], inclinations[c], wavelength, (mStar[b] + mDisk[b]) / (mStar[b] + mDisk[b] + mEnv[b]), model_num_list[i]))\n",
        "            master_file.write('\\n')\n",
        "            # Find the point (index) where the star goes from class 0 to 1\n",
        "            if split == 0:\n",
        "              if (mStar[b] + mDisk[b]) / (mStar[b] + mDisk[b] + mEnv[b]) >= 0.5:\n",
        "                split_tuples[i][1] = b * len(inclinations)\n",
        "          else:\n",
        "            missing_timesteps += 1\n",
        "          # Update inner progress bar\n",
        "          pbar.update(1)\n",
        "  master_file.close()\n",
        "\n",
        "  # Find the point (index) where the current model ends\n",
        "  if i == 0:\n",
        "      split_tuples[i][0] = len(timesteps) * len(inclinations) - missing_timesteps\n",
        "  else:\n",
        "      split_tuples[i][0] = split_tuples[i - 1][0] + len(timesteps) * len(inclinations) - missing_timesteps"
      ],
      "execution_count": null,
      "outputs": [
        {
          "output_type": "display_data",
          "data": {
            "application/vnd.jupyter.widget-view+json": {
              "model_id": "0f06897597c642908e6834b022b9cdc5",
              "version_minor": 0,
              "version_major": 2
            },
            "text/plain": [
              "  0%|          | 0/23 [00:00<?, ?it/s]"
            ]
          },
          "metadata": {}
        },
        {
          "output_type": "display_data",
          "data": {
            "application/vnd.jupyter.widget-view+json": {
              "model_id": "512ac2adae654354b1fa5526783c1c8f",
              "version_minor": 0,
              "version_major": 2
            },
            "text/plain": [
              "  0%|          | 0/846 [00:00<?, ?it/s]"
            ]
          },
          "metadata": {}
        },
        {
          "output_type": "error",
          "ename": "KeyboardInterrupt",
          "evalue": "ignored",
          "traceback": [
            "\u001b[0;31m---------------------------------------------------------------------------\u001b[0m",
            "\u001b[0;31mKeyboardInterrupt\u001b[0m                         Traceback (most recent call last)",
            "\u001b[0;32m<ipython-input-7-d8278cfe963b>\u001b[0m in \u001b[0;36m<module>\u001b[0;34m()\u001b[0m\n\u001b[1;32m     57\u001b[0m                               \u001b[0mdelim_whitespace\u001b[0m\u001b[0;34m=\u001b[0m\u001b[0;32mTrue\u001b[0m\u001b[0;34m,\u001b[0m\u001b[0;34m\u001b[0m\u001b[0;34m\u001b[0m\u001b[0m\n\u001b[1;32m     58\u001b[0m                               names=['Frequency',\n\u001b[0;32m---> 59\u001b[0;31m                                       'Flux'])\n\u001b[0m\u001b[1;32m     60\u001b[0m             \u001b[0mfrequency\u001b[0m\u001b[0;34m,\u001b[0m \u001b[0mflux\u001b[0m \u001b[0;34m=\u001b[0m \u001b[0mdf\u001b[0m\u001b[0;34m[\u001b[0m\u001b[0;34m'Frequency'\u001b[0m\u001b[0;34m]\u001b[0m\u001b[0;34m,\u001b[0m \u001b[0mdf\u001b[0m\u001b[0;34m[\u001b[0m\u001b[0;34m'Flux'\u001b[0m\u001b[0;34m]\u001b[0m\u001b[0;34m\u001b[0m\u001b[0;34m\u001b[0m\u001b[0m\n\u001b[1;32m     61\u001b[0m             \u001b[0;31m# Adjust flux data to be consistent with Dunham's previous work\u001b[0m\u001b[0;34m\u001b[0m\u001b[0;34m\u001b[0m\u001b[0;34m\u001b[0m\u001b[0m\n",
            "\u001b[0;32m/usr/local/lib/python3.7/dist-packages/pandas/io/parsers.py\u001b[0m in \u001b[0;36mread_table\u001b[0;34m(filepath_or_buffer, sep, delimiter, header, names, index_col, usecols, squeeze, prefix, mangle_dupe_cols, dtype, engine, converters, true_values, false_values, skipinitialspace, skiprows, skipfooter, nrows, na_values, keep_default_na, na_filter, verbose, skip_blank_lines, parse_dates, infer_datetime_format, keep_date_col, date_parser, dayfirst, cache_dates, iterator, chunksize, compression, thousands, decimal, lineterminator, quotechar, quoting, doublequote, escapechar, comment, encoding, dialect, error_bad_lines, warn_bad_lines, delim_whitespace, low_memory, memory_map, float_precision)\u001b[0m\n\u001b[1;32m    765\u001b[0m         \u001b[0;31m# default to avoid a ValueError\u001b[0m\u001b[0;34m\u001b[0m\u001b[0;34m\u001b[0m\u001b[0;34m\u001b[0m\u001b[0m\n\u001b[1;32m    766\u001b[0m         \u001b[0msep\u001b[0m \u001b[0;34m=\u001b[0m \u001b[0;34m\",\"\u001b[0m\u001b[0;34m\u001b[0m\u001b[0;34m\u001b[0m\u001b[0m\n\u001b[0;32m--> 767\u001b[0;31m     \u001b[0;32mreturn\u001b[0m \u001b[0mread_csv\u001b[0m\u001b[0;34m(\u001b[0m\u001b[0;34m**\u001b[0m\u001b[0mlocals\u001b[0m\u001b[0;34m(\u001b[0m\u001b[0;34m)\u001b[0m\u001b[0;34m)\u001b[0m\u001b[0;34m\u001b[0m\u001b[0;34m\u001b[0m\u001b[0m\n\u001b[0m\u001b[1;32m    768\u001b[0m \u001b[0;34m\u001b[0m\u001b[0m\n\u001b[1;32m    769\u001b[0m \u001b[0;34m\u001b[0m\u001b[0m\n",
            "\u001b[0;32m/usr/local/lib/python3.7/dist-packages/pandas/io/parsers.py\u001b[0m in \u001b[0;36mread_csv\u001b[0;34m(filepath_or_buffer, sep, delimiter, header, names, index_col, usecols, squeeze, prefix, mangle_dupe_cols, dtype, engine, converters, true_values, false_values, skipinitialspace, skiprows, skipfooter, nrows, na_values, keep_default_na, na_filter, verbose, skip_blank_lines, parse_dates, infer_datetime_format, keep_date_col, date_parser, dayfirst, cache_dates, iterator, chunksize, compression, thousands, decimal, lineterminator, quotechar, quoting, doublequote, escapechar, comment, encoding, dialect, error_bad_lines, warn_bad_lines, delim_whitespace, low_memory, memory_map, float_precision)\u001b[0m\n\u001b[1;32m    686\u001b[0m     )\n\u001b[1;32m    687\u001b[0m \u001b[0;34m\u001b[0m\u001b[0m\n\u001b[0;32m--> 688\u001b[0;31m     \u001b[0;32mreturn\u001b[0m \u001b[0m_read\u001b[0m\u001b[0;34m(\u001b[0m\u001b[0mfilepath_or_buffer\u001b[0m\u001b[0;34m,\u001b[0m \u001b[0mkwds\u001b[0m\u001b[0;34m)\u001b[0m\u001b[0;34m\u001b[0m\u001b[0;34m\u001b[0m\u001b[0m\n\u001b[0m\u001b[1;32m    689\u001b[0m \u001b[0;34m\u001b[0m\u001b[0m\n\u001b[1;32m    690\u001b[0m \u001b[0;34m\u001b[0m\u001b[0m\n",
            "\u001b[0;32m/usr/local/lib/python3.7/dist-packages/pandas/io/parsers.py\u001b[0m in \u001b[0;36m_read\u001b[0;34m(filepath_or_buffer, kwds)\u001b[0m\n\u001b[1;32m    452\u001b[0m \u001b[0;34m\u001b[0m\u001b[0m\n\u001b[1;32m    453\u001b[0m     \u001b[0;31m# Create the parser.\u001b[0m\u001b[0;34m\u001b[0m\u001b[0;34m\u001b[0m\u001b[0;34m\u001b[0m\u001b[0m\n\u001b[0;32m--> 454\u001b[0;31m     \u001b[0mparser\u001b[0m \u001b[0;34m=\u001b[0m \u001b[0mTextFileReader\u001b[0m\u001b[0;34m(\u001b[0m\u001b[0mfp_or_buf\u001b[0m\u001b[0;34m,\u001b[0m \u001b[0;34m**\u001b[0m\u001b[0mkwds\u001b[0m\u001b[0;34m)\u001b[0m\u001b[0;34m\u001b[0m\u001b[0;34m\u001b[0m\u001b[0m\n\u001b[0m\u001b[1;32m    455\u001b[0m \u001b[0;34m\u001b[0m\u001b[0m\n\u001b[1;32m    456\u001b[0m     \u001b[0;32mif\u001b[0m \u001b[0mchunksize\u001b[0m \u001b[0;32mor\u001b[0m \u001b[0miterator\u001b[0m\u001b[0;34m:\u001b[0m\u001b[0;34m\u001b[0m\u001b[0;34m\u001b[0m\u001b[0m\n",
            "\u001b[0;32m/usr/local/lib/python3.7/dist-packages/pandas/io/parsers.py\u001b[0m in \u001b[0;36m__init__\u001b[0;34m(self, f, engine, **kwds)\u001b[0m\n\u001b[1;32m    946\u001b[0m             \u001b[0mself\u001b[0m\u001b[0;34m.\u001b[0m\u001b[0moptions\u001b[0m\u001b[0;34m[\u001b[0m\u001b[0;34m\"has_index_names\"\u001b[0m\u001b[0;34m]\u001b[0m \u001b[0;34m=\u001b[0m \u001b[0mkwds\u001b[0m\u001b[0;34m[\u001b[0m\u001b[0;34m\"has_index_names\"\u001b[0m\u001b[0;34m]\u001b[0m\u001b[0;34m\u001b[0m\u001b[0;34m\u001b[0m\u001b[0m\n\u001b[1;32m    947\u001b[0m \u001b[0;34m\u001b[0m\u001b[0m\n\u001b[0;32m--> 948\u001b[0;31m         \u001b[0mself\u001b[0m\u001b[0;34m.\u001b[0m\u001b[0m_make_engine\u001b[0m\u001b[0;34m(\u001b[0m\u001b[0mself\u001b[0m\u001b[0;34m.\u001b[0m\u001b[0mengine\u001b[0m\u001b[0;34m)\u001b[0m\u001b[0;34m\u001b[0m\u001b[0;34m\u001b[0m\u001b[0m\n\u001b[0m\u001b[1;32m    949\u001b[0m \u001b[0;34m\u001b[0m\u001b[0m\n\u001b[1;32m    950\u001b[0m     \u001b[0;32mdef\u001b[0m \u001b[0mclose\u001b[0m\u001b[0;34m(\u001b[0m\u001b[0mself\u001b[0m\u001b[0;34m)\u001b[0m\u001b[0;34m:\u001b[0m\u001b[0;34m\u001b[0m\u001b[0;34m\u001b[0m\u001b[0m\n",
            "\u001b[0;32m/usr/local/lib/python3.7/dist-packages/pandas/io/parsers.py\u001b[0m in \u001b[0;36m_make_engine\u001b[0;34m(self, engine)\u001b[0m\n\u001b[1;32m   1178\u001b[0m     \u001b[0;32mdef\u001b[0m \u001b[0m_make_engine\u001b[0m\u001b[0;34m(\u001b[0m\u001b[0mself\u001b[0m\u001b[0;34m,\u001b[0m \u001b[0mengine\u001b[0m\u001b[0;34m=\u001b[0m\u001b[0;34m\"c\"\u001b[0m\u001b[0;34m)\u001b[0m\u001b[0;34m:\u001b[0m\u001b[0;34m\u001b[0m\u001b[0;34m\u001b[0m\u001b[0m\n\u001b[1;32m   1179\u001b[0m         \u001b[0;32mif\u001b[0m \u001b[0mengine\u001b[0m \u001b[0;34m==\u001b[0m \u001b[0;34m\"c\"\u001b[0m\u001b[0;34m:\u001b[0m\u001b[0;34m\u001b[0m\u001b[0;34m\u001b[0m\u001b[0m\n\u001b[0;32m-> 1180\u001b[0;31m             \u001b[0mself\u001b[0m\u001b[0;34m.\u001b[0m\u001b[0m_engine\u001b[0m \u001b[0;34m=\u001b[0m \u001b[0mCParserWrapper\u001b[0m\u001b[0;34m(\u001b[0m\u001b[0mself\u001b[0m\u001b[0;34m.\u001b[0m\u001b[0mf\u001b[0m\u001b[0;34m,\u001b[0m \u001b[0;34m**\u001b[0m\u001b[0mself\u001b[0m\u001b[0;34m.\u001b[0m\u001b[0moptions\u001b[0m\u001b[0;34m)\u001b[0m\u001b[0;34m\u001b[0m\u001b[0;34m\u001b[0m\u001b[0m\n\u001b[0m\u001b[1;32m   1181\u001b[0m         \u001b[0;32melse\u001b[0m\u001b[0;34m:\u001b[0m\u001b[0;34m\u001b[0m\u001b[0;34m\u001b[0m\u001b[0m\n\u001b[1;32m   1182\u001b[0m             \u001b[0;32mif\u001b[0m \u001b[0mengine\u001b[0m \u001b[0;34m==\u001b[0m \u001b[0;34m\"python\"\u001b[0m\u001b[0;34m:\u001b[0m\u001b[0;34m\u001b[0m\u001b[0;34m\u001b[0m\u001b[0m\n",
            "\u001b[0;32m/usr/local/lib/python3.7/dist-packages/pandas/io/parsers.py\u001b[0m in \u001b[0;36m__init__\u001b[0;34m(self, src, **kwds)\u001b[0m\n\u001b[1;32m   2008\u001b[0m         \u001b[0mkwds\u001b[0m\u001b[0;34m[\u001b[0m\u001b[0;34m\"usecols\"\u001b[0m\u001b[0;34m]\u001b[0m \u001b[0;34m=\u001b[0m \u001b[0mself\u001b[0m\u001b[0;34m.\u001b[0m\u001b[0musecols\u001b[0m\u001b[0;34m\u001b[0m\u001b[0;34m\u001b[0m\u001b[0m\n\u001b[1;32m   2009\u001b[0m \u001b[0;34m\u001b[0m\u001b[0m\n\u001b[0;32m-> 2010\u001b[0;31m         \u001b[0mself\u001b[0m\u001b[0;34m.\u001b[0m\u001b[0m_reader\u001b[0m \u001b[0;34m=\u001b[0m \u001b[0mparsers\u001b[0m\u001b[0;34m.\u001b[0m\u001b[0mTextReader\u001b[0m\u001b[0;34m(\u001b[0m\u001b[0msrc\u001b[0m\u001b[0;34m,\u001b[0m \u001b[0;34m**\u001b[0m\u001b[0mkwds\u001b[0m\u001b[0;34m)\u001b[0m\u001b[0;34m\u001b[0m\u001b[0;34m\u001b[0m\u001b[0m\n\u001b[0m\u001b[1;32m   2011\u001b[0m         \u001b[0mself\u001b[0m\u001b[0;34m.\u001b[0m\u001b[0munnamed_cols\u001b[0m \u001b[0;34m=\u001b[0m \u001b[0mself\u001b[0m\u001b[0;34m.\u001b[0m\u001b[0m_reader\u001b[0m\u001b[0;34m.\u001b[0m\u001b[0munnamed_cols\u001b[0m\u001b[0;34m\u001b[0m\u001b[0;34m\u001b[0m\u001b[0m\n\u001b[1;32m   2012\u001b[0m \u001b[0;34m\u001b[0m\u001b[0m\n",
            "\u001b[0;31mKeyboardInterrupt\u001b[0m: "
          ]
        }
      ]
    },
    {
      "cell_type": "code",
      "metadata": {
        "id": "aPdvGULKWNN0"
      },
      "source": [
        "with open('split_tuples.tbl', 'w') as f:\n",
        "  for i in range(len(split_tuples)):\n",
        "    f.write(f'{split_tuples[i][0]}, {split_tuples[i][1]}\\n')\n",
        "f.close()"
      ],
      "execution_count": null,
      "outputs": []
    },
    {
      "cell_type": "markdown",
      "metadata": {
        "id": "fcd-6TdlN5o9"
      },
      "source": [
        "# Data Visualization\n",
        "\n",
        "To start the visualization process, we first read back in the data from our master files."
      ]
    },
    {
      "cell_type": "code",
      "metadata": {
        "id": "sf_2wTQZc9sP"
      },
      "source": [
        "df = pd.read_table('master_file.tbl', skiprows=1, delim_whitespace=True, names=['L_int', \n",
        "                                                                                'Flux', \n",
        "                                                                                'Inclination', \n",
        "                                                                                'Wavelength of flux', \n",
        "                                                                                'Internal vs Final mass', \n",
        "                                                                                'Model Number'])\n",
        "lint_master, flux_master = df['L_int'].values.tolist(), df['Flux'].values.tolist()\n",
        "df = pd.read_table('split_tuples.tbl', delim_whitespace=True, names=['Model', \n",
        "                                                                     'Class'])\n",
        "split_tuples = df.values.tolist()\n",
        "# Initialize master lists to store all class 0 and 1 data\n",
        "lint_master_0, flux_master_0, lint_master_1, flux_master_1, lint_master_log, flux_master_log, lint_master_0_log, flux_master_0_log, lint_master_1_log, flux_master_1_log = [], [], [], [], [], [], [], [], [], []"
      ],
      "execution_count": null,
      "outputs": []
    },
    {
      "cell_type": "markdown",
      "metadata": {
        "id": "JwQez_b6dC4q"
      },
      "source": [
        "Then, loop over each model's data, making 3 plots each (Class 0, Class 1, and Class 0 & 1), all fitted with a linear regression."
      ]
    },
    {
      "cell_type": "markdown",
      "metadata": {
        "id": "_MYzLjpREjHd"
      },
      "source": [
        "---\n",
        "\n",
        "# Omit linear regression for now and just make plots. Could error be in `np.logspace()` instead of `np.linspace()`? Could also be the ranges, i.e. not `[1e-8, 1e+2]`?"
      ]
    },
    {
      "cell_type": "code",
      "metadata": {
        "id": "n5bfedqAN5yO"
      },
      "source": [
        "# Loop over each tuple in the 2D list split_tuples, such that we consdier only one model at a time\n",
        "for j in tqdm(range(len(model_num_list))):\n",
        "  # Split out appropriate internal luminosity and flux data\n",
        "  if j == 0:\n",
        "    lint, flux = lint_master[:split_tuples[j][0]], flux_master[:split_tuples[j][0]]\n",
        "  else:\n",
        "    lint, flux = lint_master[split_tuples[j - 1][0]:split_tuples[j][0]], flux_master[split_tuples[j - 1][0]:split_tuples[j][0]]\n",
        "  # Split data into class 0 and 1\n",
        "  lint_0, flux_0, lint_1, flux_1 = lint[:split_tuples[j][1]], flux[:split_tuples[j][1]], lint[split_tuples[j][1]:], flux[split_tuples[j][1]:]\n",
        "  # Take the log (base 10) of each flux and internal luminosity list\n",
        "  lint_log, flux_log, lint_0_log, flux_0_log, lint_1_log, flux_1_log = np.log10(lint), np.log10(flux), np.log10(lint_0), np.log10(flux_0), np.log10(lint_1), np.log10(flux_1)\n",
        "  # Add data to master lists\n",
        "  lint_master_0.extend(lint_0)\n",
        "  flux_master_0.extend(flux_0)\n",
        "  lint_master_1.extend(lint_1)\n",
        "  flux_master_1.extend(flux_1)\n",
        "  lint_master_log.extend(lint_log)\n",
        "  flux_master_log.extend(flux_log)\n",
        "  lint_master_0_log.extend(lint_0_log)\n",
        "  flux_master_0_log.extend(flux_0_log)\n",
        "  lint_master_1_log.extend(lint_1_log)\n",
        "  flux_master_1_log.extend(flux_1_log)\n",
        "\n",
        "  # Make flux vs internal luminosity plots, starting first with Class 0 & 1\n",
        "  plt.scatter(lint, flux)\n",
        "  plt.title(f'Model {model_num_list[j]} Flux vs Internal Luminosity (Class 0 & 1)')\n",
        "  plt.xlabel('Internal Luminosity (L$_{sun}$)')\n",
        "  plt.ylabel('Flux (erg cm$^{-2}$ s$^{-1}$)')\n",
        "  plt.xscale('log')\n",
        "  plt.yscale('log')\n",
        "  # # Plot linear regression, where we only consider internal luminosity values >= 0.1\n",
        "  # split_lin_reg = 0\n",
        "  # for f in range(len(lint)):\n",
        "  #   if split_lin_reg == 0:\n",
        "  #     if lint[f] >= 0.1:   \n",
        "  #       split_lin_reg = f\n",
        "  # # Split the logged data such that internal luminosity values < 0.1 are rejected\n",
        "  # lint_log_lin_reg, flux_log_lin_reg = lint_log[split_lin_reg:], flux_log[split_lin_reg:]\n",
        "  # # Fit the linear regression to the logged data, yielding a slope and intercept (keeping in mind to plot against linear data)\n",
        "  # m, b = np.polyfit(lint_log_lin_reg, flux_log_lin_reg, 1)\n",
        "  # L = np.logspace(10 ** -8, 10 ** 2, 846)\n",
        "  # F = (10 ** b) * (L ** m)\n",
        "  # plt.plot(L, F, color='k')\n",
        "  # plt.legend(['Linear regression'])\n",
        "  # # Save plot\n",
        "  plt.savefig(f'Figures/model_{model_num_list[j]}_flux_vs_lint.eps')\n",
        "  \n",
        "  # Next, for Class 0\n",
        "  plt.scatter(lint_0, flux_0)\n",
        "  plt.title(f'Model {model_num_list[j]} Flux vs Internal Luminosity (Class 0)')\n",
        "  plt.xlabel('Internal Luminosity (L$_{sun}$)')\n",
        "  plt.ylabel('Flux (erg cm$^{-2}$ s$^{-1}$)')\n",
        "  plt.xscale('log')\n",
        "  plt.yscale('log')\n",
        "  # # Plot linear regression, where we only consider internal luminosity values >= 0.1\n",
        "  # split_lin_reg = 0\n",
        "  # for g in range(len(lint_0)):\n",
        "  #   if split_lin_reg == 0:\n",
        "  #     if lint_0[g] >= 0.1:\n",
        "  #       split_lin_reg = g\n",
        "  # # Split the logged data such that internal luminosity values < 0.1 are rejected\n",
        "  # lint_0_log_lin_reg, flux_0_log_lin_reg = lint_0_log[split_lin_reg:], flux_0_log[split_lin_reg:]\n",
        "  # # Fit the linear regression to the logged data, yielding a slope and intercept (keeping in mind to plot against linear data)\n",
        "  # m, b = np.polyfit(lint_0_log_lin_reg, flux_0_log_lin_reg, 1)\n",
        "  # L = np.logspace(10 ** -8, 10 ** 2, 846)\n",
        "  # F = (10 ** b) * (L ** m)\n",
        "  # plt.plot(L, F, color='k')\n",
        "  # plt.legend(['Linear regression'])\n",
        "  # # Save plot\n",
        "  plt.savefig(f'Figures/model_{model_num_list[j]}_flux_vs_lint_class0.eps')\n",
        "\n",
        "  # Finally, for class 1\n",
        "  plt.scatter(lint_1, flux_1)\n",
        "  plt.title(f'Model {model_num_list[j]} Flux vs Internal Luminosity (Class 1)')\n",
        "  plt.xlabel('Internal Luminosity (L$_{sun}$)')\n",
        "  plt.ylabel('Flux (erg cm$^{-2}$ s$^{-1}$)')\n",
        "  plt.xscale('log')\n",
        "  plt.yscale('log')\n",
        "  # # Plot linear regression, where we note that all internal luminosity values are >= 0.1, meaning we can simply fit the linear regression to the logged data, yielding a slope and intercept (keeping in mind to plot against linear data)\n",
        "  # m, b = np.polyfit(lint_1_log, flux_1_log, 1)\n",
        "  # L = np.logspace(10 ** -8, 10 ** 2, 846)\n",
        "  # F = (10 ** b) * (L ** m)\n",
        "  # plt.plot(L, F, color='k')\n",
        "  # plt.legend(['Linear regression'])\n",
        "  # # Save plot\n",
        "  plt.savefig(f'Figures/model_{model_num_list[j]}_flux_vs_lint_class1.eps')"
      ],
      "execution_count": null,
      "outputs": []
    },
    {
      "cell_type": "markdown",
      "metadata": {
        "id": "mgYJSLV1dXra"
      },
      "source": [
        "Finally, make 3 master plots containing all the data from every single model (Class 0, Class 1, and Class 0 & 1), again fitting a linear regression to each."
      ]
    },
    {
      "cell_type": "code",
      "metadata": {
        "id": "wJbpRw10gU_Y"
      },
      "source": [
        "# Class 0 & 1\n",
        "plt.scatter(lint_master, flux_master)\n",
        "plt.title('All Models Flux vs Internal Luminosity (Class 0 & 1)')\n",
        "plt.xlabel('Internal Luminosity (L$_{sun}$)')\n",
        "plt.ylabel('Flux (erg cm$^{-2}$ s$^{-1}$)')\n",
        "plt.xscale('log')\n",
        "plt.yscale('log')\n",
        "# # Plot linear regression, where we only consider internal luminosity values >= 0.1\n",
        "# split_lin_reg = 0\n",
        "# for h in range(len(lint_master)):\n",
        "#   if split_lin_reg == 0:\n",
        "#     if lint_master[h] >= 0.1:   \n",
        "#       split_lin_reg = h\n",
        "# # Split the logged data such that internal luminosity values < 0.1 are rejected\n",
        "# lint_master_log_lin_reg, flux_master_log_lin_reg = lint_master_log[split_lin_reg:], flux_master_log[split_lin_reg:]\n",
        "# # Fit the linear regression to the logged data, yielding a slope and intercept (keeping in mind to plot against linear data)\n",
        "# m, b = np.polyfit(lint_master_log_lin_reg, flux_master_log_lin_reg, 1)\n",
        "# L = np.logspace(10 ** -8, 10 ** 2, 846)\n",
        "# F = (10 ** b) * (L ** m)\n",
        "# plt.plot(L, F, color='k')\n",
        "# plt.legend(['Linear regression'])\n",
        "# # Save plot\n",
        "plt.savefig('Figures/master_flux_vs_lint.eps')\n",
        "\n",
        "# Class 0 \n",
        "plt.scatter(lint_master_0, flux_master_0)\n",
        "plt.title('All Models Flux vs Internal Luminosity (Class 0)')\n",
        "plt.xlabel('Internal Luminosity (L$_{sun}$)')\n",
        "plt.ylabel('Flux (erg cm$^{-2}$ s$^{-1}$)')\n",
        "plt.xscale('log')\n",
        "plt.yscale('log')\n",
        "# # Plot linear regression, where we only consider internal luminosity values >= 0.1\n",
        "# split_lin_reg = 0\n",
        "# for i in range(len(lint_master_0)):\n",
        "#   if split_lin_reg == 0:\n",
        "#     if lint_master_0[i] >= 0.1:\n",
        "#       split_lin_reg = i\n",
        "# # Split the logged data such that internal luminosity values < 0.1 are rejected\n",
        "# lint_master_0_log_lin_reg, flux_master_0_log_lin_reg = lint_master_0_log[split_lin_reg:], flux_master_0_log[split_lin_reg:]\n",
        "# # Fit the linear regression to the logged data, yielding a slope and intercept (keeping in mind to plot against linear data)\n",
        "# m, b = np.polyfit(lint_master_0_log_lin_reg, flux_master_0_log_lin_reg, 1)\n",
        "# L = np.logspace(10 ** -8, 10 ** 2, 846)\n",
        "# F = (10 ** b) * (L ** m)\n",
        "# plt.plot(L, F, color='k')\n",
        "# plt.legend(['Linear regression'])\n",
        "# # Save plot\n",
        "plt.savefig('Figures/master_flux_vs_lint_class0.eps')\n",
        "\n",
        "# Class 1\n",
        "plt.scatter(lint_master_1, flux_master_1)\n",
        "plt.title('All Models Flux vs Internal Luminosity (Class 1)')\n",
        "plt.xlabel('Internal Luminosity (L$_{sun}$)')\n",
        "plt.ylabel('Flux (erg cm$^{-2}$ s$^{-1}$)')\n",
        "plt.xscale('log')\n",
        "plt.yscale('log')\n",
        "# # Plot linear regression, where we note that all internal luminosity values are >= 0.1, meaning we can simply fit the linear regression to the logged data, yielding a slope and intercept (keeping in mind to plot against linear data)\n",
        "# m, b = np.polyfit(lint_master_1_log, flux_master_1_log, 1)\n",
        "# L = np.logspace(10 ** -8, 10 ** 2, 846)\n",
        "# F = (10 ** b) * (L ** m)\n",
        "# plt.plot(L, F, color='k')\n",
        "# plt.legend(['Linear regression'])\n",
        "# # Save plot\n",
        "plt.savefig('Figures/master_flux_vs_lint_class1.eps')"
      ],
      "execution_count": null,
      "outputs": []
    }
  ]
}